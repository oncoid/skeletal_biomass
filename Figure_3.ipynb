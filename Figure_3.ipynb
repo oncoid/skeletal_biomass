{
 "cells": [
  {
   "cell_type": "code",
   "execution_count": 1,
   "id": "abced03e",
   "metadata": {},
   "outputs": [
    {
     "name": "stdout",
     "output_type": "stream",
     "text": [
      "Intel MKL WARNING: Support of Intel(R) Streaming SIMD Extensions 4.2 (Intel(R) SSE4.2) enabled only processors has been deprecated. Intel oneAPI Math Kernel Library 2025.0 will require Intel(R) Advanced Vector Extensions (Intel(R) AVX) instructions.\n",
      "Intel MKL WARNING: Support of Intel(R) Streaming SIMD Extensions 4.2 (Intel(R) SSE4.2) enabled only processors has been deprecated. Intel oneAPI Math Kernel Library 2025.0 will require Intel(R) Advanced Vector Extensions (Intel(R) AVX) instructions.\n"
     ]
    }
   ],
   "source": [
    "import numpy as np\n",
    "import pandas as pd\n",
    "import plotly.graph_objects as go\n",
    "from plotly.subplots import make_subplots\n",
    "import plotly.express as px\n",
    "\n",
    "import utils\n",
    "import plot_utils"
   ]
  },
  {
   "cell_type": "markdown",
   "id": "6942fd4c",
   "metadata": {},
   "source": [
    "# Read data"
   ]
  },
  {
   "cell_type": "code",
   "execution_count": 2,
   "id": "5816f1d6",
   "metadata": {},
   "outputs": [],
   "source": [
    "## Skeletal data\n",
    "\n",
    "data_file = './data/paleo_meso_ceno_data_paleogeography_epoch.csv'\n",
    "data = pd.read_csv(data_file)\n",
    "data = data.sort_values(by=['mean_ma'], ascending=False)\n",
    "\n",
    "time_file = './data/timeScale.xlsx'\n",
    "time = pd.read_excel(time_file,sheet_name='Sheet1')\n",
    "time_period = utils.get_timesubset(time,3,541)\n",
    "width_period = [time_period['max_ma'][i] - time_period['min_ma'][i] for i in list(time_period.index)]\n",
    "\n",
    "time_epoch = utils.get_timesubset(time,4,541)\n",
    "width_epoch = [time_epoch['max_ma'][i] - time_epoch['min_ma'][i] for i in list(time_epoch.index)]"
   ]
  },
  {
   "cell_type": "code",
   "execution_count": 3,
   "id": "4c885aa5",
   "metadata": {
    "scrolled": true
   },
   "outputs": [],
   "source": [
    "#Animal biomass\n",
    "animals = {'brachiopoda':['brachiopods'],\n",
    " 'molluska':['gastropods','bivalves','molluska','cephalopods'],\n",
    " 'echinodermata':['echinoids', 'crinoids','echinoderm'],\n",
    " 'porifera':['sponges', 'sponges_silica','sponges_archaeocyath', 'sponges_calc'],\n",
    " 'cnidaria':['sclerec_corals','rugose_corals', 'corals'],\n",
    " 'arthropoda':['trilobite', 'ostracods', 'barnacles'],\n",
    "          'bryozoa':['bryozoans']}\n",
    "\n",
    "\n",
    "time_scale = 'epoch'\n",
    "\n",
    "unique_time = np.unique(data[time_scale])\n",
    "abundance_mean = []\n",
    "abundance_time = []\n",
    "abundance_animal = []\n",
    "for t in unique_time:\n",
    "    temp = data[data[time_scale] == t].copy()\n",
    "    for a in animals.keys():\n",
    "        total_abundance = temp[animals[a]].sum(axis=1).sum()\n",
    "        total_samples = temp['numberOfSamples'].sum()\n",
    "        abundance_mean.append(total_abundance/total_samples)\n",
    "        abundance_animal.append(a)\n",
    "        abundance_time.append(t)\n",
    "        \n",
    "df = pd.DataFrame({'animal':abundance_animal,'time':abundance_time,'abundance':abundance_mean})\n",
    "\n",
    "df = utils.get_mean_time(time_epoch,df,'time')\n",
    "unique_time = df.time.unique()\n",
    "\n",
    "abundance_percent = []\n",
    "for t in unique_time:\n",
    "    temp = df[df.time == t]\n",
    "    for _,dat in temp.iterrows():\n",
    "        abundance_percent.append(100*dat.abundance/temp.abundance.sum())\n",
    "\n",
    "df['abundance_percent'] = abundance_percent\n"
   ]
  },
  {
   "cell_type": "code",
   "execution_count": 4,
   "id": "0ef7ebe6",
   "metadata": {},
   "outputs": [],
   "source": [
    "time_scale = 'epoch'\n",
    "\n",
    "data_animal = utils.get_stats(data,'total_animals_new',time_scale)\n",
    "data_protist = utils.get_stats(data,'total_protists_new',time_scale)\n",
    "data_algamicro = utils.get_stats(data,'total_alga_new',time_scale)\n",
    "\n",
    "data_animal = data_animal.sort_values(by=['time'], ascending=True)\n",
    "data_protist = data_protist.sort_values(by=['time'], ascending=True)\n",
    "data_algamicro = data_algamicro.sort_values(by=['time'], ascending=True)\n",
    "\n",
    "data_animal['skeletal_grain'] = 'animal'\n",
    "data_protist['skeletal_grain'] = 'protist'\n",
    "data_algamicro['skeletal_grain'] = 'algamicro'\n",
    "\n",
    "data_skeletalgrain = pd.concat([data_animal,data_protist, data_algamicro])\n",
    "data_skeletalgrain = utils.get_mean_time(time_epoch,data_skeletalgrain,time_scale)\n",
    "unique_time_data = data_skeletalgrain[time_scale].unique()\n",
    "\n",
    "data_abundance_percent = []\n",
    "for t in unique_time_data:\n",
    "    temp = data_skeletalgrain[data_skeletalgrain[time_scale] == t]\n",
    "    for _,dat in temp.iterrows():\n",
    "        data_abundance_percent.append(100*dat['mean']/temp['mean'].sum())\n",
    "\n",
    "data_skeletalgrain['abundance_percent'] = data_abundance_percent"
   ]
  },
  {
   "cell_type": "markdown",
   "id": "066daefe",
   "metadata": {},
   "source": [
    "# Occurrence all litho"
   ]
  },
  {
   "cell_type": "code",
   "execution_count": 5,
   "id": "45d0d5bf",
   "metadata": {},
   "outputs": [],
   "source": [
    "animal_occurrence, algae_occurrence, protist_occurrence = utils.load_occurrence_data()"
   ]
  },
  {
   "cell_type": "code",
   "execution_count": 6,
   "id": "43aa7a0b",
   "metadata": {},
   "outputs": [],
   "source": [
    "skeletal_occurrence, animal_relative_occurrence_phylum = utils.get_skeletal_animal_phyllum_occurrence(animal_occurrence, algae_occurrence, protist_occurrence,time_epoch)"
   ]
  },
  {
   "cell_type": "code",
   "execution_count": 7,
   "id": "84e2cfa6",
   "metadata": {
    "scrolled": true
   },
   "outputs": [
    {
     "data": {
      "application/vnd.plotly.v1+json": {
       "config": {
        "plotlyServerURL": "https://plot.ly"
       },
       "data": [
        {
         "legendgroup": "2",
         "legendgrouptitle": {
          "text": "Skeletal grains"
         },
         "marker": {
          "color": "rgb(136, 204, 238)"
         },
         "name": "Animal",
         "type": "bar",
         "x": [
          "Terreneuvian",
          "Series 2",
          "Series 3",
          "Furongian",
          "Early Ordovician",
          "Middle Ordovician",
          "Late Ordovician",
          "Llandovery",
          "Wenlock",
          "Ludlow",
          "Early Devonian",
          "Middle Devonian",
          "Late Devonian",
          "Mississippian",
          "Pennsylvanian",
          "Cisuralian",
          "Guadalupian",
          "Lopingian",
          "Early Triassic",
          "Middle Triassic",
          "Late Triassic",
          "Early Jurassic",
          "Middle Jurassic",
          "Late Jurassic",
          "Early Cretaceous",
          "Late Cretaceous",
          "Paleocene",
          "Eocene",
          "Oligocene",
          "Miocene",
          "Pliocene",
          "Pleistocene",
          "Holocene"
         ],
         "xaxis": "x",
         "y": [
          100,
          99.99999999999999,
          100,
          100,
          64.99501180478414,
          90.34672388822548,
          101.06667947356493,
          100,
          96.53925716976391,
          96.60327657378116,
          100.46051886047509,
          100.77239163345384,
          96.92671394810442,
          74.0794347747597,
          59.11492166898232,
          68.32546730245471,
          68.8054598360642,
          68.47225844603511,
          86.84241619012339,
          66.8649911524336,
          82.10547343215842,
          76.37924069092594,
          75.79703445872423,
          100,
          57.786674503960306,
          51.43339279035981,
          48.20526044352759,
          24.978402609074042,
          36.96652099556478,
          49.262022614874226,
          92.69873498988356,
          48.706815064658024,
          57.95452372430886
         ],
         "yaxis": "y"
        },
        {
         "legendgroup": "2",
         "marker": {
          "color": "rgb(204, 102, 119)"
         },
         "name": "Protist",
         "type": "bar",
         "x": [
          "Terreneuvian",
          "Series 2",
          "Series 3",
          "Furongian",
          "Early Ordovician",
          "Middle Ordovician",
          "Late Ordovician",
          "Llandovery",
          "Wenlock",
          "Ludlow",
          "Early Devonian",
          "Middle Devonian",
          "Late Devonian",
          "Mississippian",
          "Pennsylvanian",
          "Cisuralian",
          "Guadalupian",
          "Lopingian",
          "Early Triassic",
          "Middle Triassic",
          "Late Triassic",
          "Early Jurassic",
          "Middle Jurassic",
          "Late Jurassic",
          "Early Cretaceous",
          "Late Cretaceous",
          "Paleocene",
          "Eocene",
          "Oligocene",
          "Miocene",
          "Pliocene",
          "Pleistocene",
          "Holocene"
         ],
         "xaxis": "x",
         "y": [
          null,
          null,
          null,
          null,
          null,
          -2.9894980700356566,
          -0.5333397367824587,
          null,
          -0.14515515234680132,
          -0.3709730555649693,
          -0.09658298289599103,
          -0.38619581672691383,
          0.2364066193815842,
          21.43600130014229,
          12.506452136472888,
          6.597300977770275,
          2.736953903317078,
          18.810018042542843,
          12.85984822191073,
          3.547925381247422,
          5.620664705897497,
          4.855036378285661,
          10.786163175234512,
          null,
          28.27497589017367,
          46.93337589695255,
          32.36204228984013,
          37.54134242868337,
          20.591916795021305,
          22.712589526261482,
          7.254893013496237,
          29.100843984007668,
          10.968522131785779
         ],
         "yaxis": "y"
        },
        {
         "legendgroup": "2",
         "marker": {
          "color": "rgb(221, 204, 119)"
         },
         "name": "Algae",
         "type": "bar",
         "x": [
          "Terreneuvian",
          "Series 2",
          "Series 3",
          "Furongian",
          "Early Ordovician",
          "Middle Ordovician",
          "Late Ordovician",
          "Llandovery",
          "Wenlock",
          "Ludlow",
          "Early Devonian",
          "Middle Devonian",
          "Late Devonian",
          "Mississippian",
          "Pennsylvanian",
          "Cisuralian",
          "Guadalupian",
          "Lopingian",
          "Early Triassic",
          "Middle Triassic",
          "Late Triassic",
          "Early Jurassic",
          "Middle Jurassic",
          "Late Jurassic",
          "Early Cretaceous",
          "Late Cretaceous",
          "Paleocene",
          "Eocene",
          "Oligocene",
          "Miocene",
          "Pliocene",
          "Pleistocene",
          "Holocene"
         ],
         "xaxis": "x",
         "y": [
          null,
          null,
          null,
          null,
          35.00498819521586,
          12.642774181810168,
          -0.5333397367824587,
          0,
          3.605897982582889,
          3.7676964817838052,
          -0.3639358775790971,
          -0.38619581672691383,
          2.8368794325139985,
          4.484563925098,
          28.378626194544804,
          25.077231719775007,
          28.45758626061872,
          12.717723511422042,
          0.29773558796588395,
          29.587083466318976,
          12.273861861944084,
          18.765722930788403,
          13.416802366041264,
          null,
          13.938349605866007,
          1.6332313126876485,
          19.43269726663228,
          37.4802549622426,
          42.44156220941393,
          28.025387858864285,
          0.04637199662020058,
          22.192340951334312,
          31.076954143905375
         ],
         "yaxis": "y"
        },
        {
         "marker": {
          "color": "rgb(136, 204, 238)"
         },
         "showlegend": false,
         "type": "bar",
         "x": [
          "Terreneuvian",
          "Series 2",
          "Series 3",
          "Furongian",
          "Early Ordovician",
          "Middle Ordovician",
          "Late Ordovician",
          "Llandovery",
          "Wenlock",
          "Ludlow",
          "Early Devonian",
          "Middle Devonian",
          "Late Devonian",
          "Mississippian",
          "Pennsylvanian",
          "Cisuralian",
          "Guadalupian",
          "Lopingian",
          "Early Triassic",
          "Middle Triassic",
          "Late Triassic",
          "Early Jurassic",
          "Middle Jurassic",
          "Late Jurassic",
          "Early Cretaceous",
          "Late Cretaceous",
          "Paleocene",
          "Eocene",
          "Oligocene",
          "Miocene",
          "Pliocene",
          "Pleistocene"
         ],
         "xaxis": "x2",
         "y": [
          100,
          98.34902244750181,
          99.96998799519808,
          100,
          99.78666666666666,
          99.70721320202288,
          99.21231216674745,
          99.72789115646259,
          99.60236018471011,
          99.65065502183405,
          99.52787084983247,
          99.69735514715558,
          97.78080945884493,
          93.22052050979973,
          81.85481839705808,
          88.13498532768178,
          84.77856044045016,
          89.74761051373955,
          96.17122668638567,
          91.08259563063429,
          91.83080400387472,
          97.0975383046985,
          91.54038740281987,
          93.27325234017128,
          88.68565455970734,
          92.74006973182574,
          80.1871680296771,
          93.00558768748162,
          92.02644885258654,
          93.59964026081092,
          94.9456693268407,
          96.29343913011535
         ],
         "yaxis": "y2"
        },
        {
         "marker": {
          "color": "rgb(204, 102, 119)"
         },
         "showlegend": false,
         "type": "bar",
         "x": [
          "Terreneuvian",
          "Series 2",
          "Series 3",
          "Furongian",
          "Early Ordovician",
          "Middle Ordovician",
          "Late Ordovician",
          "Llandovery",
          "Wenlock",
          "Ludlow",
          "Early Devonian",
          "Middle Devonian",
          "Late Devonian",
          "Mississippian",
          "Pennsylvanian",
          "Cisuralian",
          "Guadalupian",
          "Lopingian",
          "Early Triassic",
          "Middle Triassic",
          "Late Triassic",
          "Early Jurassic",
          "Middle Jurassic",
          "Late Jurassic",
          "Early Cretaceous",
          "Late Cretaceous",
          "Paleocene",
          "Eocene",
          "Oligocene",
          "Miocene",
          "Pliocene",
          "Pleistocene"
         ],
         "xaxis": "x2",
         "y": [
          null,
          null,
          null,
          null,
          0.013333333333333334,
          0.06654245408570668,
          0.012118274357731459,
          0.045351473922902494,
          null,
          null,
          0.18275967103259214,
          0.18860476336681434,
          1.8281036834924966,
          5.488915069080004,
          17.122563095058183,
          11.245516791653081,
          13.958383936523358,
          9.24805854241338,
          3.795908306630515,
          7.772273207179404,
          6.468625551609084,
          2.833498245929657,
          8.373962313875346,
          5.646285600477992,
          8.809586024114376,
          6.500700576753886,
          11.213219795969986,
          4.9186354278992255,
          6.255672241669908,
          4.521097204526718,
          4.526804635015105,
          2.3914480934538243
         ],
         "yaxis": "y2"
        },
        {
         "marker": {
          "color": "rgb(221, 204, 119)"
         },
         "showlegend": false,
         "type": "bar",
         "x": [
          "Terreneuvian",
          "Series 2",
          "Series 3",
          "Furongian",
          "Early Ordovician",
          "Middle Ordovician",
          "Late Ordovician",
          "Llandovery",
          "Wenlock",
          "Ludlow",
          "Early Devonian",
          "Middle Devonian",
          "Late Devonian",
          "Mississippian",
          "Pennsylvanian",
          "Cisuralian",
          "Guadalupian",
          "Lopingian",
          "Early Triassic",
          "Middle Triassic",
          "Late Triassic",
          "Early Jurassic",
          "Middle Jurassic",
          "Late Jurassic",
          "Early Cretaceous",
          "Late Cretaceous",
          "Paleocene",
          "Eocene",
          "Oligocene",
          "Miocene",
          "Pliocene",
          "Pleistocene"
         ],
         "xaxis": "x2",
         "y": [
          null,
          1.6509775524981898,
          0.030012004801920768,
          null,
          0.2,
          0.22624434389140272,
          0.7755695588948134,
          0.22675736961451248,
          0.39763981528989223,
          0.34934497816593885,
          0.28936947913493755,
          0.11404008947760867,
          0.3910868576625739,
          1.2905644211202743,
          1.0226185078837338,
          0.6194978806651451,
          1.2630556230264756,
          1.0043309438470729,
          0.032865006983813984,
          1.1451311621863072,
          1.7005704445161984,
          0.06896344937183292,
          0.08565028330478323,
          1.080462059350727,
          2.504759416178282,
          0.7592296914203787,
          8.599612174352922,
          2.075776884619155,
          1.71787890574355,
          1.8792625346623697,
          0.5275260381441904,
          1.315112776430828
         ],
         "yaxis": "y2"
        },
        {
         "legendgroup": "1",
         "legendgrouptitle": {
          "text": "Animal phyla"
         },
         "marker": {
          "color": "#d93806"
         },
         "name": "Echinodermata",
         "type": "bar",
         "x": [
          "Terreneuvian",
          "Series 2",
          "Series 3",
          "Furongian",
          "Early Ordovician",
          "Middle Ordovician",
          "Late Ordovician",
          "Llandovery",
          "Wenlock",
          "Ludlow",
          "Early Devonian",
          "Middle Devonian",
          "Late Devonian",
          "Mississippian",
          "Pennsylvanian",
          "Cisuralian",
          "Guadalupian",
          "Lopingian",
          "Early Triassic",
          "Middle Triassic",
          "Late Triassic",
          "Early Jurassic",
          "Middle Jurassic",
          "Late Jurassic",
          "Early Cretaceous",
          "Late Cretaceous",
          "Paleocene",
          "Eocene",
          "Oligocene",
          "Miocene",
          "Pliocene",
          "Pleistocene",
          "Holocene"
         ],
         "xaxis": "x3",
         "y": [
          0,
          20.440593843876535,
          20.100527218422087,
          40.87670295844494,
          39.18877238723652,
          35.46500583703655,
          39.13268353215299,
          35.84366278136742,
          41.21279345410296,
          52.224349881505965,
          34.44747529823656,
          2.8144832449336232,
          30.402930404234354,
          65.94036605497598,
          31.36627691369148,
          40.88439577516889,
          23.227706266568283,
          22.256253464814293,
          28.593612051561557,
          39.752973275292455,
          9.202834963591576,
          26.237249312091294,
          54.50788503883236,
          0,
          28.037869463508414,
          34.72946992584455,
          17.86028764308776,
          32.060615913676386,
          55.6543825064733,
          3.270135664755803,
          6.888721333090957,
          9.319959396010459,
          3.601556881878188
         ],
         "yaxis": "y3"
        },
        {
         "legendgroup": "1",
         "marker": {
          "color": "#fe9b2d"
         },
         "name": "Bryozoa",
         "type": "bar",
         "x": [
          "Terreneuvian",
          "Series 2",
          "Series 3",
          "Furongian",
          "Early Ordovician",
          "Middle Ordovician",
          "Late Ordovician",
          "Llandovery",
          "Wenlock",
          "Ludlow",
          "Early Devonian",
          "Middle Devonian",
          "Late Devonian",
          "Mississippian",
          "Pennsylvanian",
          "Cisuralian",
          "Guadalupian",
          "Lopingian",
          "Early Triassic",
          "Middle Triassic",
          "Late Triassic",
          "Early Jurassic",
          "Middle Jurassic",
          "Late Jurassic",
          "Early Cretaceous",
          "Late Cretaceous",
          "Paleocene",
          "Eocene",
          "Oligocene",
          "Miocene",
          "Pliocene",
          "Pleistocene",
          "Holocene"
         ],
         "xaxis": "x3",
         "y": [
          0,
          0,
          0,
          0,
          0.1590990342017768,
          14.212556206736654,
          11.927964879905128,
          37.0314990685958,
          15.803622816985047,
          13.08923698725589,
          18.19479602373759,
          0,
          0,
          20.898419793471817,
          18.199685977307283,
          49.26214246302447,
          31.24350933289607,
          8.164362390175885,
          1.4626470417354145,
          0.5192768198195529,
          0,
          0,
          4.529341363978256,
          11.192349953753041,
          9.055367543641701,
          1.4556440538313649,
          1.482242442031112,
          13.03533772054296,
          28.30514805025264,
          0.4920992870371269,
          15.698802165202443,
          2.2404303769745844,
          2.367388117337445
         ],
         "yaxis": "y3"
        },
        {
         "legendgroup": "1",
         "marker": {
          "color": "#d1e834"
         },
         "name": "Brachiopoda",
         "type": "bar",
         "x": [
          "Terreneuvian",
          "Series 2",
          "Series 3",
          "Furongian",
          "Early Ordovician",
          "Middle Ordovician",
          "Late Ordovician",
          "Llandovery",
          "Wenlock",
          "Ludlow",
          "Early Devonian",
          "Middle Devonian",
          "Late Devonian",
          "Mississippian",
          "Pennsylvanian",
          "Cisuralian",
          "Guadalupian",
          "Lopingian",
          "Early Triassic",
          "Middle Triassic",
          "Late Triassic",
          "Early Jurassic",
          "Middle Jurassic",
          "Late Jurassic",
          "Early Cretaceous",
          "Late Cretaceous",
          "Paleocene",
          "Eocene",
          "Oligocene",
          "Miocene",
          "Pliocene",
          "Pleistocene",
          "Holocene"
         ],
         "xaxis": "x3",
         "y": [
          0,
          3.5591449344769046,
          1.9842553533600564,
          0.5700279313686366,
          15.776490209431977,
          4.087319073062162,
          16.496801828985124,
          4.951435802763121,
          5.75040240347607,
          11.352802743539929,
          11.83081161559789,
          0.5978477481068154,
          58.60805860702222,
          6.762791799581864,
          34.489169629954965,
          5.280212274824809,
          19.0875146894045,
          18.08312194466377,
          8.655376385807285,
          9.96336015509331,
          1.948792122349341,
          0.8747515806963969,
          0,
          0,
          0,
          0.12359241966492722,
          0.1614323451717053,
          0.6648626346936214,
          0,
          0,
          0.8514167495812816,
          0,
          0
         ],
         "yaxis": "y3"
        },
        {
         "legendgroup": "1",
         "marker": {
          "color": "#065535"
         },
         "name": "Mollusca",
         "type": "bar",
         "x": [
          "Terreneuvian",
          "Series 2",
          "Series 3",
          "Furongian",
          "Early Ordovician",
          "Middle Ordovician",
          "Late Ordovician",
          "Llandovery",
          "Wenlock",
          "Ludlow",
          "Early Devonian",
          "Middle Devonian",
          "Late Devonian",
          "Mississippian",
          "Pennsylvanian",
          "Cisuralian",
          "Guadalupian",
          "Lopingian",
          "Early Triassic",
          "Middle Triassic",
          "Late Triassic",
          "Early Jurassic",
          "Middle Jurassic",
          "Late Jurassic",
          "Early Cretaceous",
          "Late Cretaceous",
          "Paleocene",
          "Eocene",
          "Oligocene",
          "Miocene",
          "Pliocene",
          "Pleistocene",
          "Holocene"
         ],
         "xaxis": "x3",
         "y": [
          0,
          0.29387435238800125,
          2.4709594966370516,
          0,
          9.268254515167307,
          8.537893440161547,
          0.640867105000978,
          3.8008654036842975,
          7.899260326251334,
          1.0466003157642034,
          1.005270993785199,
          0.3985651654045436,
          8.241758241619369,
          3.961061054131365,
          3.372759043623071,
          0.6199615210549266,
          4.4071629635702765,
          12.558133284055977,
          37.42097135202622,
          47.29408894444316,
          13.018789189782513,
          26.779121844102587,
          23.057939998490912,
          0,
          52.0874201769753,
          62.345509475418844,
          47.56383915468154,
          7.476686762141923,
          13.09715054778895,
          5.425442306222313,
          35.85475795546457,
          64.24186965716542,
          54.772080074806965
         ],
         "yaxis": "y3"
        },
        {
         "legendgroup": "1",
         "marker": {
          "color": "#1bcfd4"
         },
         "name": "Porifera",
         "type": "bar",
         "x": [
          "Terreneuvian",
          "Series 2",
          "Series 3",
          "Furongian",
          "Early Ordovician",
          "Middle Ordovician",
          "Late Ordovician",
          "Llandovery",
          "Wenlock",
          "Ludlow",
          "Early Devonian",
          "Middle Devonian",
          "Late Devonian",
          "Mississippian",
          "Pennsylvanian",
          "Cisuralian",
          "Guadalupian",
          "Lopingian",
          "Early Triassic",
          "Middle Triassic",
          "Late Triassic",
          "Early Jurassic",
          "Middle Jurassic",
          "Late Jurassic",
          "Early Cretaceous",
          "Late Cretaceous",
          "Paleocene",
          "Eocene",
          "Oligocene",
          "Miocene",
          "Pliocene",
          "Pleistocene",
          "Holocene"
         ],
         "xaxis": "x3",
         "y": [
          100,
          59.34302755888372,
          0,
          0,
          0.4500679892553799,
          1.2811471839597675,
          0.2563468420003912,
          0,
          1.696782305638203,
          4.883590375922535,
          22.89758569912086,
          54.92841156452157,
          0,
          0,
          1.7368211546495438,
          0,
          21.00926457325572,
          27.315335897995872,
          7.26643050334154,
          0.10534107264283882,
          33.80150712696607,
          17.09553166521814,
          0,
          72.93703325447336,
          1.3248310864439024,
          0.054929964295523236,
          3.228646903434105,
          0.013036522248894533,
          0,
          0,
          0,
          4.494719086177878,
          0
         ],
         "yaxis": "y3"
        },
        {
         "legendgroup": "1",
         "marker": {
          "color": "#4675ed"
         },
         "name": "Cnidaria",
         "type": "bar",
         "x": [
          "Terreneuvian",
          "Series 2",
          "Series 3",
          "Furongian",
          "Early Ordovician",
          "Middle Ordovician",
          "Late Ordovician",
          "Llandovery",
          "Wenlock",
          "Ludlow",
          "Early Devonian",
          "Middle Devonian",
          "Late Devonian",
          "Mississippian",
          "Pennsylvanian",
          "Cisuralian",
          "Guadalupian",
          "Lopingian",
          "Early Triassic",
          "Middle Triassic",
          "Late Triassic",
          "Early Jurassic",
          "Middle Jurassic",
          "Late Jurassic",
          "Early Cretaceous",
          "Late Cretaceous",
          "Paleocene",
          "Eocene",
          "Oligocene",
          "Miocene",
          "Pliocene",
          "Pleistocene",
          "Holocene"
         ],
         "xaxis": "x3",
         "y": [
          0,
          7.0529844573120295,
          0,
          0,
          0,
          13.229889058188789,
          23.2107823940132,
          0.5695602786497029,
          1.9771913833473416,
          2.149892642541623,
          4.982647534413596,
          41.26069227703345,
          0.18315018314099188,
          1.8658137849872407,
          0.2852402875269224,
          0.07439538252659117,
          0,
          0.7055621818670521,
          0,
          0.4315993611354238,
          39.78787650415561,
          27.07446322830678,
          17.904833598698463,
          15.870616791773594,
          2.220846264906762,
          1.2633891787970337,
          29.659524508365124,
          46.354087520424315,
          2.9433188954851204,
          90.56287715932157,
          0,
          16.409611926739405,
          39.25897492597742
         ],
         "yaxis": "y3"
        },
        {
         "legendgroup": "1",
         "marker": {
          "color": "#4145ab"
         },
         "name": "Arthropoda",
         "type": "bar",
         "x": [
          "Terreneuvian",
          "Series 2",
          "Series 3",
          "Furongian",
          "Early Ordovician",
          "Middle Ordovician",
          "Late Ordovician",
          "Llandovery",
          "Wenlock",
          "Ludlow",
          "Early Devonian",
          "Middle Devonian",
          "Late Devonian",
          "Mississippian",
          "Pennsylvanian",
          "Cisuralian",
          "Guadalupian",
          "Lopingian",
          "Early Triassic",
          "Middle Triassic",
          "Late Triassic",
          "Early Jurassic",
          "Middle Jurassic",
          "Late Jurassic",
          "Early Cretaceous",
          "Late Cretaceous",
          "Paleocene",
          "Eocene",
          "Oligocene",
          "Miocene",
          "Pliocene",
          "Pleistocene",
          "Holocene"
         ],
         "xaxis": "x3",
         "y": [
          0,
          9.310374853062825,
          75.44425793158081,
          58.55326911018641,
          35.157315864707016,
          23.186189200854532,
          8.334553417942187,
          17.802976664939656,
          25.659947310199055,
          15.253527053469854,
          6.641412835108283,
          0,
          2.564102563983046,
          0.5715475128517382,
          10.550046993246731,
          3.8788925834003236,
          1.0248421743051572,
          10.917230836427168,
          16.60096266552797,
          1.9333603715732575,
          2.240200093154882,
          1.9388823695847972,
          0,
          0,
          7.273665464523914,
          0.027464982147761573,
          0.0440270032286469,
          0.39537292627190285,
          0,
          0.24944558266318076,
          40.706301796660746,
          3.293409556932258,
          0
         ],
         "yaxis": "y3"
        },
        {
         "marker": {
          "color": "#d93806"
         },
         "name": "Echinodermata",
         "type": "bar",
         "x": [
          "Series 2",
          "Furongian",
          "Terreneuvian",
          "Series 3",
          "Early Jurassic",
          "Early Cretaceous",
          "Cisuralian",
          "Llandovery",
          "Late Devonian",
          "Mississippian",
          "Middle Jurassic",
          "Eocene",
          "Paleocene",
          "Miocene",
          "Early Devonian",
          "Lopingian",
          "Pliocene",
          "Pleistocene",
          "Oligocene",
          "Early Triassic",
          "Middle Triassic",
          "Guadalupian",
          "Late Cretaceous",
          "Pennsylvanian",
          "Wenlock",
          "Early Ordovician",
          "Late Ordovician",
          "Middle Ordovician",
          "Late Triassic",
          "Late Jurassic",
          "Middle Devonian",
          "Ludlow"
         ],
         "xaxis": "x4",
         "y": [
          0.3681342953909586,
          0,
          0,
          0.09006304413089163,
          1.204335608189482,
          5.492886606616719,
          1.450186822537087,
          2.8649386084583903,
          1.5626453353176448,
          11.310891544117647,
          4.887001583417303,
          2.4426877470355732,
          2.2815687099148354,
          1.4592841700696613,
          3.114001530221882,
          0.4284882269739579,
          1.2726754677557224,
          0.7172013886239652,
          2.1062271062271063,
          0.8714224690303289,
          3.468568880962996,
          0.6159870117467291,
          5.012121850953937,
          4.227952489383962,
          6.130070830650354,
          1.2426509887760555,
          4.885794552339074,
          2.936465563267485,
          3.0707923112986406,
          4.612181711418352,
          1.781786185657721,
          2.120946538124452
         ],
         "yaxis": "y4"
        },
        {
         "marker": {
          "color": "#fe9b2d"
         },
         "name": "Bryozoa",
         "type": "bar",
         "x": [
          "Series 2",
          "Furongian",
          "Terreneuvian",
          "Series 3",
          "Early Jurassic",
          "Early Cretaceous",
          "Cisuralian",
          "Llandovery",
          "Late Devonian",
          "Mississippian",
          "Middle Jurassic",
          "Eocene",
          "Paleocene",
          "Miocene",
          "Early Devonian",
          "Lopingian",
          "Pliocene",
          "Pleistocene",
          "Oligocene",
          "Early Triassic",
          "Middle Triassic",
          "Guadalupian",
          "Late Cretaceous",
          "Pennsylvanian",
          "Wenlock",
          "Early Ordovician",
          "Late Ordovician",
          "Middle Ordovician",
          "Late Triassic",
          "Late Jurassic",
          "Middle Devonian",
          "Ludlow"
         ],
         "xaxis": "x4",
         "y": [
          0,
          0,
          0,
          0,
          0.018528240125992034,
          1.6289249936863373,
          8.493951389145796,
          3.1377899045020463,
          1.804483303878709,
          7.301240808823529,
          0.26630200086368216,
          1.681159420289855,
          2.144884870150352,
          2.802466170229802,
          1.713848508033665,
          3.1325401447707795,
          2.4931142558647545,
          1.8616716896196543,
          2.4866159481544097,
          0.1537804357112345,
          0.16941596076683013,
          7.874128545506637,
          0.6254172376234145,
          4.1848729152563235,
          4.520283322601417,
          0.6146445750935329,
          6.143886649566386,
          4.391350774159103,
          0.53328645100797,
          0.6138899268670261,
          3.7351517817861857,
          2.03330411919369
         ],
         "yaxis": "y4"
        },
        {
         "marker": {
          "color": "#d1e834"
         },
         "name": "Brachiopoda",
         "type": "bar",
         "x": [
          "Series 2",
          "Furongian",
          "Terreneuvian",
          "Series 3",
          "Early Jurassic",
          "Early Cretaceous",
          "Cisuralian",
          "Llandovery",
          "Late Devonian",
          "Mississippian",
          "Middle Jurassic",
          "Eocene",
          "Paleocene",
          "Miocene",
          "Early Devonian",
          "Lopingian",
          "Pliocene",
          "Pleistocene",
          "Oligocene",
          "Early Triassic",
          "Middle Triassic",
          "Guadalupian",
          "Late Cretaceous",
          "Pennsylvanian",
          "Wenlock",
          "Early Ordovician",
          "Late Ordovician",
          "Middle Ordovician",
          "Late Triassic",
          "Late Jurassic",
          "Middle Devonian",
          "Ludlow"
         ],
         "xaxis": "x4",
         "y": [
          13.562067442202915,
          18.010963194988253,
          1.1560693641618498,
          10.327229060342239,
          19.476268412438625,
          5.08460308106743,
          55.16259109910843,
          54.852205547976354,
          47.3537345363222,
          39.1946231617647,
          19.072981142939398,
          1.4097496706192358,
          2.081800021028283,
          1.149011129794219,
          52.218821729150726,
          58.615525418088026,
          1.096970272580492,
          1.903635600656163,
          0.8593970132431671,
          5.963263562580094,
          20.67766384306732,
          60.581606341323656,
          2.7370788095991005,
          40.734814450120005,
          48.461043142305215,
          20.122928915018708,
          46.10357884450959,
          38.33422317138281,
          16.60220346929208,
          7.4787807612235095,
          43.73075230972283,
          45.04820333041192
         ],
         "yaxis": "y4"
        },
        {
         "marker": {
          "color": "#065535"
         },
         "name": "Mollusca",
         "type": "bar",
         "x": [
          "Series 2",
          "Furongian",
          "Terreneuvian",
          "Series 3",
          "Early Jurassic",
          "Early Cretaceous",
          "Cisuralian",
          "Llandovery",
          "Late Devonian",
          "Mississippian",
          "Middle Jurassic",
          "Eocene",
          "Paleocene",
          "Miocene",
          "Early Devonian",
          "Lopingian",
          "Pliocene",
          "Pleistocene",
          "Oligocene",
          "Early Triassic",
          "Middle Triassic",
          "Guadalupian",
          "Late Cretaceous",
          "Pennsylvanian",
          "Wenlock",
          "Early Ordovician",
          "Late Ordovician",
          "Middle Ordovician",
          "Late Triassic",
          "Late Jurassic",
          "Middle Devonian",
          "Ludlow"
         ],
         "xaxis": "x4",
         "y": [
          11.691945221616846,
          9.083790133124511,
          95.3757225433526,
          1.6211347943560492,
          73.09390729703857,
          74.93475881808233,
          23.513743479708484,
          8.922237380627559,
          25.811552413728954,
          21.943933823529413,
          67.53274794875486,
          84.72200263504611,
          84.17621701188098,
          82.30042437344864,
          13.856159143075747,
          24.045261669024047,
          86.72713458068192,
          74.99332392324419,
          78.08537616229924,
          86.4929517300299,
          69.75479268836379,
          18.90459363957597,
          84.20645796001546,
          39.49781525016924,
          10.083708950418545,
          17.985034740780332,
          13.234395993648468,
          15.80352375867592,
          63.027426160337555,
          59.22703250947526,
          21.63220413550374,
          20.403155127081508
         ],
         "yaxis": "y4"
        },
        {
         "marker": {
          "color": "#1bcfd4"
         },
         "name": "Porifera",
         "type": "bar",
         "x": [
          "Series 2",
          "Furongian",
          "Terreneuvian",
          "Series 3",
          "Early Jurassic",
          "Early Cretaceous",
          "Cisuralian",
          "Llandovery",
          "Late Devonian",
          "Mississippian",
          "Middle Jurassic",
          "Eocene",
          "Paleocene",
          "Miocene",
          "Early Devonian",
          "Lopingian",
          "Pliocene",
          "Pleistocene",
          "Oligocene",
          "Early Triassic",
          "Middle Triassic",
          "Guadalupian",
          "Late Cretaceous",
          "Pennsylvanian",
          "Wenlock",
          "Early Ordovician",
          "Late Ordovician",
          "Middle Ordovician",
          "Late Triassic",
          "Late Jurassic",
          "Middle Devonian",
          "Ludlow"
         ],
         "xaxis": "x4",
         "y": [
          40.52422323663672,
          0.548159749412686,
          2.3121387283236996,
          0.21014710297208045,
          0.052496680356977424,
          1.174341274518057,
          0.8249787281269654,
          2.728512960436562,
          5.013487117477444,
          0.4538143382352941,
          0.2375125953649057,
          0.3188405797101449,
          0.09462727368310378,
          0.15413563936263913,
          3.3970925784238712,
          1.0316998086363258,
          0.014246367176370026,
          0.07629802006637927,
          0.11975204282896591,
          0.0598035027765912,
          1.1324119482835489,
          5.505682360806036,
          2.127472681915604,
          0.6154224875376946,
          3.039278815196394,
          0.6547300908605024,
          1.3130572859411263,
          1.8820074746396156,
          4.975386779184247,
          5.882666951369242,
          3.5987681478222613,
          4.294478527607362
         ],
         "yaxis": "y4"
        },
        {
         "marker": {
          "color": "#4675ed"
         },
         "name": "Cnidaria",
         "type": "bar",
         "x": [
          "Series 2",
          "Furongian",
          "Terreneuvian",
          "Series 3",
          "Early Jurassic",
          "Early Cretaceous",
          "Cisuralian",
          "Llandovery",
          "Late Devonian",
          "Mississippian",
          "Middle Jurassic",
          "Eocene",
          "Paleocene",
          "Miocene",
          "Early Devonian",
          "Lopingian",
          "Pliocene",
          "Pleistocene",
          "Oligocene",
          "Early Triassic",
          "Middle Triassic",
          "Guadalupian",
          "Late Cretaceous",
          "Pennsylvanian",
          "Wenlock",
          "Early Ordovician",
          "Late Ordovician",
          "Middle Ordovician",
          "Late Triassic",
          "Late Jurassic",
          "Middle Devonian",
          "Ludlow"
         ],
         "xaxis": "x4",
         "y": [
          0.4564865262847887,
          0,
          1.1560693641618498,
          0,
          1.4174103696383906,
          9.47049414933917,
          4.89807998224261,
          11.741700773078673,
          12.640684587480234,
          13.878676470588236,
          6.463221534475313,
          4.142292490118577,
          6.949847544947955,
          6.76195051645448,
          12.096403978576893,
          1.5059489142191531,
          6.263652768544021,
          18.502269866096974,
          11.53141730064807,
          0.00854335753951303,
          1.1502452073116363,
          2.755228726960176,
          3.274656547556305,
          3.710997599852299,
          12.646490663232454,
          0.14698022447888828,
          3.261267863686332,
          0.6273358248798718,
          9.528832630098453,
          20.391821918539478,
          16.405631324241092,
          11.007887817703768
         ],
         "yaxis": "y4"
        },
        {
         "marker": {
          "color": "#4145ab"
         },
         "name": "Arthropoda",
         "type": "bar",
         "x": [
          "Series 2",
          "Furongian",
          "Terreneuvian",
          "Series 3",
          "Early Jurassic",
          "Early Cretaceous",
          "Cisuralian",
          "Llandovery",
          "Late Devonian",
          "Mississippian",
          "Middle Jurassic",
          "Eocene",
          "Paleocene",
          "Miocene",
          "Early Devonian",
          "Lopingian",
          "Pliocene",
          "Pleistocene",
          "Oligocene",
          "Early Triassic",
          "Middle Triassic",
          "Guadalupian",
          "Late Cretaceous",
          "Pennsylvanian",
          "Wenlock",
          "Early Ordovician",
          "Late Ordovician",
          "Middle Ordovician",
          "Late Triassic",
          "Late Jurassic",
          "Middle Devonian",
          "Ludlow"
         ],
         "xaxis": "x4",
         "y": [
          33.39714327786777,
          72.35708692247455,
          0,
          87.75142599819874,
          4.737053392211963,
          2.213991076689957,
          5.656468499130628,
          15.752614824920418,
          5.81341270579481,
          5.916819852941177,
          1.5402331941845402,
          5.283267457180501,
          2.2710545683944905,
          5.3727280006405636,
          13.603672532517216,
          11.24053581828771,
          2.132206287396714,
          1.9455995116926716,
          4.811214426599042,
          6.450234942332337,
          3.64690147124387,
          3.7627733740807945,
          2.0167949123361795,
          7.028124807680473,
          15.119124275595622,
          59.233030464991984,
          25.058018810309026,
          36.02509343299519,
          2.2620721987810595,
          1.7936262211071372,
          9.115706115266168,
          15.0920245398773
         ],
         "yaxis": "y4"
        }
       ],
       "layout": {
        "annotations": [
         {
          "font": {
           "size": 16
          },
          "showarrow": false,
          "text": "<b>Skeletal biomass",
          "x": 0.5,
          "xanchor": "center",
          "xref": "paper",
          "y": 1,
          "yanchor": "bottom",
          "yref": "paper"
         },
         {
          "font": {
           "size": 16
          },
          "showarrow": false,
          "text": "<b>Skeletal occurrence",
          "x": 0.5,
          "xanchor": "center",
          "xref": "paper",
          "y": 0.7375,
          "yanchor": "bottom",
          "yref": "paper"
         },
         {
          "font": {
           "size": 16
          },
          "showarrow": false,
          "text": "<b>Animal phylum biomass",
          "x": 0.5,
          "xanchor": "center",
          "xref": "paper",
          "y": 0.475,
          "yanchor": "bottom",
          "yref": "paper"
         },
         {
          "font": {
           "size": 16
          },
          "showarrow": false,
          "text": "<b>Animal phylum occurrence",
          "x": 0.5,
          "xanchor": "center",
          "xref": "paper",
          "y": 0.2125,
          "yanchor": "bottom",
          "yref": "paper"
         }
        ],
        "barmode": "stack",
        "font": {
         "color": "black",
         "family": "Helvetica",
         "size": 14
        },
        "height": 1450,
        "legend": {
         "font": {
          "size": 14
         },
         "orientation": "v",
         "tracegroupgap": 550,
         "x": 1.02,
         "xanchor": "left",
         "y": 0.99,
         "yanchor": "top"
        },
        "paper_bgcolor": "white",
        "plot_bgcolor": "white",
        "template": {
         "data": {
          "bar": [
           {
            "error_x": {
             "color": "#2a3f5f"
            },
            "error_y": {
             "color": "#2a3f5f"
            },
            "marker": {
             "line": {
              "color": "#E5ECF6",
              "width": 0.5
             },
             "pattern": {
              "fillmode": "overlay",
              "size": 10,
              "solidity": 0.2
             }
            },
            "type": "bar"
           }
          ],
          "barpolar": [
           {
            "marker": {
             "line": {
              "color": "#E5ECF6",
              "width": 0.5
             },
             "pattern": {
              "fillmode": "overlay",
              "size": 10,
              "solidity": 0.2
             }
            },
            "type": "barpolar"
           }
          ],
          "carpet": [
           {
            "aaxis": {
             "endlinecolor": "#2a3f5f",
             "gridcolor": "white",
             "linecolor": "white",
             "minorgridcolor": "white",
             "startlinecolor": "#2a3f5f"
            },
            "baxis": {
             "endlinecolor": "#2a3f5f",
             "gridcolor": "white",
             "linecolor": "white",
             "minorgridcolor": "white",
             "startlinecolor": "#2a3f5f"
            },
            "type": "carpet"
           }
          ],
          "choropleth": [
           {
            "colorbar": {
             "outlinewidth": 0,
             "ticks": ""
            },
            "type": "choropleth"
           }
          ],
          "contour": [
           {
            "colorbar": {
             "outlinewidth": 0,
             "ticks": ""
            },
            "colorscale": [
             [
              0,
              "#0d0887"
             ],
             [
              0.1111111111111111,
              "#46039f"
             ],
             [
              0.2222222222222222,
              "#7201a8"
             ],
             [
              0.3333333333333333,
              "#9c179e"
             ],
             [
              0.4444444444444444,
              "#bd3786"
             ],
             [
              0.5555555555555556,
              "#d8576b"
             ],
             [
              0.6666666666666666,
              "#ed7953"
             ],
             [
              0.7777777777777778,
              "#fb9f3a"
             ],
             [
              0.8888888888888888,
              "#fdca26"
             ],
             [
              1,
              "#f0f921"
             ]
            ],
            "type": "contour"
           }
          ],
          "contourcarpet": [
           {
            "colorbar": {
             "outlinewidth": 0,
             "ticks": ""
            },
            "type": "contourcarpet"
           }
          ],
          "heatmap": [
           {
            "colorbar": {
             "outlinewidth": 0,
             "ticks": ""
            },
            "colorscale": [
             [
              0,
              "#0d0887"
             ],
             [
              0.1111111111111111,
              "#46039f"
             ],
             [
              0.2222222222222222,
              "#7201a8"
             ],
             [
              0.3333333333333333,
              "#9c179e"
             ],
             [
              0.4444444444444444,
              "#bd3786"
             ],
             [
              0.5555555555555556,
              "#d8576b"
             ],
             [
              0.6666666666666666,
              "#ed7953"
             ],
             [
              0.7777777777777778,
              "#fb9f3a"
             ],
             [
              0.8888888888888888,
              "#fdca26"
             ],
             [
              1,
              "#f0f921"
             ]
            ],
            "type": "heatmap"
           }
          ],
          "heatmapgl": [
           {
            "colorbar": {
             "outlinewidth": 0,
             "ticks": ""
            },
            "colorscale": [
             [
              0,
              "#0d0887"
             ],
             [
              0.1111111111111111,
              "#46039f"
             ],
             [
              0.2222222222222222,
              "#7201a8"
             ],
             [
              0.3333333333333333,
              "#9c179e"
             ],
             [
              0.4444444444444444,
              "#bd3786"
             ],
             [
              0.5555555555555556,
              "#d8576b"
             ],
             [
              0.6666666666666666,
              "#ed7953"
             ],
             [
              0.7777777777777778,
              "#fb9f3a"
             ],
             [
              0.8888888888888888,
              "#fdca26"
             ],
             [
              1,
              "#f0f921"
             ]
            ],
            "type": "heatmapgl"
           }
          ],
          "histogram": [
           {
            "marker": {
             "pattern": {
              "fillmode": "overlay",
              "size": 10,
              "solidity": 0.2
             }
            },
            "type": "histogram"
           }
          ],
          "histogram2d": [
           {
            "colorbar": {
             "outlinewidth": 0,
             "ticks": ""
            },
            "colorscale": [
             [
              0,
              "#0d0887"
             ],
             [
              0.1111111111111111,
              "#46039f"
             ],
             [
              0.2222222222222222,
              "#7201a8"
             ],
             [
              0.3333333333333333,
              "#9c179e"
             ],
             [
              0.4444444444444444,
              "#bd3786"
             ],
             [
              0.5555555555555556,
              "#d8576b"
             ],
             [
              0.6666666666666666,
              "#ed7953"
             ],
             [
              0.7777777777777778,
              "#fb9f3a"
             ],
             [
              0.8888888888888888,
              "#fdca26"
             ],
             [
              1,
              "#f0f921"
             ]
            ],
            "type": "histogram2d"
           }
          ],
          "histogram2dcontour": [
           {
            "colorbar": {
             "outlinewidth": 0,
             "ticks": ""
            },
            "colorscale": [
             [
              0,
              "#0d0887"
             ],
             [
              0.1111111111111111,
              "#46039f"
             ],
             [
              0.2222222222222222,
              "#7201a8"
             ],
             [
              0.3333333333333333,
              "#9c179e"
             ],
             [
              0.4444444444444444,
              "#bd3786"
             ],
             [
              0.5555555555555556,
              "#d8576b"
             ],
             [
              0.6666666666666666,
              "#ed7953"
             ],
             [
              0.7777777777777778,
              "#fb9f3a"
             ],
             [
              0.8888888888888888,
              "#fdca26"
             ],
             [
              1,
              "#f0f921"
             ]
            ],
            "type": "histogram2dcontour"
           }
          ],
          "mesh3d": [
           {
            "colorbar": {
             "outlinewidth": 0,
             "ticks": ""
            },
            "type": "mesh3d"
           }
          ],
          "parcoords": [
           {
            "line": {
             "colorbar": {
              "outlinewidth": 0,
              "ticks": ""
             }
            },
            "type": "parcoords"
           }
          ],
          "pie": [
           {
            "automargin": true,
            "type": "pie"
           }
          ],
          "scatter": [
           {
            "fillpattern": {
             "fillmode": "overlay",
             "size": 10,
             "solidity": 0.2
            },
            "type": "scatter"
           }
          ],
          "scatter3d": [
           {
            "line": {
             "colorbar": {
              "outlinewidth": 0,
              "ticks": ""
             }
            },
            "marker": {
             "colorbar": {
              "outlinewidth": 0,
              "ticks": ""
             }
            },
            "type": "scatter3d"
           }
          ],
          "scattercarpet": [
           {
            "marker": {
             "colorbar": {
              "outlinewidth": 0,
              "ticks": ""
             }
            },
            "type": "scattercarpet"
           }
          ],
          "scattergeo": [
           {
            "marker": {
             "colorbar": {
              "outlinewidth": 0,
              "ticks": ""
             }
            },
            "type": "scattergeo"
           }
          ],
          "scattergl": [
           {
            "marker": {
             "colorbar": {
              "outlinewidth": 0,
              "ticks": ""
             }
            },
            "type": "scattergl"
           }
          ],
          "scattermapbox": [
           {
            "marker": {
             "colorbar": {
              "outlinewidth": 0,
              "ticks": ""
             }
            },
            "type": "scattermapbox"
           }
          ],
          "scatterpolar": [
           {
            "marker": {
             "colorbar": {
              "outlinewidth": 0,
              "ticks": ""
             }
            },
            "type": "scatterpolar"
           }
          ],
          "scatterpolargl": [
           {
            "marker": {
             "colorbar": {
              "outlinewidth": 0,
              "ticks": ""
             }
            },
            "type": "scatterpolargl"
           }
          ],
          "scatterternary": [
           {
            "marker": {
             "colorbar": {
              "outlinewidth": 0,
              "ticks": ""
             }
            },
            "type": "scatterternary"
           }
          ],
          "surface": [
           {
            "colorbar": {
             "outlinewidth": 0,
             "ticks": ""
            },
            "colorscale": [
             [
              0,
              "#0d0887"
             ],
             [
              0.1111111111111111,
              "#46039f"
             ],
             [
              0.2222222222222222,
              "#7201a8"
             ],
             [
              0.3333333333333333,
              "#9c179e"
             ],
             [
              0.4444444444444444,
              "#bd3786"
             ],
             [
              0.5555555555555556,
              "#d8576b"
             ],
             [
              0.6666666666666666,
              "#ed7953"
             ],
             [
              0.7777777777777778,
              "#fb9f3a"
             ],
             [
              0.8888888888888888,
              "#fdca26"
             ],
             [
              1,
              "#f0f921"
             ]
            ],
            "type": "surface"
           }
          ],
          "table": [
           {
            "cells": {
             "fill": {
              "color": "#EBF0F8"
             },
             "line": {
              "color": "white"
             }
            },
            "header": {
             "fill": {
              "color": "#C8D4E3"
             },
             "line": {
              "color": "white"
             }
            },
            "type": "table"
           }
          ]
         },
         "layout": {
          "annotationdefaults": {
           "arrowcolor": "#2a3f5f",
           "arrowhead": 0,
           "arrowwidth": 1
          },
          "autotypenumbers": "strict",
          "coloraxis": {
           "colorbar": {
            "outlinewidth": 0,
            "ticks": ""
           }
          },
          "colorscale": {
           "diverging": [
            [
             0,
             "#8e0152"
            ],
            [
             0.1,
             "#c51b7d"
            ],
            [
             0.2,
             "#de77ae"
            ],
            [
             0.3,
             "#f1b6da"
            ],
            [
             0.4,
             "#fde0ef"
            ],
            [
             0.5,
             "#f7f7f7"
            ],
            [
             0.6,
             "#e6f5d0"
            ],
            [
             0.7,
             "#b8e186"
            ],
            [
             0.8,
             "#7fbc41"
            ],
            [
             0.9,
             "#4d9221"
            ],
            [
             1,
             "#276419"
            ]
           ],
           "sequential": [
            [
             0,
             "#0d0887"
            ],
            [
             0.1111111111111111,
             "#46039f"
            ],
            [
             0.2222222222222222,
             "#7201a8"
            ],
            [
             0.3333333333333333,
             "#9c179e"
            ],
            [
             0.4444444444444444,
             "#bd3786"
            ],
            [
             0.5555555555555556,
             "#d8576b"
            ],
            [
             0.6666666666666666,
             "#ed7953"
            ],
            [
             0.7777777777777778,
             "#fb9f3a"
            ],
            [
             0.8888888888888888,
             "#fdca26"
            ],
            [
             1,
             "#f0f921"
            ]
           ],
           "sequentialminus": [
            [
             0,
             "#0d0887"
            ],
            [
             0.1111111111111111,
             "#46039f"
            ],
            [
             0.2222222222222222,
             "#7201a8"
            ],
            [
             0.3333333333333333,
             "#9c179e"
            ],
            [
             0.4444444444444444,
             "#bd3786"
            ],
            [
             0.5555555555555556,
             "#d8576b"
            ],
            [
             0.6666666666666666,
             "#ed7953"
            ],
            [
             0.7777777777777778,
             "#fb9f3a"
            ],
            [
             0.8888888888888888,
             "#fdca26"
            ],
            [
             1,
             "#f0f921"
            ]
           ]
          },
          "colorway": [
           "#636efa",
           "#EF553B",
           "#00cc96",
           "#ab63fa",
           "#FFA15A",
           "#19d3f3",
           "#FF6692",
           "#B6E880",
           "#FF97FF",
           "#FECB52"
          ],
          "font": {
           "color": "#2a3f5f"
          },
          "geo": {
           "bgcolor": "white",
           "lakecolor": "white",
           "landcolor": "#E5ECF6",
           "showlakes": true,
           "showland": true,
           "subunitcolor": "white"
          },
          "hoverlabel": {
           "align": "left"
          },
          "hovermode": "closest",
          "mapbox": {
           "style": "light"
          },
          "paper_bgcolor": "white",
          "plot_bgcolor": "#E5ECF6",
          "polar": {
           "angularaxis": {
            "gridcolor": "white",
            "linecolor": "white",
            "ticks": ""
           },
           "bgcolor": "#E5ECF6",
           "radialaxis": {
            "gridcolor": "white",
            "linecolor": "white",
            "ticks": ""
           }
          },
          "scene": {
           "xaxis": {
            "backgroundcolor": "#E5ECF6",
            "gridcolor": "white",
            "gridwidth": 2,
            "linecolor": "white",
            "showbackground": true,
            "ticks": "",
            "zerolinecolor": "white"
           },
           "yaxis": {
            "backgroundcolor": "#E5ECF6",
            "gridcolor": "white",
            "gridwidth": 2,
            "linecolor": "white",
            "showbackground": true,
            "ticks": "",
            "zerolinecolor": "white"
           },
           "zaxis": {
            "backgroundcolor": "#E5ECF6",
            "gridcolor": "white",
            "gridwidth": 2,
            "linecolor": "white",
            "showbackground": true,
            "ticks": "",
            "zerolinecolor": "white"
           }
          },
          "shapedefaults": {
           "line": {
            "color": "#2a3f5f"
           }
          },
          "ternary": {
           "aaxis": {
            "gridcolor": "white",
            "linecolor": "white",
            "ticks": ""
           },
           "baxis": {
            "gridcolor": "white",
            "linecolor": "white",
            "ticks": ""
           },
           "bgcolor": "#E5ECF6",
           "caxis": {
            "gridcolor": "white",
            "linecolor": "white",
            "ticks": ""
           }
          },
          "title": {
           "x": 0.05
          },
          "xaxis": {
           "automargin": true,
           "gridcolor": "white",
           "linecolor": "white",
           "ticks": "",
           "title": {
            "standoff": 15
           },
           "zerolinecolor": "white",
           "zerolinewidth": 2
          },
          "yaxis": {
           "automargin": true,
           "gridcolor": "white",
           "linecolor": "white",
           "ticks": "",
           "title": {
            "standoff": 15
           },
           "zerolinecolor": "white",
           "zerolinewidth": 2
          }
         }
        },
        "width": 950,
        "xaxis": {
         "anchor": "y",
         "domain": [
          0,
          1
         ],
         "linecolor": "black",
         "matches": "x4",
         "mirror": true,
         "showline": true,
         "showticklabels": false,
         "ticks": "outside"
        },
        "xaxis2": {
         "anchor": "y2",
         "domain": [
          0,
          1
         ],
         "linecolor": "black",
         "matches": "x4",
         "mirror": true,
         "showline": true,
         "showticklabels": false,
         "ticks": "outside"
        },
        "xaxis3": {
         "anchor": "y3",
         "domain": [
          0,
          1
         ],
         "linecolor": "black",
         "matches": "x4",
         "mirror": true,
         "showline": true,
         "showticklabels": false,
         "ticks": "outside"
        },
        "xaxis4": {
         "anchor": "y4",
         "domain": [
          0,
          1
         ],
         "linecolor": "black",
         "mirror": true,
         "showline": true,
         "showticklabels": true,
         "tickangle": -60,
         "ticks": "outside"
        },
        "yaxis": {
         "anchor": "x",
         "domain": [
          0.7875,
          1
         ],
         "linecolor": "black",
         "mirror": true,
         "showline": true,
         "ticks": "outside",
         "title": {
          "text": "Relative skeletal<br>biomass %"
         }
        },
        "yaxis2": {
         "anchor": "x2",
         "domain": [
          0.525,
          0.7375
         ],
         "linecolor": "black",
         "mirror": true,
         "showline": true,
         "ticks": "outside",
         "title": {
          "text": "Relative skeletal<br>occurrence %"
         }
        },
        "yaxis3": {
         "anchor": "x3",
         "domain": [
          0.2625,
          0.475
         ],
         "linecolor": "black",
         "mirror": true,
         "showline": true,
         "ticks": "outside",
         "title": {
          "text": "Relative animal<br>biomass %"
         }
        },
        "yaxis4": {
         "anchor": "x4",
         "domain": [
          0,
          0.2125
         ],
         "linecolor": "black",
         "mirror": true,
         "showline": true,
         "ticks": "outside",
         "title": {
          "text": "Relative animal<br>occurrence %"
         }
        }
       }
      }
     },
     "metadata": {},
     "output_type": "display_data"
    }
   ],
   "source": [
    "fig = make_subplots(rows = 4,cols = 1,shared_xaxes = True,vertical_spacing = 0.05,\n",
    "                    subplot_titles=['<b>Skeletal biomass', '<b>Skeletal occurrence',\n",
    "                                   '<b>Animal phylum biomass', '<b>Animal phylum occurrence',]\n",
    "                   )\n",
    "\n",
    "colors = px.colors.qualitative.Safe\n",
    "\n",
    "\n",
    "fig.add_trace(go.Bar(x=data_skeletalgrain[data_skeletalgrain.skeletal_grain == 'animal'][time_scale],\n",
    "                     y=data_skeletalgrain[data_skeletalgrain.skeletal_grain == 'animal']['abundance_percent'],\n",
    "                     marker_color=colors[0],legendgroup='2',legendgrouptitle_text='Skeletal grains',\n",
    "                     name='Animal'),row=1,col=1)\n",
    "\n",
    "fig.add_trace(go.Bar(x=data_skeletalgrain[data_skeletalgrain.skeletal_grain == 'protist'][time_scale],\n",
    "                     y=data_skeletalgrain[data_skeletalgrain.skeletal_grain == 'protist']['abundance_percent'],\n",
    "                     marker_color=colors[1],legendgroup='2',\n",
    "                     name='Protist'),row=1,col=1)\n",
    "\n",
    "fig.add_trace(go.Bar(x=data_skeletalgrain[data_skeletalgrain.skeletal_grain == 'algamicro'][time_scale],\n",
    "                     y=data_skeletalgrain[data_skeletalgrain.skeletal_grain == 'algamicro']['abundance_percent'],\n",
    "                     marker_color=colors[2],legendgroup='2',\n",
    "                     name='Algae'),row=1,col=1)\n",
    "\n",
    "\n",
    "fig.add_trace(go.Bar(x=skeletal_occurrence['time'],\n",
    "                     y=skeletal_occurrence['animal'],\n",
    "                     marker_color=colors[0],\n",
    "                     showlegend=False,),row=2,col=1)\n",
    "\n",
    "fig.add_trace(go.Bar(x=skeletal_occurrence['time'],\n",
    "                     y=skeletal_occurrence['protist'],\n",
    "                     showlegend=False,\n",
    "                     marker_color=colors[1],),row=2,col=1)\n",
    "\n",
    "fig.add_trace(go.Bar(x=skeletal_occurrence['time'],\n",
    "                     y=skeletal_occurrence['algae'],\n",
    "                     showlegend=False,\n",
    "                     marker_color=colors[2],),row=2,col=1)\n",
    "\n",
    "\n",
    "colors = px.colors.sequential.Turbo_r\n",
    "\n",
    "fig.add_trace(go.Bar(x=df[df.animal == 'echinodermata']['time'],\n",
    "                     y=df[df.animal == 'echinodermata']['abundance_percent'],marker_color=colors[2],\n",
    "                    legendgroup='1',legendgrouptitle_text='Animal phyla',\n",
    "                     name='Echinodermata'),row=3,col=1)\n",
    "\n",
    "fig.add_trace(go.Bar(x=df[df.animal == 'bryozoa']['time'],\n",
    "                     y=df[df.animal == 'bryozoa']['abundance_percent'],marker_color=colors[4],\n",
    "                     legendgroup='1',\n",
    "                     name='Bryozoa'),row=3,col=1)\n",
    "\n",
    "fig.add_trace(go.Bar(x=df[df.animal == 'brachiopoda']['time'],\n",
    "                     y=df[df.animal == 'brachiopoda']['abundance_percent'],marker_color=colors[6],\n",
    "                     legendgroup='1',\n",
    "                     name='Brachiopoda'),row=3,col=1)\n",
    "\n",
    "fig.add_trace(go.Bar(x=df[df.animal == 'molluska']['time'],\n",
    "                     y=df[df.animal == 'molluska']['abundance_percent'],marker_color='#065535',\n",
    "                     legendgroup='1',\n",
    "                    name='Mollusca'),row=3,col=1)\n",
    "\n",
    "fig.add_trace(go.Bar(x=df[df.animal == 'porifera']['time'],\n",
    "                     y=df[df.animal == 'porifera']['abundance_percent'],marker_color=colors[10],\n",
    "                     legendgroup='1',\n",
    "                     name='Porifera'),row=3,col=1)\n",
    "\n",
    "fig.add_trace(go.Bar(x=df[df.animal == 'cnidaria']['time'],\n",
    "                     y=df[df.animal == 'cnidaria']['abundance_percent'],marker_color=colors[12],\n",
    "                     legendgroup='1',\n",
    "                     name='Cnidaria'),row=3,col=1)\n",
    "\n",
    "fig.add_trace(go.Bar(x=df[df.animal == 'arthropoda']['time'],\n",
    "                     y=df[df.animal == 'arthropoda']['abundance_percent'],marker_color=colors[13],\n",
    "                     legendgroup='1',\n",
    "                     name='Arthropoda'),row=3,col=1)\n",
    "\n",
    "\n",
    "color_index = [2,4,6,8,10,12,13]\n",
    "for i,animal in enumerate(['Echinodermata', 'Bryozoa','Brachiopoda','Mollusca', 'Porifera',  'Cnidaria','Arthropoda']):\n",
    "\n",
    "    color = colors[color_index[i]] if color_index[i]!= 8 else '#065535'\n",
    "\n",
    "    fig.add_trace(go.Bar(x=animal_relative_occurrence_phylum['index'],\n",
    "                         y=animal_relative_occurrence_phylum[animal],marker_color=color,\n",
    "                         name=f'{animal}'),row=4,col=1)\n",
    "\n",
    "\n",
    "fig.update_yaxes(title = 'Relative skeletal<br>biomass %',ticks = 'outside',showline = True, \n",
    "                         mirror = True,linecolor = 'black',row=1,col=1)\n",
    "fig.update_yaxes(title = 'Relative skeletal<br>occurrence %',ticks = 'outside',showline = True, \n",
    "                         mirror = True,linecolor = 'black',row=2,col=1)\n",
    "fig.update_yaxes(title = 'Relative animal<br>biomass %',ticks = 'outside',showline = True, \n",
    "                         mirror = True,linecolor = 'black',row=3,col=1)\n",
    "fig.update_yaxes(title = 'Relative animal<br>occurrence %',ticks = 'outside',showline = True, \n",
    "                         mirror = True,linecolor = 'black',row=4,col=1)\n",
    "\n",
    "\n",
    "fig.update_xaxes(ticks = 'outside',showticklabels = False,showline = True, \n",
    "                     mirror = True,linecolor = 'black',row=1,col=1)\n",
    "fig.update_xaxes(ticks = 'outside',showticklabels = False,showline = True, \n",
    "                     mirror = True,linecolor = 'black',row=2,col=1)\n",
    "fig.update_xaxes(ticks = 'outside',showticklabels = False,showline = True, \n",
    "                     mirror = True,linecolor = 'black',row=3,col=1)\n",
    "fig.update_xaxes(ticks = 'outside',showticklabels = True,showline = True, tickangle=-60,\n",
    "                     mirror = True,linecolor = 'black',row=4,col=1)\n",
    "\n",
    "\n",
    "\n",
    "fig.update_layout(height = 1450, width = 950,font_color = 'black', font_family='Helvetica',\n",
    "                  font_size=14,\n",
    "                  barmode='stack',\n",
    "                  legend=dict(orientation=\"v\",\n",
    "                                yanchor=\"top\",\n",
    "                                y=0.99,\n",
    "                                xanchor=\"left\",x=1.02, font_size=14\n",
    "                                ),\n",
    "                  legend_tracegroupgap = 550,\n",
    "                 paper_bgcolor = 'white',\n",
    "                 plot_bgcolor = 'white',)\n",
    "fig.show()\n",
    "\n",
    "# fig.write_image('./figures/latest/Figure_3.jpeg',scale=6)"
   ]
  }
 ],
 "metadata": {
  "kernelspec": {
   "display_name": "research",
   "language": "python",
   "name": "python3"
  },
  "language_info": {
   "codemirror_mode": {
    "name": "ipython",
    "version": 3
   },
   "file_extension": ".py",
   "mimetype": "text/x-python",
   "name": "python",
   "nbconvert_exporter": "python",
   "pygments_lexer": "ipython3",
   "version": "3.9.21"
  }
 },
 "nbformat": 4,
 "nbformat_minor": 5
}
