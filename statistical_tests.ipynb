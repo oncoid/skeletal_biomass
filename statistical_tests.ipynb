{
 "cells": [
  {
   "cell_type": "code",
   "execution_count": 1,
   "id": "1de536cf-cabd-40eb-8cda-01efa9943e95",
   "metadata": {},
   "outputs": [
    {
     "name": "stdout",
     "output_type": "stream",
     "text": [
      "Intel MKL WARNING: Support of Intel(R) Streaming SIMD Extensions 4.2 (Intel(R) SSE4.2) enabled only processors has been deprecated. Intel oneAPI Math Kernel Library 2025.0 will require Intel(R) Advanced Vector Extensions (Intel(R) AVX) instructions.\n",
      "Intel MKL WARNING: Support of Intel(R) Streaming SIMD Extensions 4.2 (Intel(R) SSE4.2) enabled only processors has been deprecated. Intel oneAPI Math Kernel Library 2025.0 will require Intel(R) Advanced Vector Extensions (Intel(R) AVX) instructions.\n"
     ]
    }
   ],
   "source": [
    "import numpy as np\n",
    "import pandas as pd \n",
    "import statsmodels.api as sm\n",
    "from statsmodels.formula.api import ols\n",
    "import utils\n",
    "from scipy import stats"
   ]
  },
  {
   "cell_type": "markdown",
   "id": "d0467595-8176-4285-85b4-db75304e950d",
   "metadata": {},
   "source": [
    "# Anova tests"
   ]
  },
  {
   "cell_type": "markdown",
   "id": "32a28536",
   "metadata": {},
   "source": [
    "## Period level"
   ]
  },
  {
   "cell_type": "code",
   "execution_count": 2,
   "id": "1dd09110",
   "metadata": {},
   "outputs": [],
   "source": [
    "data_file = './data/paleo_meso_ceno_data_period.csv'\n",
    "\n",
    "data = pd.read_csv(data_file)\n",
    "data = data.sort_values(by=['mean_ma'], ascending=False)\n",
    "data.skeletal_total = pd.to_numeric(data.skeletal_total)"
   ]
  },
  {
   "cell_type": "markdown",
   "id": "936256ac",
   "metadata": {},
   "source": [
    "# reef vs non reef"
   ]
  },
  {
   "cell_type": "code",
   "execution_count": 3,
   "id": "c883dc38",
   "metadata": {},
   "outputs": [],
   "source": [
    "# reef only data\n",
    "reefs =['patchReefs', 'reef','interReef','mudMound','foreReef', 'bioherm', 'patchReef','backReef']\n",
    "\n",
    "reef_index = data[data['depo_env2'].isin(reefs)].index\n",
    "non_reef_index = data[~data['depo_env2'].isin(reefs)].index\n",
    "\n",
    "data.loc[reef_index,'reef_classification'] = 'reef'\n",
    "data.loc[non_reef_index,'reef_classification'] = 'non reef'\n",
    "\n",
    "data = data.sort_values(by=['mean_ma'], ascending=False)"
   ]
  },
  {
   "cell_type": "code",
   "execution_count": 4,
   "id": "63c25028-1b05-4d7c-89a5-95917bac4b3f",
   "metadata": {},
   "outputs": [
    {
     "name": "stdout",
     "output_type": "stream",
     "text": [
      "Intel MKL WARNING: Support of Intel(R) Streaming SIMD Extensions 4.2 (Intel(R) SSE4.2) enabled only processors has been deprecated. Intel oneAPI Math Kernel Library 2025.0 will require Intel(R) Advanced Vector Extensions (Intel(R) AVX) instructions.\n"
     ]
    },
    {
     "data": {
      "text/html": [
       "<div>\n",
       "<style scoped>\n",
       "    .dataframe tbody tr th:only-of-type {\n",
       "        vertical-align: middle;\n",
       "    }\n",
       "\n",
       "    .dataframe tbody tr th {\n",
       "        vertical-align: top;\n",
       "    }\n",
       "\n",
       "    .dataframe thead th {\n",
       "        text-align: right;\n",
       "    }\n",
       "</style>\n",
       "<table border=\"1\" class=\"dataframe\">\n",
       "  <thead>\n",
       "    <tr style=\"text-align: right;\">\n",
       "      <th></th>\n",
       "      <th>sum_sq</th>\n",
       "      <th>df</th>\n",
       "      <th>F</th>\n",
       "      <th>PR(&gt;F)</th>\n",
       "    </tr>\n",
       "  </thead>\n",
       "  <tbody>\n",
       "    <tr>\n",
       "      <th>C(period)</th>\n",
       "      <td>1.571363e+06</td>\n",
       "      <td>11.0</td>\n",
       "      <td>331.176060</td>\n",
       "      <td>0.000000e+00</td>\n",
       "    </tr>\n",
       "    <tr>\n",
       "      <th>C(reef_classification)</th>\n",
       "      <td>1.184760e+05</td>\n",
       "      <td>1.0</td>\n",
       "      <td>274.666423</td>\n",
       "      <td>1.201921e-60</td>\n",
       "    </tr>\n",
       "    <tr>\n",
       "      <th>Residual</th>\n",
       "      <td>3.336886e+06</td>\n",
       "      <td>7736.0</td>\n",
       "      <td>NaN</td>\n",
       "      <td>NaN</td>\n",
       "    </tr>\n",
       "  </tbody>\n",
       "</table>\n",
       "</div>"
      ],
      "text/plain": [
       "                              sum_sq      df           F        PR(>F)\n",
       "C(period)               1.571363e+06    11.0  331.176060  0.000000e+00\n",
       "C(reef_classification)  1.184760e+05     1.0  274.666423  1.201921e-60\n",
       "Residual                3.336886e+06  7736.0         NaN           NaN"
      ]
     },
     "execution_count": 4,
     "metadata": {},
     "output_type": "execute_result"
    }
   ],
   "source": [
    "#perform two-way ANOVA\n",
    "# framework: ramp vs platform\n",
    "model = ols('skeletal_total ~ C(period) + C(reef_classification) ', data=data).fit()\n",
    "an = sm.stats.anova_lm(model, typ=2)\n",
    "an"
   ]
  },
  {
   "cell_type": "code",
   "execution_count": 5,
   "id": "8836a246-cc51-41f7-bba8-355ecf30f955",
   "metadata": {},
   "outputs": [
    {
     "data": {
      "text/plain": [
       "(0.3126017448046417, 0.023569227548949565)"
      ]
     },
     "execution_count": 5,
     "metadata": {},
     "output_type": "execute_result"
    }
   ],
   "source": [
    "an.loc['C(period)'].sum_sq/an['sum_sq'].sum(), an.loc['C(reef_classification)'].sum_sq/an['sum_sq'].sum()"
   ]
  },
  {
   "cell_type": "markdown",
   "id": "76dc72c3-be3a-48ff-979e-b408cfcbfdbe",
   "metadata": {},
   "source": [
    "# Read epoch level data for the following anova tests"
   ]
  },
  {
   "cell_type": "code",
   "execution_count": 6,
   "id": "48243501-c62c-40d2-8402-f08659ccb91b",
   "metadata": {},
   "outputs": [],
   "source": [
    "data_file = './data/paleo_meso_ceno_data_paleogeography_epoch.csv'\n",
    "\n",
    "data = pd.read_csv(data_file)\n",
    "data = data.sort_values(by=['mean_ma'], ascending=False)"
   ]
  },
  {
   "cell_type": "code",
   "execution_count": 7,
   "id": "64b4dbce-bce6-4fb5-81bd-57f31c6197de",
   "metadata": {},
   "outputs": [],
   "source": [
    "data.skeletal_total = pd.to_numeric(data.skeletal_total)"
   ]
  },
  {
   "cell_type": "code",
   "execution_count": 8,
   "id": "eb2f6774-ef72-43b3-9abd-106caa5aef40",
   "metadata": {},
   "outputs": [],
   "source": [
    "water_depth = []\n",
    "for _,dat in data.iterrows():\n",
    "    if (dat.depo_env1=='distalRamp') or (dat.depo_env1=='outerShelf'):\n",
    "        water_depth.append('Deep')\n",
    "    else:\n",
    "        water_depth.append('Shallow')\n",
    "        \n",
    "data['water_depth'] = water_depth"
   ]
  },
  {
   "cell_type": "markdown",
   "id": "584a013e-e1e4-4114-a495-e720f610e0d7",
   "metadata": {},
   "source": [
    "## time and depositional setting"
   ]
  },
  {
   "cell_type": "code",
   "execution_count": 11,
   "id": "2a3f603c-31a0-438f-bba6-5405ba8da710",
   "metadata": {},
   "outputs": [
    {
     "name": "stdout",
     "output_type": "stream",
     "text": [
      "Intel MKL WARNING: Support of Intel(R) Streaming SIMD Extensions 4.2 (Intel(R) SSE4.2) enabled only processors has been deprecated. Intel oneAPI Math Kernel Library 2025.0 will require Intel(R) Advanced Vector Extensions (Intel(R) AVX) instructions.\n"
     ]
    },
    {
     "data": {
      "text/html": [
       "<div>\n",
       "<style scoped>\n",
       "    .dataframe tbody tr th:only-of-type {\n",
       "        vertical-align: middle;\n",
       "    }\n",
       "\n",
       "    .dataframe tbody tr th {\n",
       "        vertical-align: top;\n",
       "    }\n",
       "\n",
       "    .dataframe thead th {\n",
       "        text-align: right;\n",
       "    }\n",
       "</style>\n",
       "<table border=\"1\" class=\"dataframe\">\n",
       "  <thead>\n",
       "    <tr style=\"text-align: right;\">\n",
       "      <th></th>\n",
       "      <th>sum_sq</th>\n",
       "      <th>df</th>\n",
       "      <th>F</th>\n",
       "      <th>PR(&gt;F)</th>\n",
       "    </tr>\n",
       "  </thead>\n",
       "  <tbody>\n",
       "    <tr>\n",
       "      <th>C(epoch)</th>\n",
       "      <td>1.842727e+06</td>\n",
       "      <td>32.0</td>\n",
       "      <td>150.727601</td>\n",
       "      <td>0.000000e+00</td>\n",
       "    </tr>\n",
       "    <tr>\n",
       "      <th>C(framework)</th>\n",
       "      <td>2.605696e+04</td>\n",
       "      <td>2.0</td>\n",
       "      <td>34.101653</td>\n",
       "      <td>1.798577e-15</td>\n",
       "    </tr>\n",
       "    <tr>\n",
       "      <th>Residual</th>\n",
       "      <td>2.947121e+06</td>\n",
       "      <td>7714.0</td>\n",
       "      <td>NaN</td>\n",
       "      <td>NaN</td>\n",
       "    </tr>\n",
       "  </tbody>\n",
       "</table>\n",
       "</div>"
      ],
      "text/plain": [
       "                    sum_sq      df           F        PR(>F)\n",
       "C(epoch)      1.842727e+06    32.0  150.727601  0.000000e+00\n",
       "C(framework)  2.605696e+04     2.0   34.101653  1.798577e-15\n",
       "Residual      2.947121e+06  7714.0         NaN           NaN"
      ]
     },
     "execution_count": 11,
     "metadata": {},
     "output_type": "execute_result"
    }
   ],
   "source": [
    "#perform two-way ANOVA\n",
    "# framework: ramp vs platform\n",
    "model = ols('skeletal_total ~ C(epoch) + C(framework) ', data=data).fit()\n",
    "an = sm.stats.anova_lm(model, typ=2)\n",
    "an"
   ]
  },
  {
   "cell_type": "code",
   "execution_count": 12,
   "id": "ff9cb5b5-e673-40a4-9a1f-56500ad098aa",
   "metadata": {},
   "outputs": [
    {
     "data": {
      "text/plain": [
       "(0.3826336434455368, 0.0054106047238039095)"
      ]
     },
     "execution_count": 12,
     "metadata": {},
     "output_type": "execute_result"
    }
   ],
   "source": [
    "an.loc['C(epoch)'].sum_sq/an['sum_sq'].sum(), an.loc['C(framework)'].sum_sq/an['sum_sq'].sum()"
   ]
  },
  {
   "cell_type": "code",
   "execution_count": 60,
   "id": "d2229893-c245-4b7e-8fae-2ae82601148a",
   "metadata": {},
   "outputs": [
    {
     "name": "stdout",
     "output_type": "stream",
     "text": [
      "Intel MKL WARNING: Support of Intel(R) Streaming SIMD Extensions 4.2 (Intel(R) SSE4.2) enabled only processors has been deprecated. Intel oneAPI Math Kernel Library 2025.0 will require Intel(R) Advanced Vector Extensions (Intel(R) AVX) instructions.\n"
     ]
    },
    {
     "data": {
      "text/html": [
       "<div>\n",
       "<style scoped>\n",
       "    .dataframe tbody tr th:only-of-type {\n",
       "        vertical-align: middle;\n",
       "    }\n",
       "\n",
       "    .dataframe tbody tr th {\n",
       "        vertical-align: top;\n",
       "    }\n",
       "\n",
       "    .dataframe thead th {\n",
       "        text-align: right;\n",
       "    }\n",
       "</style>\n",
       "<table border=\"1\" class=\"dataframe\">\n",
       "  <thead>\n",
       "    <tr style=\"text-align: right;\">\n",
       "      <th></th>\n",
       "      <th>sum_sq</th>\n",
       "      <th>df</th>\n",
       "      <th>F</th>\n",
       "      <th>PR(&gt;F)</th>\n",
       "    </tr>\n",
       "  </thead>\n",
       "  <tbody>\n",
       "    <tr>\n",
       "      <th>C(epoch)</th>\n",
       "      <td>1.700846e+06</td>\n",
       "      <td>32.0</td>\n",
       "      <td>148.274564</td>\n",
       "      <td>0.000000e+00</td>\n",
       "    </tr>\n",
       "    <tr>\n",
       "      <th>C(depo_env1)</th>\n",
       "      <td>2.094026e+05</td>\n",
       "      <td>6.0</td>\n",
       "      <td>97.360441</td>\n",
       "      <td>1.978378e-118</td>\n",
       "    </tr>\n",
       "    <tr>\n",
       "      <th>Residual</th>\n",
       "      <td>2.763775e+06</td>\n",
       "      <td>7710.0</td>\n",
       "      <td>NaN</td>\n",
       "      <td>NaN</td>\n",
       "    </tr>\n",
       "  </tbody>\n",
       "</table>\n",
       "</div>"
      ],
      "text/plain": [
       "                    sum_sq      df           F         PR(>F)\n",
       "C(epoch)      1.700846e+06    32.0  148.274564   0.000000e+00\n",
       "C(depo_env1)  2.094026e+05     6.0   97.360441  1.978378e-118\n",
       "Residual      2.763775e+06  7710.0         NaN            NaN"
      ]
     },
     "execution_count": 60,
     "metadata": {},
     "output_type": "execute_result"
    }
   ],
   "source": [
    "#perform two-way ANOVA\n",
    "# depo_env1: location on ramp vs location on platform\n",
    "model = ols('skeletal_total ~ C(epoch) + C(depo_env1) ', data=data).fit()\n",
    "an = sm.stats.anova_lm(model, typ=2)\n",
    "an"
   ]
  },
  {
   "cell_type": "code",
   "execution_count": 61,
   "id": "7f5bd7c4-c955-40c1-b11f-0afa5cefba87",
   "metadata": {},
   "outputs": [
    {
     "data": {
      "text/plain": [
       "(0.36389329864840875, 0.04480136073007238)"
      ]
     },
     "execution_count": 61,
     "metadata": {},
     "output_type": "execute_result"
    }
   ],
   "source": [
    "an.loc['C(epoch)'].sum_sq/an['sum_sq'].sum(), an.loc['C(depo_env1)'].sum_sq/an['sum_sq'].sum()"
   ]
  },
  {
   "cell_type": "code",
   "execution_count": 18,
   "id": "1cb85dfa-d15d-4e52-89b6-f7d66edf74cd",
   "metadata": {},
   "outputs": [
    {
     "name": "stdout",
     "output_type": "stream",
     "text": [
      "Intel MKL WARNING: Support of Intel(R) Streaming SIMD Extensions 4.2 (Intel(R) SSE4.2) enabled only processors has been deprecated. Intel oneAPI Math Kernel Library 2025.0 will require Intel(R) Advanced Vector Extensions (Intel(R) AVX) instructions.\n"
     ]
    },
    {
     "data": {
      "text/html": [
       "<div>\n",
       "<style scoped>\n",
       "    .dataframe tbody tr th:only-of-type {\n",
       "        vertical-align: middle;\n",
       "    }\n",
       "\n",
       "    .dataframe tbody tr th {\n",
       "        vertical-align: top;\n",
       "    }\n",
       "\n",
       "    .dataframe thead th {\n",
       "        text-align: right;\n",
       "    }\n",
       "</style>\n",
       "<table border=\"1\" class=\"dataframe\">\n",
       "  <thead>\n",
       "    <tr style=\"text-align: right;\">\n",
       "      <th></th>\n",
       "      <th>sum_sq</th>\n",
       "      <th>df</th>\n",
       "      <th>F</th>\n",
       "      <th>PR(&gt;F)</th>\n",
       "    </tr>\n",
       "  </thead>\n",
       "  <tbody>\n",
       "    <tr>\n",
       "      <th>C(epoch)</th>\n",
       "      <td>1.941334e+06</td>\n",
       "      <td>32.0</td>\n",
       "      <td>157.466580</td>\n",
       "      <td>0.000000</td>\n",
       "    </tr>\n",
       "    <tr>\n",
       "      <th>C(water_depth)</th>\n",
       "      <td>8.427288e+02</td>\n",
       "      <td>1.0</td>\n",
       "      <td>2.187389</td>\n",
       "      <td>0.139186</td>\n",
       "    </tr>\n",
       "    <tr>\n",
       "      <th>Residual</th>\n",
       "      <td>2.972335e+06</td>\n",
       "      <td>7715.0</td>\n",
       "      <td>NaN</td>\n",
       "      <td>NaN</td>\n",
       "    </tr>\n",
       "  </tbody>\n",
       "</table>\n",
       "</div>"
      ],
      "text/plain": [
       "                      sum_sq      df           F    PR(>F)\n",
       "C(epoch)        1.941334e+06    32.0  157.466580  0.000000\n",
       "C(water_depth)  8.427288e+02     1.0    2.187389  0.139186\n",
       "Residual        2.972335e+06  7715.0         NaN       NaN"
      ]
     },
     "execution_count": 18,
     "metadata": {},
     "output_type": "execute_result"
    }
   ],
   "source": [
    "#perform two-way ANOVA\n",
    "# water_depth: deep or shallow\n",
    "model = ols('skeletal_total ~ C(epoch) + C(water_depth)', data=data).fit()\n",
    "an = sm.stats.anova_lm(model, typ=2)\n",
    "an"
   ]
  },
  {
   "cell_type": "code",
   "execution_count": 19,
   "id": "1acb1762-6875-4393-9559-a4bb485702c5",
   "metadata": {},
   "outputs": [
    {
     "data": {
      "text/plain": [
       "(0.39502069381942045, 0.0001714776407615819)"
      ]
     },
     "execution_count": 19,
     "metadata": {},
     "output_type": "execute_result"
    }
   ],
   "source": [
    "an.loc['C(epoch)'].sum_sq/an['sum_sq'].sum(), an.loc['C(water_depth)'].sum_sq/an['sum_sq'].sum()"
   ]
  },
  {
   "cell_type": "markdown",
   "id": "5e911f9b-868c-4cf6-85b0-d5665ea3a391",
   "metadata": {},
   "source": [
    "## time and paleolat setting"
   ]
  },
  {
   "cell_type": "code",
   "execution_count": 20,
   "id": "48632460-c7b5-4041-bfde-888f85282be9",
   "metadata": {},
   "outputs": [
    {
     "name": "stdout",
     "output_type": "stream",
     "text": [
      "Intel MKL WARNING: Support of Intel(R) Streaming SIMD Extensions 4.2 (Intel(R) SSE4.2) enabled only processors has been deprecated. Intel oneAPI Math Kernel Library 2025.0 will require Intel(R) Advanced Vector Extensions (Intel(R) AVX) instructions.\n"
     ]
    },
    {
     "data": {
      "text/html": [
       "<div>\n",
       "<style scoped>\n",
       "    .dataframe tbody tr th:only-of-type {\n",
       "        vertical-align: middle;\n",
       "    }\n",
       "\n",
       "    .dataframe tbody tr th {\n",
       "        vertical-align: top;\n",
       "    }\n",
       "\n",
       "    .dataframe thead th {\n",
       "        text-align: right;\n",
       "    }\n",
       "</style>\n",
       "<table border=\"1\" class=\"dataframe\">\n",
       "  <thead>\n",
       "    <tr style=\"text-align: right;\">\n",
       "      <th></th>\n",
       "      <th>sum_sq</th>\n",
       "      <th>df</th>\n",
       "      <th>F</th>\n",
       "      <th>PR(&gt;F)</th>\n",
       "    </tr>\n",
       "  </thead>\n",
       "  <tbody>\n",
       "    <tr>\n",
       "      <th>C(epoch)</th>\n",
       "      <td>1.947804e+06</td>\n",
       "      <td>32.0</td>\n",
       "      <td>158.357823</td>\n",
       "      <td>0.000000</td>\n",
       "    </tr>\n",
       "    <tr>\n",
       "      <th>C(paleo_geography)</th>\n",
       "      <td>7.720350e+03</td>\n",
       "      <td>1.0</td>\n",
       "      <td>20.085436</td>\n",
       "      <td>0.000008</td>\n",
       "    </tr>\n",
       "    <tr>\n",
       "      <th>Residual</th>\n",
       "      <td>2.965457e+06</td>\n",
       "      <td>7715.0</td>\n",
       "      <td>NaN</td>\n",
       "      <td>NaN</td>\n",
       "    </tr>\n",
       "  </tbody>\n",
       "</table>\n",
       "</div>"
      ],
      "text/plain": [
       "                          sum_sq      df           F    PR(>F)\n",
       "C(epoch)            1.947804e+06    32.0  158.357823  0.000000\n",
       "C(paleo_geography)  7.720350e+03     1.0   20.085436  0.000008\n",
       "Residual            2.965457e+06  7715.0         NaN       NaN"
      ]
     },
     "execution_count": 20,
     "metadata": {},
     "output_type": "execute_result"
    }
   ],
   "source": [
    "#perform two-way ANOVA\n",
    "model = ols('skeletal_total ~ C(epoch) + C(paleo_geography)', data=data).fit()\n",
    "an = sm.stats.anova_lm(model, typ=2)\n",
    "an"
   ]
  },
  {
   "cell_type": "code",
   "execution_count": 21,
   "id": "abbdc6f0-2861-4fd1-926e-aa393998e995",
   "metadata": {},
   "outputs": [
    {
     "data": {
      "text/plain": [
       "(0.39581614391791947, 0.0015688638796896692)"
      ]
     },
     "execution_count": 21,
     "metadata": {},
     "output_type": "execute_result"
    }
   ],
   "source": [
    "an.loc['C(epoch)'].sum_sq/an['sum_sq'].sum(), an.loc['C(paleo_geography)'].sum_sq/an['sum_sq'].sum()"
   ]
  },
  {
   "cell_type": "markdown",
   "id": "5e20aa18-3d97-439a-9d86-c6748ef508fc",
   "metadata": {},
   "source": [
    "## time and Chemistry [Aragonite and calcite]"
   ]
  },
  {
   "cell_type": "code",
   "execution_count": 24,
   "id": "80f6dffd-75f2-4aee-81c0-087cdbada67f",
   "metadata": {},
   "outputs": [],
   "source": [
    "chemical_composition = pd.read_excel('./data/chemistry_data.xlsx',sheet_name='chemistry')\n",
    "epoch_chemical_unique = np.unique(chemical_composition.Epoch)\n",
    "chemical_composition.set_index('Epoch',inplace=True)\n",
    "\n",
    "skeletal_chemical = []\n",
    "epoch_chemical = []\n",
    "chemistry = []\n",
    "for _,dat in data.iterrows():\n",
    "    if dat.epoch in epoch_chemical_unique:\n",
    "        skeletal_chemical.append(dat.skeletal_total)\n",
    "        epoch_chemical.append(dat.epoch)\n",
    "        chemistry.append(chemical_composition['chemistry'][dat.epoch])\n",
    "chemistry_df = pd.DataFrame({'skeletal_total':skeletal_chemical,'chemistry':chemistry,'epoch':epoch_chemical})"
   ]
  },
  {
   "cell_type": "code",
   "execution_count": 25,
   "id": "f1a1f2e3-2b69-40b6-9fd9-7fe335648881",
   "metadata": {},
   "outputs": [
    {
     "name": "stdout",
     "output_type": "stream",
     "text": [
      "Intel MKL WARNING: Support of Intel(R) Streaming SIMD Extensions 4.2 (Intel(R) SSE4.2) enabled only processors has been deprecated. Intel oneAPI Math Kernel Library 2025.0 will require Intel(R) Advanced Vector Extensions (Intel(R) AVX) instructions.\n"
     ]
    },
    {
     "data": {
      "text/html": [
       "<div>\n",
       "<style scoped>\n",
       "    .dataframe tbody tr th:only-of-type {\n",
       "        vertical-align: middle;\n",
       "    }\n",
       "\n",
       "    .dataframe tbody tr th {\n",
       "        vertical-align: top;\n",
       "    }\n",
       "\n",
       "    .dataframe thead th {\n",
       "        text-align: right;\n",
       "    }\n",
       "</style>\n",
       "<table border=\"1\" class=\"dataframe\">\n",
       "  <thead>\n",
       "    <tr style=\"text-align: right;\">\n",
       "      <th></th>\n",
       "      <th>df</th>\n",
       "      <th>sum_sq</th>\n",
       "      <th>mean_sq</th>\n",
       "      <th>F</th>\n",
       "      <th>PR(&gt;F)</th>\n",
       "    </tr>\n",
       "  </thead>\n",
       "  <tbody>\n",
       "    <tr>\n",
       "      <th>C(chemistry)</th>\n",
       "      <td>1.0</td>\n",
       "      <td>2.368333e+00</td>\n",
       "      <td>2.368333</td>\n",
       "      <td>0.003698</td>\n",
       "      <td>0.951513</td>\n",
       "    </tr>\n",
       "    <tr>\n",
       "      <th>Residual</th>\n",
       "      <td>7369.0</td>\n",
       "      <td>4.719631e+06</td>\n",
       "      <td>640.471012</td>\n",
       "      <td>NaN</td>\n",
       "      <td>NaN</td>\n",
       "    </tr>\n",
       "  </tbody>\n",
       "</table>\n",
       "</div>"
      ],
      "text/plain": [
       "                  df        sum_sq     mean_sq         F    PR(>F)\n",
       "C(chemistry)     1.0  2.368333e+00    2.368333  0.003698  0.951513\n",
       "Residual      7369.0  4.719631e+06  640.471012       NaN       NaN"
      ]
     },
     "execution_count": 25,
     "metadata": {},
     "output_type": "execute_result"
    }
   ],
   "source": [
    "#perform one-way ANOVA\n",
    "model = ols('skeletal_total ~ C(chemistry)', data=chemistry_df).fit()\n",
    "an = sm.stats.anova_lm(model, typ=1)\n",
    "an"
   ]
  },
  {
   "cell_type": "code",
   "execution_count": 26,
   "id": "118907ae-cd6c-44da-8e16-ac03f52ca960",
   "metadata": {},
   "outputs": [
    {
     "data": {
      "text/plain": [
       "5.018044204354113e-07"
      ]
     },
     "execution_count": 26,
     "metadata": {},
     "output_type": "execute_result"
    }
   ],
   "source": [
    "an.loc['C(chemistry)'].sum_sq/an['sum_sq'].sum()"
   ]
  },
  {
   "cell_type": "markdown",
   "id": "0a41eedb",
   "metadata": {},
   "source": [
    "## Time and number of samples"
   ]
  },
  {
   "cell_type": "code",
   "execution_count": null,
   "id": "43e1f3d2",
   "metadata": {},
   "outputs": [
    {
     "name": "stdout",
     "output_type": "stream",
     "text": [
      "Intel MKL WARNING: Support of Intel(R) Streaming SIMD Extensions 4.2 (Intel(R) SSE4.2) enabled only processors has been deprecated. Intel oneAPI Math Kernel Library 2025.0 will require Intel(R) Advanced Vector Extensions (Intel(R) AVX) instructions.\n"
     ]
    },
    {
     "data": {
      "text/html": [
       "<div>\n",
       "<style scoped>\n",
       "    .dataframe tbody tr th:only-of-type {\n",
       "        vertical-align: middle;\n",
       "    }\n",
       "\n",
       "    .dataframe tbody tr th {\n",
       "        vertical-align: top;\n",
       "    }\n",
       "\n",
       "    .dataframe thead th {\n",
       "        text-align: right;\n",
       "    }\n",
       "</style>\n",
       "<table border=\"1\" class=\"dataframe\">\n",
       "  <thead>\n",
       "    <tr style=\"text-align: right;\">\n",
       "      <th></th>\n",
       "      <th>sum_sq</th>\n",
       "      <th>df</th>\n",
       "      <th>F</th>\n",
       "      <th>PR(&gt;F)</th>\n",
       "    </tr>\n",
       "  </thead>\n",
       "  <tbody>\n",
       "    <tr>\n",
       "      <th>C(epoch)</th>\n",
       "      <td>1.881857e+06</td>\n",
       "      <td>32.0</td>\n",
       "      <td>152.598283</td>\n",
       "      <td>0.000000</td>\n",
       "    </tr>\n",
       "    <tr>\n",
       "      <th>numberOfSamples</th>\n",
       "      <td>1.381017e+01</td>\n",
       "      <td>1.0</td>\n",
       "      <td>0.035835</td>\n",
       "      <td>0.849861</td>\n",
       "    </tr>\n",
       "    <tr>\n",
       "      <th>Residual</th>\n",
       "      <td>2.973192e+06</td>\n",
       "      <td>7715.0</td>\n",
       "      <td>NaN</td>\n",
       "      <td>NaN</td>\n",
       "    </tr>\n",
       "  </tbody>\n",
       "</table>\n",
       "</div>"
      ],
      "text/plain": [
       "                       sum_sq      df           F    PR(>F)\n",
       "C(epoch)         1.881857e+06    32.0  152.598283  0.000000\n",
       "numberOfSamples  1.381017e+01     1.0    0.035835  0.849861\n",
       "Residual         2.973192e+06  7715.0         NaN       NaN"
      ]
     },
     "execution_count": 27,
     "metadata": {},
     "output_type": "execute_result"
    }
   ],
   "source": [
    "# Fit the two-way ANOVA model\n",
    "model = ols('skeletal_total ~ C(epoch) + numberOfSamples', data=data).fit()\n",
    "\n",
    "# Perform ANOVA\n",
    "an = sm.stats.anova_lm(model, typ=2)\n",
    "an"
   ]
  },
  {
   "cell_type": "code",
   "execution_count": 28,
   "id": "5847e571",
   "metadata": {},
   "outputs": [
    {
     "data": {
      "text/plain": [
       "(0.38760715503576676, 2.844488849162627e-06)"
      ]
     },
     "execution_count": 28,
     "metadata": {},
     "output_type": "execute_result"
    }
   ],
   "source": [
    "an.loc['C(epoch)'].sum_sq/an['sum_sq'].sum(), an.loc['numberOfSamples'].sum_sq/an['sum_sq'].sum()"
   ]
  }
 ],
 "metadata": {
  "kernelspec": {
   "display_name": "research",
   "language": "python",
   "name": "python3"
  },
  "language_info": {
   "codemirror_mode": {
    "name": "ipython",
    "version": 3
   },
   "file_extension": ".py",
   "mimetype": "text/x-python",
   "name": "python",
   "nbconvert_exporter": "python",
   "pygments_lexer": "ipython3",
   "version": "3.9.21"
  }
 },
 "nbformat": 4,
 "nbformat_minor": 5
}
