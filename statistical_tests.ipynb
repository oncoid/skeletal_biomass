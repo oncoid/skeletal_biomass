{
 "cells": [
  {
   "cell_type": "code",
   "execution_count": 1,
   "id": "1de536cf-cabd-40eb-8cda-01efa9943e95",
   "metadata": {},
   "outputs": [
    {
     "name": "stdout",
     "output_type": "stream",
     "text": [
      "Intel MKL WARNING: Support of Intel(R) Streaming SIMD Extensions 4.2 (Intel(R) SSE4.2) enabled only processors has been deprecated. Intel oneAPI Math Kernel Library 2025.0 will require Intel(R) Advanced Vector Extensions (Intel(R) AVX) instructions.\n",
      "Intel MKL WARNING: Support of Intel(R) Streaming SIMD Extensions 4.2 (Intel(R) SSE4.2) enabled only processors has been deprecated. Intel oneAPI Math Kernel Library 2025.0 will require Intel(R) Advanced Vector Extensions (Intel(R) AVX) instructions.\n"
     ]
    }
   ],
   "source": [
    "import numpy as np\n",
    "import scipy \n",
    "import pandas as pd \n",
    "import plotly.graph_objects as go\n",
    "from plotly.subplots import make_subplots\n",
    "import statsmodels.api as sm\n",
    "from statsmodels.formula.api import ols\n",
    "import utils\n",
    "import plot_utils\n",
    "import random\n",
    "from scipy import stats"
   ]
  },
  {
   "cell_type": "markdown",
   "id": "76dc72c3-be3a-48ff-979e-b408cfcbfdbe",
   "metadata": {},
   "source": [
    "# Read data"
   ]
  },
  {
   "cell_type": "code",
   "execution_count": 2,
   "id": "48243501-c62c-40d2-8402-f08659ccb91b",
   "metadata": {},
   "outputs": [],
   "source": [
    "data_file = './data/paleo_meso_ceno_data_june_paleogeography.csv'\n",
    "\n",
    "data = pd.read_csv(data_file)\n",
    "data = data.sort_values(by=['mean_ma'], ascending=False)"
   ]
  },
  {
   "cell_type": "code",
   "execution_count": 3,
   "id": "64b4dbce-bce6-4fb5-81bd-57f31c6197de",
   "metadata": {},
   "outputs": [],
   "source": [
    "data.skeletal_total = pd.to_numeric(data.skeletal_total)"
   ]
  },
  {
   "cell_type": "code",
   "execution_count": 4,
   "id": "eb2f6774-ef72-43b3-9abd-106caa5aef40",
   "metadata": {},
   "outputs": [],
   "source": [
    "water_depth = []\n",
    "for _,dat in data.iterrows():\n",
    "    if (dat.depo_env1=='distalRamp') or (dat.depo_env1=='outerShelf'):\n",
    "        water_depth.append('Deep')\n",
    "    else:\n",
    "        water_depth.append('Shallow')\n",
    "        \n",
    "data['water_depth'] = water_depth"
   ]
  },
  {
   "cell_type": "markdown",
   "id": "d0467595-8176-4285-85b4-db75304e950d",
   "metadata": {},
   "source": [
    "# Anova tests"
   ]
  },
  {
   "cell_type": "markdown",
   "id": "584a013e-e1e4-4114-a495-e720f610e0d7",
   "metadata": {},
   "source": [
    "## time and depositional setting"
   ]
  },
  {
   "cell_type": "code",
   "execution_count": 16,
   "id": "e7ad4973-d7f5-45a0-bdb0-f0fe9c78cdc5",
   "metadata": {},
   "outputs": [
    {
     "name": "stdout",
     "output_type": "stream",
     "text": [
      "Intel MKL WARNING: Support of Intel(R) Streaming SIMD Extensions 4.2 (Intel(R) SSE4.2) enabled only processors has been deprecated. Intel oneAPI Math Kernel Library 2025.0 will require Intel(R) Advanced Vector Extensions (Intel(R) AVX) instructions.\n"
     ]
    },
    {
     "data": {
      "text/html": [
       "<div>\n",
       "<style scoped>\n",
       "    .dataframe tbody tr th:only-of-type {\n",
       "        vertical-align: middle;\n",
       "    }\n",
       "\n",
       "    .dataframe tbody tr th {\n",
       "        vertical-align: top;\n",
       "    }\n",
       "\n",
       "    .dataframe thead th {\n",
       "        text-align: right;\n",
       "    }\n",
       "</style>\n",
       "<table border=\"1\" class=\"dataframe\">\n",
       "  <thead>\n",
       "    <tr style=\"text-align: right;\">\n",
       "      <th></th>\n",
       "      <th>sum_sq</th>\n",
       "      <th>df</th>\n",
       "      <th>F</th>\n",
       "      <th>PR(&gt;F)</th>\n",
       "    </tr>\n",
       "  </thead>\n",
       "  <tbody>\n",
       "    <tr>\n",
       "      <th>C(epoch)</th>\n",
       "      <td>1.895514e+06</td>\n",
       "      <td>32.0</td>\n",
       "      <td>157.431503</td>\n",
       "      <td>0.000000e+00</td>\n",
       "    </tr>\n",
       "    <tr>\n",
       "      <th>C(framework)</th>\n",
       "      <td>3.701110e+04</td>\n",
       "      <td>2.0</td>\n",
       "      <td>49.183199</td>\n",
       "      <td>6.092872e-22</td>\n",
       "    </tr>\n",
       "    <tr>\n",
       "      <th>Residual</th>\n",
       "      <td>2.704916e+06</td>\n",
       "      <td>7189.0</td>\n",
       "      <td>NaN</td>\n",
       "      <td>NaN</td>\n",
       "    </tr>\n",
       "  </tbody>\n",
       "</table>\n",
       "</div>"
      ],
      "text/plain": [
       "                    sum_sq      df           F        PR(>F)\n",
       "C(epoch)      1.895514e+06    32.0  157.431503  0.000000e+00\n",
       "C(framework)  3.701110e+04     2.0   49.183199  6.092872e-22\n",
       "Residual      2.704916e+06  7189.0         NaN           NaN"
      ]
     },
     "execution_count": 16,
     "metadata": {},
     "output_type": "execute_result"
    }
   ],
   "source": [
    "#perform two-way ANOVA\n",
    "# framework: ramp vs platform\n",
    "model = ols('skeletal_total ~ C(epoch) + C(framework) ', data=data).fit()\n",
    "an = sm.stats.anova_lm(model, typ=2)\n",
    "an"
   ]
  },
  {
   "cell_type": "code",
   "execution_count": 17,
   "id": "5c75857b-27f0-49a4-8bca-b68515a1dbf3",
   "metadata": {},
   "outputs": [
    {
     "data": {
      "text/plain": [
       "(0.4087413203453251, 0.007980933453386423)"
      ]
     },
     "execution_count": 17,
     "metadata": {},
     "output_type": "execute_result"
    }
   ],
   "source": [
    "an.loc['C(epoch)'].sum_sq/an['sum_sq'].sum(), an.loc['C(framework)'].sum_sq/an['sum_sq'].sum()"
   ]
  },
  {
   "cell_type": "code",
   "execution_count": 18,
   "id": "c46fd344-c807-45e4-b3ce-b47565c39bca",
   "metadata": {},
   "outputs": [
    {
     "name": "stdout",
     "output_type": "stream",
     "text": [
      "Intel MKL WARNING: Support of Intel(R) Streaming SIMD Extensions 4.2 (Intel(R) SSE4.2) enabled only processors has been deprecated. Intel oneAPI Math Kernel Library 2025.0 will require Intel(R) Advanced Vector Extensions (Intel(R) AVX) instructions.\n"
     ]
    },
    {
     "data": {
      "text/html": [
       "<div>\n",
       "<style scoped>\n",
       "    .dataframe tbody tr th:only-of-type {\n",
       "        vertical-align: middle;\n",
       "    }\n",
       "\n",
       "    .dataframe tbody tr th {\n",
       "        vertical-align: top;\n",
       "    }\n",
       "\n",
       "    .dataframe thead th {\n",
       "        text-align: right;\n",
       "    }\n",
       "</style>\n",
       "<table border=\"1\" class=\"dataframe\">\n",
       "  <thead>\n",
       "    <tr style=\"text-align: right;\">\n",
       "      <th></th>\n",
       "      <th>sum_sq</th>\n",
       "      <th>df</th>\n",
       "      <th>F</th>\n",
       "      <th>PR(&gt;F)</th>\n",
       "    </tr>\n",
       "  </thead>\n",
       "  <tbody>\n",
       "    <tr>\n",
       "      <th>C(epoch)</th>\n",
       "      <td>1.709715e+06</td>\n",
       "      <td>32.0</td>\n",
       "      <td>150.470772</td>\n",
       "      <td>0.000000e+00</td>\n",
       "    </tr>\n",
       "    <tr>\n",
       "      <th>C(depo_env1)</th>\n",
       "      <td>1.907045e+05</td>\n",
       "      <td>6.0</td>\n",
       "      <td>89.513414</td>\n",
       "      <td>1.060697e-108</td>\n",
       "    </tr>\n",
       "    <tr>\n",
       "      <th>Residual</th>\n",
       "      <td>2.551222e+06</td>\n",
       "      <td>7185.0</td>\n",
       "      <td>NaN</td>\n",
       "      <td>NaN</td>\n",
       "    </tr>\n",
       "  </tbody>\n",
       "</table>\n",
       "</div>"
      ],
      "text/plain": [
       "                    sum_sq      df           F         PR(>F)\n",
       "C(epoch)      1.709715e+06    32.0  150.470772   0.000000e+00\n",
       "C(depo_env1)  1.907045e+05     6.0   89.513414  1.060697e-108\n",
       "Residual      2.551222e+06  7185.0         NaN            NaN"
      ]
     },
     "execution_count": 18,
     "metadata": {},
     "output_type": "execute_result"
    }
   ],
   "source": [
    "#perform two-way ANOVA\n",
    "# depo_env1: location on ramp vs location on platform\n",
    "model = ols('skeletal_total ~ C(epoch) + C(depo_env1) ', data=data).fit()\n",
    "an = sm.stats.anova_lm(model, typ=2)\n",
    "an"
   ]
  },
  {
   "cell_type": "code",
   "execution_count": 19,
   "id": "467600a3-742c-4a21-972c-20dc4372760e",
   "metadata": {},
   "outputs": [
    {
     "data": {
      "text/plain": [
       "(0.38406388656956514, 0.04283913746179643)"
      ]
     },
     "execution_count": 19,
     "metadata": {},
     "output_type": "execute_result"
    }
   ],
   "source": [
    "an.loc['C(epoch)'].sum_sq/an['sum_sq'].sum(), an.loc['C(depo_env1)'].sum_sq/an['sum_sq'].sum()"
   ]
  },
  {
   "cell_type": "code",
   "execution_count": 27,
   "id": "1cb85dfa-d15d-4e52-89b6-f7d66edf74cd",
   "metadata": {},
   "outputs": [
    {
     "name": "stdout",
     "output_type": "stream",
     "text": [
      "Intel MKL WARNING: Support of Intel(R) Streaming SIMD Extensions 4.2 (Intel(R) SSE4.2) enabled only processors has been deprecated. Intel oneAPI Math Kernel Library 2025.0 will require Intel(R) Advanced Vector Extensions (Intel(R) AVX) instructions.\n"
     ]
    },
    {
     "data": {
      "text/html": [
       "<div>\n",
       "<style scoped>\n",
       "    .dataframe tbody tr th:only-of-type {\n",
       "        vertical-align: middle;\n",
       "    }\n",
       "\n",
       "    .dataframe tbody tr th {\n",
       "        vertical-align: top;\n",
       "    }\n",
       "\n",
       "    .dataframe thead th {\n",
       "        text-align: right;\n",
       "    }\n",
       "</style>\n",
       "<table border=\"1\" class=\"dataframe\">\n",
       "  <thead>\n",
       "    <tr style=\"text-align: right;\">\n",
       "      <th></th>\n",
       "      <th>sum_sq</th>\n",
       "      <th>df</th>\n",
       "      <th>F</th>\n",
       "      <th>PR(&gt;F)</th>\n",
       "    </tr>\n",
       "  </thead>\n",
       "  <tbody>\n",
       "    <tr>\n",
       "      <th>C(epoch)</th>\n",
       "      <td>1.986406e+06</td>\n",
       "      <td>32.0</td>\n",
       "      <td>162.780553</td>\n",
       "      <td>0.000000</td>\n",
       "    </tr>\n",
       "    <tr>\n",
       "      <th>C(water_depth)</th>\n",
       "      <td>7.248376e+01</td>\n",
       "      <td>1.0</td>\n",
       "      <td>0.190075</td>\n",
       "      <td>0.662867</td>\n",
       "    </tr>\n",
       "    <tr>\n",
       "      <th>Residual</th>\n",
       "      <td>2.741854e+06</td>\n",
       "      <td>7190.0</td>\n",
       "      <td>NaN</td>\n",
       "      <td>NaN</td>\n",
       "    </tr>\n",
       "  </tbody>\n",
       "</table>\n",
       "</div>"
      ],
      "text/plain": [
       "                      sum_sq      df           F    PR(>F)\n",
       "C(epoch)        1.986406e+06    32.0  162.780553  0.000000\n",
       "C(water_depth)  7.248376e+01     1.0    0.190075  0.662867\n",
       "Residual        2.741854e+06  7190.0         NaN       NaN"
      ]
     },
     "execution_count": 27,
     "metadata": {},
     "output_type": "execute_result"
    }
   ],
   "source": [
    "#perform two-way ANOVA\n",
    "# water_depth: deep or shallow\n",
    "model = ols('skeletal_total ~ C(epoch) + C(water_depth)', data=data).fit()\n",
    "an = sm.stats.anova_lm(model, typ=2)\n",
    "an"
   ]
  },
  {
   "cell_type": "code",
   "execution_count": 26,
   "id": "1acb1762-6875-4393-9559-a4bb485702c5",
   "metadata": {},
   "outputs": [
    {
     "data": {
      "text/plain": [
       "(0.42010704244914077, 1.5329664072471083e-05)"
      ]
     },
     "execution_count": 26,
     "metadata": {},
     "output_type": "execute_result"
    }
   ],
   "source": [
    "an.loc['C(epoch)'].sum_sq/an['sum_sq'].sum(), an.loc['C(water_depth)'].sum_sq/an['sum_sq'].sum()"
   ]
  },
  {
   "cell_type": "markdown",
   "id": "5e911f9b-868c-4cf6-85b0-d5665ea3a391",
   "metadata": {},
   "source": [
    "## time and paleolat setting"
   ]
  },
  {
   "cell_type": "code",
   "execution_count": 23,
   "id": "48632460-c7b5-4041-bfde-888f85282be9",
   "metadata": {},
   "outputs": [
    {
     "name": "stdout",
     "output_type": "stream",
     "text": [
      "Intel MKL WARNING: Support of Intel(R) Streaming SIMD Extensions 4.2 (Intel(R) SSE4.2) enabled only processors has been deprecated. Intel oneAPI Math Kernel Library 2025.0 will require Intel(R) Advanced Vector Extensions (Intel(R) AVX) instructions.\n"
     ]
    },
    {
     "data": {
      "text/html": [
       "<div>\n",
       "<style scoped>\n",
       "    .dataframe tbody tr th:only-of-type {\n",
       "        vertical-align: middle;\n",
       "    }\n",
       "\n",
       "    .dataframe tbody tr th {\n",
       "        vertical-align: top;\n",
       "    }\n",
       "\n",
       "    .dataframe thead th {\n",
       "        text-align: right;\n",
       "    }\n",
       "</style>\n",
       "<table border=\"1\" class=\"dataframe\">\n",
       "  <thead>\n",
       "    <tr style=\"text-align: right;\">\n",
       "      <th></th>\n",
       "      <th>sum_sq</th>\n",
       "      <th>df</th>\n",
       "      <th>F</th>\n",
       "      <th>PR(&gt;F)</th>\n",
       "    </tr>\n",
       "  </thead>\n",
       "  <tbody>\n",
       "    <tr>\n",
       "      <th>C(epoch)</th>\n",
       "      <td>2.002128e+06</td>\n",
       "      <td>32.0</td>\n",
       "      <td>164.901029</td>\n",
       "      <td>0.000000</td>\n",
       "    </tr>\n",
       "    <tr>\n",
       "      <th>C(paleo_geography)</th>\n",
       "      <td>2.172027e+03</td>\n",
       "      <td>1.0</td>\n",
       "      <td>5.724619</td>\n",
       "      <td>0.016754</td>\n",
       "    </tr>\n",
       "    <tr>\n",
       "      <th>Residual</th>\n",
       "      <td>2.724984e+06</td>\n",
       "      <td>7182.0</td>\n",
       "      <td>NaN</td>\n",
       "      <td>NaN</td>\n",
       "    </tr>\n",
       "  </tbody>\n",
       "</table>\n",
       "</div>"
      ],
      "text/plain": [
       "                          sum_sq      df           F    PR(>F)\n",
       "C(epoch)            2.002128e+06    32.0  164.901029  0.000000\n",
       "C(paleo_geography)  2.172027e+03     1.0    5.724619  0.016754\n",
       "Residual            2.724984e+06  7182.0         NaN       NaN"
      ]
     },
     "execution_count": 23,
     "metadata": {},
     "output_type": "execute_result"
    }
   ],
   "source": [
    "#perform two-way ANOVA\n",
    "model = ols('skeletal_total ~ C(epoch) + C(paleo_geography)', data=data).fit()\n",
    "an = sm.stats.anova_lm(model, typ=2)\n",
    "an"
   ]
  },
  {
   "cell_type": "code",
   "execution_count": 24,
   "id": "fa812c89-b345-43ab-8755-33b5201e518d",
   "metadata": {},
   "outputs": [
    {
     "data": {
      "text/plain": [
       "(0.42334699011773474, 0.0004592717538047158)"
      ]
     },
     "execution_count": 24,
     "metadata": {},
     "output_type": "execute_result"
    }
   ],
   "source": [
    "an.loc['C(epoch)'].sum_sq/an['sum_sq'].sum(), an.loc['C(paleo_geography)'].sum_sq/an['sum_sq'].sum()"
   ]
  },
  {
   "cell_type": "markdown",
   "id": "5e20aa18-3d97-439a-9d86-c6748ef508fc",
   "metadata": {},
   "source": [
    "## time and Chemistry [Aragonite and calcite]"
   ]
  },
  {
   "cell_type": "code",
   "execution_count": 32,
   "id": "80f6dffd-75f2-4aee-81c0-087cdbada67f",
   "metadata": {},
   "outputs": [],
   "source": [
    "chemical_composition = pd.read_excel('./data/chemistry_data.xlsx',sheet_name='chemistry')\n",
    "epoch_chemical_unique = np.unique(chemical_composition.Epoch)\n",
    "chemical_composition.set_index('Epoch',inplace=True)\n",
    "\n",
    "skeletal_chemical = []\n",
    "epoch_chemical = []\n",
    "chemistry = []\n",
    "for _,dat in data.iterrows():\n",
    "    if dat.epoch in epoch_chemical_unique:\n",
    "        skeletal_chemical.append(dat.skeletal_total)\n",
    "        epoch_chemical.append(dat.epoch)\n",
    "        chemistry.append(chemical_composition['chemistry'][dat.epoch])\n",
    "chemistry_df = pd.DataFrame({'skeletal_total':skeletal_chemical,'chemistry':chemistry,'epoch':epoch_chemical})"
   ]
  },
  {
   "cell_type": "code",
   "execution_count": 33,
   "id": "f1a1f2e3-2b69-40b6-9fd9-7fe335648881",
   "metadata": {},
   "outputs": [
    {
     "name": "stdout",
     "output_type": "stream",
     "text": [
      "Intel MKL WARNING: Support of Intel(R) Streaming SIMD Extensions 4.2 (Intel(R) SSE4.2) enabled only processors has been deprecated. Intel oneAPI Math Kernel Library 2025.0 will require Intel(R) Advanced Vector Extensions (Intel(R) AVX) instructions.\n"
     ]
    },
    {
     "data": {
      "text/html": [
       "<div>\n",
       "<style scoped>\n",
       "    .dataframe tbody tr th:only-of-type {\n",
       "        vertical-align: middle;\n",
       "    }\n",
       "\n",
       "    .dataframe tbody tr th {\n",
       "        vertical-align: top;\n",
       "    }\n",
       "\n",
       "    .dataframe thead th {\n",
       "        text-align: right;\n",
       "    }\n",
       "</style>\n",
       "<table border=\"1\" class=\"dataframe\">\n",
       "  <thead>\n",
       "    <tr style=\"text-align: right;\">\n",
       "      <th></th>\n",
       "      <th>df</th>\n",
       "      <th>sum_sq</th>\n",
       "      <th>mean_sq</th>\n",
       "      <th>F</th>\n",
       "      <th>PR(&gt;F)</th>\n",
       "    </tr>\n",
       "  </thead>\n",
       "  <tbody>\n",
       "    <tr>\n",
       "      <th>C(chemistry)</th>\n",
       "      <td>1.0</td>\n",
       "      <td>2.334290e+02</td>\n",
       "      <td>233.428985</td>\n",
       "      <td>0.35274</td>\n",
       "      <td>0.552586</td>\n",
       "    </tr>\n",
       "    <tr>\n",
       "      <th>Residual</th>\n",
       "      <td>6863.0</td>\n",
       "      <td>4.541658e+06</td>\n",
       "      <td>661.759874</td>\n",
       "      <td>NaN</td>\n",
       "      <td>NaN</td>\n",
       "    </tr>\n",
       "  </tbody>\n",
       "</table>\n",
       "</div>"
      ],
      "text/plain": [
       "                  df        sum_sq     mean_sq        F    PR(>F)\n",
       "C(chemistry)     1.0  2.334290e+02  233.428985  0.35274  0.552586\n",
       "Residual      6863.0  4.541658e+06  661.759874      NaN       NaN"
      ]
     },
     "execution_count": 33,
     "metadata": {},
     "output_type": "execute_result"
    }
   ],
   "source": [
    "#perform one-way ANOVA\n",
    "model = ols('skeletal_total ~ C(chemistry)', data=chemistry_df).fit()\n",
    "an = sm.stats.anova_lm(model, typ=1)\n",
    "an"
   ]
  },
  {
   "cell_type": "code",
   "execution_count": 31,
   "id": "118907ae-cd6c-44da-8e16-ac03f52ca960",
   "metadata": {},
   "outputs": [
    {
     "data": {
      "text/plain": [
       "5.1394663975783375e-05"
      ]
     },
     "execution_count": 31,
     "metadata": {},
     "output_type": "execute_result"
    }
   ],
   "source": [
    "an.loc['C(chemistry)'].sum_sq/an['sum_sq'].sum()"
   ]
  },
  {
   "cell_type": "markdown",
   "id": "c4d939f2-3afd-425b-8ab4-b9394c218135",
   "metadata": {},
   "source": [
    "# Spearman correlation"
   ]
  },
  {
   "cell_type": "code",
   "execution_count": 34,
   "id": "e22ae097-f000-4bda-b19e-14b9b1fa5da5",
   "metadata": {},
   "outputs": [],
   "source": [
    "## Prepare data\n",
    "data_skeletal = utils.get_stats(data,'skeletal_total','epoch')\n",
    "data_skeletal = data_skeletal.sort_values(by=['time'], ascending=True)\n",
    "\n",
    "data_algamicro = utils.get_stats(data,'total_alga_new','epoch')\n",
    "data_animal = utils.get_stats(data,'total_animals_new','epoch')\n",
    "data_protist = utils.get_stats(data,'total_protists_new','epoch')\n",
    "\n",
    "data_animal = data_animal.sort_values(by=['time'], ascending=True)\n",
    "data_algamicro = data_algamicro.sort_values(by=['time'], ascending=True)\n",
    "data_protist = data_protist.sort_values(by=['time'], ascending=True)\n",
    "\n",
    "data_protist.dropna(inplace=True)\n",
    "data_algamicro.dropna(inplace=True)\n",
    "\n",
    "## diversity data\n",
    "animal_diversity_carb = pd.read_csv('./data/SQS_diversity_data/animal_diversity_carbonates_only.csv')\n",
    "alga_diversity_carb = pd.read_csv('./data/SQS_diversity_data/alga_diversity_carbonates_only.csv')\n",
    "protist_diversity_carb = pd.read_csv('./data/SQS_diversity_data/protist_diversity_carbonates_only.csv')\n",
    "\n",
    "animal_diversity = pd.read_csv('./data/SQS_diversity_data/animal_diversity.csv')\n",
    "alga_diversity = pd.read_csv('./data/SQS_diversity_data/alga_diversity.csv')\n",
    "protist_diversity = pd.read_csv('./data/SQS_diversity_data/protist_diversity.csv')\n",
    "\n",
    "animal_diversity.dropna(subset=['SQS_diversity'], inplace=True)\n",
    "protist_diversity.dropna(subset=['SQS_diversity'], inplace=True)\n",
    "alga_diversity.dropna(subset=['SQS_diversity'], inplace=True)\n",
    "\n",
    "## Sepkoski diversity data\n",
    "sep_diversity = utils.load_sepkoski_diversity_data()"
   ]
  },
  {
   "cell_type": "markdown",
   "id": "f731d96b-f6c3-4811-9207-b0718140e7b0",
   "metadata": {},
   "source": [
    "## Sepkoski diversity and biomass"
   ]
  },
  {
   "cell_type": "code",
   "execution_count": 35,
   "id": "8faae7c6-05d3-4069-b277-0403a8429d6f",
   "metadata": {},
   "outputs": [
    {
     "name": "stdout",
     "output_type": "stream",
     "text": [
      "Total: SignificanceResult(statistic=0.785539488320356, pvalue=2.7187140432533034e-07)\n",
      "Intel MKL WARNING: Support of Intel(R) Streaming SIMD Extensions 4.2 (Intel(R) SSE4.2) enabled only processors has been deprecated. Intel oneAPI Math Kernel Library 2025.0 will require Intel(R) Advanced Vector Extensions (Intel(R) AVX) instructions.\n"
     ]
    }
   ],
   "source": [
    "# supkowski correlation\n",
    "\n",
    "common_time = list(set(sep_diversity.epoch).intersection(set(data_skeletal.epoch)))\n",
    "\n",
    "div_corr = sep_diversity[sep_diversity.epoch.isin(common_time)]\n",
    "div_corr = div_corr.sort_values(by='mean_ma',ascending=True)\n",
    "abundance_corr = data_skeletal[data_skeletal.epoch.isin(common_time)]\n",
    "\n",
    "res = stats.spearmanr(list(div_corr['diversity']), list(abundance_corr['mean']))\n",
    "print(f'Total: {res}')"
   ]
  },
  {
   "cell_type": "markdown",
   "id": "a190dbfb-e078-4ea0-be28-96236f152372",
   "metadata": {},
   "source": [
    "## All litho diversity and biomass"
   ]
  },
  {
   "cell_type": "code",
   "execution_count": 36,
   "id": "05b4f883-c95b-486c-8ecf-0ee0495429c7",
   "metadata": {},
   "outputs": [
    {
     "name": "stdout",
     "output_type": "stream",
     "text": [
      "Animal: SignificanceResult(statistic=0.5421554252199413, pvalue=0.0013493105821345914)Intel MKL WARNING: Support of Intel(R) Streaming SIMD Extensions 4.2 (Intel(R) SSE4.2) enabled only processors has been deprecated. Intel oneAPI Math Kernel Library 2025.0 will require Intel(R) Advanced Vector Extensions (Intel(R) AVX) instructions.\n",
      "\n"
     ]
    }
   ],
   "source": [
    "## animal diversity and animal biomass\n",
    "\n",
    "common_time = list(set(animal_diversity.epoch).intersection(set(data_animal.epoch)))\n",
    "div_corr = animal_diversity[animal_diversity.epoch.isin(common_time)]\n",
    "div_corr = div_corr.sort_values(by='mean_ma',ascending=True)\n",
    "abundance_corr = data_animal[data_animal.epoch.isin(common_time)]\n",
    "\n",
    "res = stats.spearmanr(list(div_corr['SQS_diversity']), list(abundance_corr['mean']))\n",
    "print(f'Animal: {res}')"
   ]
  },
  {
   "cell_type": "code",
   "execution_count": 37,
   "id": "eb31057e-52aa-4e9b-89be-5b24be03eb38",
   "metadata": {},
   "outputs": [
    {
     "name": "stdout",
     "output_type": "stream",
     "text": [
      "Alga: SignificanceResult(statistic=0.5067240950289366, pvalue=0.00699006792438498)Intel MKL WARNING: Support of Intel(R) Streaming SIMD Extensions 4.2 (Intel(R) SSE4.2) enabled only processors has been deprecated. Intel oneAPI Math Kernel Library 2025.0 will require Intel(R) Advanced Vector Extensions (Intel(R) AVX) instructions.\n",
      "\n"
     ]
    }
   ],
   "source": [
    "## alga diversity and alga biomass\n",
    "\n",
    "common_time = list(set(alga_diversity.epoch).intersection(set(data_algamicro.epoch)))\n",
    "div_corr = alga_diversity[alga_diversity.epoch.isin(common_time)]\n",
    "div_corr = div_corr.sort_values(by='mean_ma',ascending=True)\n",
    "abundance_corr = data_algamicro[data_algamicro.epoch.isin(common_time)]\n",
    "res = stats.spearmanr(list(div_corr['SQS_diversity']), list(abundance_corr['mean']))\n",
    "print(f'Alga: {res}')\n"
   ]
  },
  {
   "cell_type": "code",
   "execution_count": 38,
   "id": "5b0bb771-9ffc-49ee-8500-72f16c9ffbeb",
   "metadata": {},
   "outputs": [
    {
     "name": "stdout",
     "output_type": "stream",
     "text": [
      "Intel MKL WARNING: Support of Intel(R) Streaming SIMD Extensions 4.2 (Intel(R) SSE4.2) enabled only processors has been deprecated. Intel oneAPI Math Kernel Library 2025.0 will require Intel(R) Advanced Vector Extensions (Intel(R) AVX) instructions.\n",
      "Protist: SignificanceResult(statistic=0.8470859937423051, pvalue=9.280414984522052e-08)\n"
     ]
    }
   ],
   "source": [
    "## protist diversity and protist biomass\n",
    "\n",
    "common_time = list(set(protist_diversity.epoch).intersection(set(data_protist.epoch)))\n",
    "div_corr = protist_diversity[protist_diversity.epoch.isin(common_time)]\n",
    "div_corr = div_corr.sort_values(by='mean_ma',ascending=True)\n",
    "abundance_corr = data_protist[data_protist.epoch.isin(common_time)]\n",
    "res = stats.spearmanr(list(div_corr['SQS_diversity']), list(abundance_corr['mean']))\n",
    "print(f'Protist: {res}')"
   ]
  },
  {
   "cell_type": "markdown",
   "id": "e8e8843d-a6c4-4ca8-9bf9-681c82d39f8f",
   "metadata": {},
   "source": [
    "## Carbonate only diversity and biomass"
   ]
  },
  {
   "cell_type": "code",
   "execution_count": 9,
   "id": "06f15ffb-1f69-4aca-98bd-4af86740cddf",
   "metadata": {},
   "outputs": [
    {
     "name": "stdout",
     "output_type": "stream",
     "text": [
      "Animal: SignificanceResult(statistic=0.5355571847507331, pvalue=0.0015843229501633297)Intel MKL WARNING: Support of Intel(R) Streaming SIMD Extensions 4.2 (Intel(R) SSE4.2) enabled only processors has been deprecated. Intel oneAPI Math Kernel Library 2025.0 will require Intel(R) Advanced Vector Extensions (Intel(R) AVX) instructions.\n",
      "\n"
     ]
    }
   ],
   "source": [
    "## animal diversity and animal biomass\n",
    "\n",
    "common_time = list(set(animal_diversity_carb.epoch).intersection(set(data_animal.epoch)))\n",
    "div_corr = animal_diversity_carb[animal_diversity_carb.epoch.isin(common_time)]\n",
    "div_corr = div_corr.sort_values(by='mean_ma',ascending=True)\n",
    "abundance_corr = data_animal[data_animal.epoch.isin(common_time)]\n",
    "\n",
    "res = stats.spearmanr(list(div_corr['SQS_diversity']), list(abundance_corr['mean']))\n",
    "print(f'Animal: {res}')"
   ]
  },
  {
   "cell_type": "code",
   "execution_count": 10,
   "id": "6e539b9b-8af0-4239-89e0-865c165190d2",
   "metadata": {},
   "outputs": [
    {
     "name": "stdout",
     "output_type": "stream",
     "text": [
      "Intel MKL WARNING: Support of Intel(R) Streaming SIMD Extensions 4.2 (Intel(R) SSE4.2) enabled only processors has been deprecated. Intel oneAPI Math Kernel Library 2025.0 will require Intel(R) Advanced Vector Extensions (Intel(R) AVX) instructions.\n",
      "Alga: SignificanceResult(statistic=0.5392374843728079, pvalue=0.0044732057389988665)\n"
     ]
    }
   ],
   "source": [
    "## alga diversity and alga biomass\n",
    "\n",
    "common_time = list(set(alga_diversity_carb.epoch).intersection(set(data_algamicro.epoch)))\n",
    "div_corr = alga_diversity_carb[alga_diversity_carb.epoch.isin(common_time)]\n",
    "div_corr = div_corr.sort_values(by='mean_ma',ascending=True)\n",
    "abundance_corr = data_algamicro[data_algamicro.epoch.isin(common_time)]\n",
    "res = stats.spearmanr(list(div_corr['SQS_diversity']), list(abundance_corr['mean']))\n",
    "print(f'Alga: {res}')\n"
   ]
  },
  {
   "cell_type": "code",
   "execution_count": 11,
   "id": "25e7380e-c870-48b3-ae6e-98bb7a4ac62a",
   "metadata": {},
   "outputs": [
    {
     "name": "stdout",
     "output_type": "stream",
     "text": [
      "Intel MKL WARNING: Support of Intel(R) Streaming SIMD Extensions 4.2 (Intel(R) SSE4.2) enabled only processors has been deprecated. Intel oneAPI Math Kernel Library 2025.0 will require Intel(R) Advanced Vector Extensions (Intel(R) AVX) instructions.\n",
      "Protist: SignificanceResult(statistic=0.7552905522524335, pvalue=1.2748535120745491e-05)\n"
     ]
    }
   ],
   "source": [
    "## protist diversity and protist biomass\n",
    "\n",
    "common_time = list(set(protist_diversity_carb.epoch).intersection(set(data_protist.epoch)))\n",
    "div_corr = protist_diversity_carb[protist_diversity_carb.epoch.isin(common_time)]\n",
    "div_corr = div_corr.sort_values(by='mean_ma',ascending=True)\n",
    "abundance_corr = data_protist[data_protist.epoch.isin(common_time)]\n",
    "res = stats.spearmanr(list(div_corr['SQS_diversity']), list(abundance_corr['mean']))\n",
    "print(f'Protist: {res}')"
   ]
  },
  {
   "cell_type": "code",
   "execution_count": null,
   "id": "0a9dd21b-3d2f-4b4e-9518-f40c163b262b",
   "metadata": {},
   "outputs": [],
   "source": []
  }
 ],
 "metadata": {
  "kernelspec": {
   "display_name": "Python 3 (ipykernel)",
   "language": "python",
   "name": "python3"
  },
  "language_info": {
   "codemirror_mode": {
    "name": "ipython",
    "version": 3
   },
   "file_extension": ".py",
   "mimetype": "text/x-python",
   "name": "python",
   "nbconvert_exporter": "python",
   "pygments_lexer": "ipython3",
   "version": "3.9.20"
  }
 },
 "nbformat": 4,
 "nbformat_minor": 5
}
