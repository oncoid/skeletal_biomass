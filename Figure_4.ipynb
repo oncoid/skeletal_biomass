{
 "cells": [
  {
   "cell_type": "code",
   "execution_count": 2,
   "id": "e45b63d7",
   "metadata": {},
   "outputs": [],
   "source": [
    "import numpy as np\n",
    "import pandas as pd\n",
    "import plotly.graph_objects as go\n",
    "from plotly.subplots import make_subplots\n",
    "\n",
    "import utils\n",
    "import plot_utils"
   ]
  },
  {
   "cell_type": "markdown",
   "id": "d7a3ab8a",
   "metadata": {},
   "source": [
    "# Read data"
   ]
  },
  {
   "cell_type": "code",
   "execution_count": 3,
   "id": "932850ee",
   "metadata": {},
   "outputs": [],
   "source": [
    "data_file = './data/paleo_meso_ceno_data_paleogeography_epoch.csv'\n",
    "\n",
    "data = pd.read_csv(data_file)\n",
    "data = data.sort_values(by=['mean_ma'], ascending=False)\n",
    "\n",
    "time_file = './data/timeScale.xlsx'\n",
    "time = pd.read_excel(time_file,sheet_name='Sheet1')\n",
    "time_period = utils.get_timesubset(time,3,541)\n",
    "width_period = [time_period['max_ma'][i] - time_period['min_ma'][i] for i in list(time_period.index)]\n",
    "\n",
    "time_epoch = utils.get_timesubset(time,4,541)\n",
    "width_epoch = [time_epoch['max_ma'][i] - time_epoch['min_ma'][i] for i in list(time_epoch.index)]\n"
   ]
  },
  {
   "cell_type": "markdown",
   "id": "0d2d6aae",
   "metadata": {},
   "source": [
    "# Load Sepkoski data"
   ]
  },
  {
   "cell_type": "code",
   "execution_count": 4,
   "id": "aaf2c509",
   "metadata": {},
   "outputs": [],
   "source": [
    "sepkoski_diversity = utils.load_sepkoski_diversity_data()"
   ]
  },
  {
   "cell_type": "markdown",
   "id": "ead1329e",
   "metadata": {},
   "source": [
    "# Skeletal abundance"
   ]
  },
  {
   "cell_type": "code",
   "execution_count": 5,
   "id": "46adbe36",
   "metadata": {},
   "outputs": [],
   "source": [
    "data_skeletal = utils.get_stats(data,'skeletal_total','epoch')\n",
    "data_skeletal = data_skeletal.sort_values(by=['time'], ascending=True)"
   ]
  },
  {
   "cell_type": "code",
   "execution_count": 6,
   "id": "4beb0906",
   "metadata": {},
   "outputs": [],
   "source": [
    "data_animal = utils.get_stats(data,'total_animals_new','epoch')\n",
    "\n",
    "data_animal = data_animal.sort_values(by=['time'], ascending=True)"
   ]
  },
  {
   "cell_type": "markdown",
   "id": "27d72ca6-eff6-4029-a9c0-22929447dafa",
   "metadata": {},
   "source": [
    "# All litho diversity"
   ]
  },
  {
   "cell_type": "code",
   "execution_count": 7,
   "id": "cd8a8f02",
   "metadata": {},
   "outputs": [],
   "source": [
    "animal_diversity = pd.read_csv('./data/SQS_diversity_data/animal_diversity.csv')"
   ]
  },
  {
   "cell_type": "markdown",
   "id": "319d50a7",
   "metadata": {},
   "source": [
    "# Plot"
   ]
  },
  {
   "cell_type": "code",
   "execution_count": 8,
   "id": "966fc7d2",
   "metadata": {},
   "outputs": [
    {
     "data": {
      "application/vnd.plotly.v1+json": {
       "config": {
        "plotlyServerURL": "https://plot.ly"
       },
       "data": [
        {
         "line": {
          "dash": "dash"
         },
         "marker": {
          "color": "black",
          "size": 8
         },
         "mode": "lines+markers",
         "name": "All data mean",
         "showlegend": false,
         "type": "scatter",
         "x": [
          0.005850000000000047,
          1.299849999999995,
          3.960499999999969,
          14.18150000000001,
          28.46499999999996,
          44.95000000000047,
          61,
          83.25,
          122.75,
          154.25,
          168.7999999999997,
          187.69999999999843,
          219.15000000000097,
          242.09999999999914,
          249.68499999999895,
          256.0349999999999,
          266.1000000000002,
          285.599999999999,
          311.05,
          341.0499999999954,
          370.79999999999984,
          388,
          406.25,
          425.1999999999987,
          430.4000000000006,
          438.4,
          450.90000000000026,
          464.2,
          477.7000000000005,
          491.1999999999999,
          503,
          515,
          531
         ],
         "xaxis": "x",
         "y": [
          37.1476611764704,
          25.980001000000012,
          34.45498931580811,
          45.403511522870154,
          57.943145370268354,
          47.64067546709135,
          58.75757575757576,
          24.649524306764132,
          19.30201942720277,
          16.067623068901533,
          8.179413870939465,
          9.75115299334811,
          16.74684426581936,
          7.733706212888003,
          3.6489988700565004,
          34.524176870748306,
          26.15497777777778,
          31.385244444444442,
          21.323819098292677,
          54.86994883238779,
          8.29411764739804,
          17.3551515151515,
          26.341728207363534,
          28.970361613137403,
          46.486070413090346,
          15.6842925800284,
          23.687218601805696,
          10.641379982273099,
          9.182486008367974,
          6.293039399329436,
          3.4887236534840844,
          5.961258278145696,
          5.048309178743959
         ],
         "yaxis": "y"
        },
        {
         "legendgroup": "1",
         "line": {
          "color": "#5299FF",
          "width": 3
         },
         "mode": "lines",
         "name": "Sepkoski's compendium",
         "showlegend": true,
         "type": "scatter",
         "x": [
          0.00585,
          1.29985,
          3.9605,
          14.1815,
          28.465,
          44.95,
          61,
          83.25,
          122.75,
          154.25,
          168.8,
          187.7,
          219.15,
          242.1,
          249.685,
          266.1,
          285.6,
          311.04999999999995,
          341.04999999999995,
          370.79999999999995,
          388,
          406.25,
          421.1,
          430.4,
          450.9,
          464.2,
          477.7,
          491.2,
          503,
          515,
          531
         ],
         "xaxis": "x",
         "y": [
          3620,
          3684,
          3848,
          4172,
          2954,
          3177,
          1727,
          1488.3333333333333,
          952.4,
          884.75,
          885,
          540.8,
          696,
          457,
          250,
          823.5,
          983,
          836.25,
          1134,
          962,
          1141.5,
          1238.4,
          1264,
          1381,
          1413.3333333333333,
          981.5,
          889,
          392.6666666666667,
          384.6666666666667,
          268.5,
          569
         ],
         "yaxis": "y2"
        },
        {
         "line": {
          "dash": "dash"
         },
         "marker": {
          "color": "black"
         },
         "mode": "lines+markers",
         "showlegend": false,
         "type": "scatter",
         "x": [
          0.005850000000000047,
          1.299849999999995,
          3.960499999999969,
          14.181500000000002,
          28.464999999999964,
          44.95000000000046,
          61,
          83.25,
          122.75,
          154.25,
          168.7999999999997,
          187.69999999999843,
          219.15000000000092,
          242.09999999999926,
          249.68499999999895,
          256.0349999999999,
          266.1000000000002,
          285.599999999999,
          311.05,
          341.0499999999955,
          370.79999999999984,
          388,
          406.25,
          425.1999999999987,
          430.4000000000006,
          438.4,
          450.90000000000026,
          464.2,
          477.7000000000005,
          491.1999999999999,
          503,
          515,
          531
         ],
         "xaxis": "x2",
         "y": [
          21.263864359351963,
          12.025471319796967,
          31.26158681530256,
          24.13208948739441,
          22.527327442317134,
          12.525755895820444,
          28.32424242424242,
          13.154802259887004,
          12.747481240681442,
          4.741577090318554,
          4.362258118764822,
          7.447856614929786,
          15.458528671879938,
          7.025147178731768,
          3.158949152542375,
          23.913945578231296,
          18.25457777777778,
          25.12137777777778,
          12.813549356196484,
          45.08322278653303,
          8.039215686612746,
          27.18083333333331,
          26.28943462938188,
          27.842054988498163,
          44.711014321699494,
          15.6842925800284,
          23.687218601805696,
          10.073789620827316,
          8.700133067191501,
          6.917609618104664,
          4.238455681105014,
          5.7543046357615895,
          5.048309178743959
         ],
         "yaxis": "y3"
        },
        {
         "legendgroup": "2",
         "line": {
          "width": 3
         },
         "marker": {
          "color": "#ff0000"
         },
         "mode": "lines",
         "name": "PBDB dataset",
         "showlegend": true,
         "type": "scatter",
         "x": [
          531,
          515,
          503,
          491.2,
          477.7,
          464.2,
          450.9,
          438.4,
          430.4,
          425.2,
          421.1,
          406.25,
          388,
          370.8,
          341.04999999999995,
          311.04999999999995,
          285.6,
          266.1,
          256.035,
          249.685,
          242.1,
          219.15,
          187.7,
          168.8,
          154.25,
          122.75,
          83.25,
          61,
          44.95,
          28.465,
          14.1815,
          3.9605,
          1.29985
         ],
         "xaxis": "x2",
         "y": [
          10.953,
          172.1,
          0,
          62.003,
          195.489,
          297.849,
          267.744,
          168.756,
          221.612,
          238.131,
          196.101,
          363.198,
          194.114,
          161.504,
          256.74,
          172.597,
          310.765,
          290.477,
          192.67,
          72.042,
          169.718,
          304.277,
          166.741,
          216.87,
          256.042,
          345.457,
          381.244,
          277.128,
          421.592,
          361.337,
          583.4,
          530.926,
          392.416
         ],
         "yaxis": "y4"
        },
        {
         "dx": 100,
         "marker": {
          "color": [
           "#F9F97F",
           "#FFE619",
           "#FD9A52",
           "#7FC64E",
           "#34B2C9",
           "#812B92",
           "#F04028",
           "#67A599",
           "#CB8C37",
           "#B3E1B6",
           "#009270",
           "#7FA056"
          ]
         },
         "offset": 0,
         "showlegend": false,
         "text": [
          "Quaternary",
          "Neogene",
          "Paleogene",
          "Cretaceous",
          "Jurassic",
          "Triassic",
          "Permian",
          "Carboniferous",
          "Devonian",
          "Silurian",
          "Ordovician",
          "Cambrian"
         ],
         "textfont": {
          "color": "black",
          "family": "Arial black",
          "size": 12
         },
         "textposition": "inside",
         "type": "bar",
         "width": [
          2.588,
          20.442,
          42.97,
          79,
          56.30000000000001,
          50.869999999999976,
          46.72999999999999,
          60,
          60.30000000000001,
          24.19999999999999,
          42,
          55.60000000000002
         ],
         "x": [
          0,
          2.588,
          23.03,
          66,
          145,
          201.3,
          252.17,
          298.9,
          358.9,
          419.2,
          443.4,
          485.4
         ],
         "x0": 0,
         "xaxis": "x3",
         "y": [
          0.2,
          0.2,
          0.2,
          0.2,
          0.2,
          0.2,
          0.2,
          0.2,
          0.2,
          0.2,
          0.2,
          0.2
         ],
         "yaxis": "y5"
        }
       ],
       "layout": {
        "font": {
         "color": "black",
         "family": "Helvetica",
         "size": 14
        },
        "height": 850,
        "legend": {
         "bgcolor": "rgba(0,0,0,0)",
         "tracegroupgap": 285,
         "x": 0.01,
         "xanchor": "left",
         "y": 0.99,
         "yanchor": "top"
        },
        "paper_bgcolor": "white",
        "plot_bgcolor": "white",
        "template": {
         "data": {
          "bar": [
           {
            "error_x": {
             "color": "#2a3f5f"
            },
            "error_y": {
             "color": "#2a3f5f"
            },
            "marker": {
             "line": {
              "color": "#E5ECF6",
              "width": 0.5
             },
             "pattern": {
              "fillmode": "overlay",
              "size": 10,
              "solidity": 0.2
             }
            },
            "type": "bar"
           }
          ],
          "barpolar": [
           {
            "marker": {
             "line": {
              "color": "#E5ECF6",
              "width": 0.5
             },
             "pattern": {
              "fillmode": "overlay",
              "size": 10,
              "solidity": 0.2
             }
            },
            "type": "barpolar"
           }
          ],
          "carpet": [
           {
            "aaxis": {
             "endlinecolor": "#2a3f5f",
             "gridcolor": "white",
             "linecolor": "white",
             "minorgridcolor": "white",
             "startlinecolor": "#2a3f5f"
            },
            "baxis": {
             "endlinecolor": "#2a3f5f",
             "gridcolor": "white",
             "linecolor": "white",
             "minorgridcolor": "white",
             "startlinecolor": "#2a3f5f"
            },
            "type": "carpet"
           }
          ],
          "choropleth": [
           {
            "colorbar": {
             "outlinewidth": 0,
             "ticks": ""
            },
            "type": "choropleth"
           }
          ],
          "contour": [
           {
            "colorbar": {
             "outlinewidth": 0,
             "ticks": ""
            },
            "colorscale": [
             [
              0,
              "#0d0887"
             ],
             [
              0.1111111111111111,
              "#46039f"
             ],
             [
              0.2222222222222222,
              "#7201a8"
             ],
             [
              0.3333333333333333,
              "#9c179e"
             ],
             [
              0.4444444444444444,
              "#bd3786"
             ],
             [
              0.5555555555555556,
              "#d8576b"
             ],
             [
              0.6666666666666666,
              "#ed7953"
             ],
             [
              0.7777777777777778,
              "#fb9f3a"
             ],
             [
              0.8888888888888888,
              "#fdca26"
             ],
             [
              1,
              "#f0f921"
             ]
            ],
            "type": "contour"
           }
          ],
          "contourcarpet": [
           {
            "colorbar": {
             "outlinewidth": 0,
             "ticks": ""
            },
            "type": "contourcarpet"
           }
          ],
          "heatmap": [
           {
            "colorbar": {
             "outlinewidth": 0,
             "ticks": ""
            },
            "colorscale": [
             [
              0,
              "#0d0887"
             ],
             [
              0.1111111111111111,
              "#46039f"
             ],
             [
              0.2222222222222222,
              "#7201a8"
             ],
             [
              0.3333333333333333,
              "#9c179e"
             ],
             [
              0.4444444444444444,
              "#bd3786"
             ],
             [
              0.5555555555555556,
              "#d8576b"
             ],
             [
              0.6666666666666666,
              "#ed7953"
             ],
             [
              0.7777777777777778,
              "#fb9f3a"
             ],
             [
              0.8888888888888888,
              "#fdca26"
             ],
             [
              1,
              "#f0f921"
             ]
            ],
            "type": "heatmap"
           }
          ],
          "heatmapgl": [
           {
            "colorbar": {
             "outlinewidth": 0,
             "ticks": ""
            },
            "colorscale": [
             [
              0,
              "#0d0887"
             ],
             [
              0.1111111111111111,
              "#46039f"
             ],
             [
              0.2222222222222222,
              "#7201a8"
             ],
             [
              0.3333333333333333,
              "#9c179e"
             ],
             [
              0.4444444444444444,
              "#bd3786"
             ],
             [
              0.5555555555555556,
              "#d8576b"
             ],
             [
              0.6666666666666666,
              "#ed7953"
             ],
             [
              0.7777777777777778,
              "#fb9f3a"
             ],
             [
              0.8888888888888888,
              "#fdca26"
             ],
             [
              1,
              "#f0f921"
             ]
            ],
            "type": "heatmapgl"
           }
          ],
          "histogram": [
           {
            "marker": {
             "pattern": {
              "fillmode": "overlay",
              "size": 10,
              "solidity": 0.2
             }
            },
            "type": "histogram"
           }
          ],
          "histogram2d": [
           {
            "colorbar": {
             "outlinewidth": 0,
             "ticks": ""
            },
            "colorscale": [
             [
              0,
              "#0d0887"
             ],
             [
              0.1111111111111111,
              "#46039f"
             ],
             [
              0.2222222222222222,
              "#7201a8"
             ],
             [
              0.3333333333333333,
              "#9c179e"
             ],
             [
              0.4444444444444444,
              "#bd3786"
             ],
             [
              0.5555555555555556,
              "#d8576b"
             ],
             [
              0.6666666666666666,
              "#ed7953"
             ],
             [
              0.7777777777777778,
              "#fb9f3a"
             ],
             [
              0.8888888888888888,
              "#fdca26"
             ],
             [
              1,
              "#f0f921"
             ]
            ],
            "type": "histogram2d"
           }
          ],
          "histogram2dcontour": [
           {
            "colorbar": {
             "outlinewidth": 0,
             "ticks": ""
            },
            "colorscale": [
             [
              0,
              "#0d0887"
             ],
             [
              0.1111111111111111,
              "#46039f"
             ],
             [
              0.2222222222222222,
              "#7201a8"
             ],
             [
              0.3333333333333333,
              "#9c179e"
             ],
             [
              0.4444444444444444,
              "#bd3786"
             ],
             [
              0.5555555555555556,
              "#d8576b"
             ],
             [
              0.6666666666666666,
              "#ed7953"
             ],
             [
              0.7777777777777778,
              "#fb9f3a"
             ],
             [
              0.8888888888888888,
              "#fdca26"
             ],
             [
              1,
              "#f0f921"
             ]
            ],
            "type": "histogram2dcontour"
           }
          ],
          "mesh3d": [
           {
            "colorbar": {
             "outlinewidth": 0,
             "ticks": ""
            },
            "type": "mesh3d"
           }
          ],
          "parcoords": [
           {
            "line": {
             "colorbar": {
              "outlinewidth": 0,
              "ticks": ""
             }
            },
            "type": "parcoords"
           }
          ],
          "pie": [
           {
            "automargin": true,
            "type": "pie"
           }
          ],
          "scatter": [
           {
            "fillpattern": {
             "fillmode": "overlay",
             "size": 10,
             "solidity": 0.2
            },
            "type": "scatter"
           }
          ],
          "scatter3d": [
           {
            "line": {
             "colorbar": {
              "outlinewidth": 0,
              "ticks": ""
             }
            },
            "marker": {
             "colorbar": {
              "outlinewidth": 0,
              "ticks": ""
             }
            },
            "type": "scatter3d"
           }
          ],
          "scattercarpet": [
           {
            "marker": {
             "colorbar": {
              "outlinewidth": 0,
              "ticks": ""
             }
            },
            "type": "scattercarpet"
           }
          ],
          "scattergeo": [
           {
            "marker": {
             "colorbar": {
              "outlinewidth": 0,
              "ticks": ""
             }
            },
            "type": "scattergeo"
           }
          ],
          "scattergl": [
           {
            "marker": {
             "colorbar": {
              "outlinewidth": 0,
              "ticks": ""
             }
            },
            "type": "scattergl"
           }
          ],
          "scattermapbox": [
           {
            "marker": {
             "colorbar": {
              "outlinewidth": 0,
              "ticks": ""
             }
            },
            "type": "scattermapbox"
           }
          ],
          "scatterpolar": [
           {
            "marker": {
             "colorbar": {
              "outlinewidth": 0,
              "ticks": ""
             }
            },
            "type": "scatterpolar"
           }
          ],
          "scatterpolargl": [
           {
            "marker": {
             "colorbar": {
              "outlinewidth": 0,
              "ticks": ""
             }
            },
            "type": "scatterpolargl"
           }
          ],
          "scatterternary": [
           {
            "marker": {
             "colorbar": {
              "outlinewidth": 0,
              "ticks": ""
             }
            },
            "type": "scatterternary"
           }
          ],
          "surface": [
           {
            "colorbar": {
             "outlinewidth": 0,
             "ticks": ""
            },
            "colorscale": [
             [
              0,
              "#0d0887"
             ],
             [
              0.1111111111111111,
              "#46039f"
             ],
             [
              0.2222222222222222,
              "#7201a8"
             ],
             [
              0.3333333333333333,
              "#9c179e"
             ],
             [
              0.4444444444444444,
              "#bd3786"
             ],
             [
              0.5555555555555556,
              "#d8576b"
             ],
             [
              0.6666666666666666,
              "#ed7953"
             ],
             [
              0.7777777777777778,
              "#fb9f3a"
             ],
             [
              0.8888888888888888,
              "#fdca26"
             ],
             [
              1,
              "#f0f921"
             ]
            ],
            "type": "surface"
           }
          ],
          "table": [
           {
            "cells": {
             "fill": {
              "color": "#EBF0F8"
             },
             "line": {
              "color": "white"
             }
            },
            "header": {
             "fill": {
              "color": "#C8D4E3"
             },
             "line": {
              "color": "white"
             }
            },
            "type": "table"
           }
          ]
         },
         "layout": {
          "annotationdefaults": {
           "arrowcolor": "#2a3f5f",
           "arrowhead": 0,
           "arrowwidth": 1
          },
          "autotypenumbers": "strict",
          "coloraxis": {
           "colorbar": {
            "outlinewidth": 0,
            "ticks": ""
           }
          },
          "colorscale": {
           "diverging": [
            [
             0,
             "#8e0152"
            ],
            [
             0.1,
             "#c51b7d"
            ],
            [
             0.2,
             "#de77ae"
            ],
            [
             0.3,
             "#f1b6da"
            ],
            [
             0.4,
             "#fde0ef"
            ],
            [
             0.5,
             "#f7f7f7"
            ],
            [
             0.6,
             "#e6f5d0"
            ],
            [
             0.7,
             "#b8e186"
            ],
            [
             0.8,
             "#7fbc41"
            ],
            [
             0.9,
             "#4d9221"
            ],
            [
             1,
             "#276419"
            ]
           ],
           "sequential": [
            [
             0,
             "#0d0887"
            ],
            [
             0.1111111111111111,
             "#46039f"
            ],
            [
             0.2222222222222222,
             "#7201a8"
            ],
            [
             0.3333333333333333,
             "#9c179e"
            ],
            [
             0.4444444444444444,
             "#bd3786"
            ],
            [
             0.5555555555555556,
             "#d8576b"
            ],
            [
             0.6666666666666666,
             "#ed7953"
            ],
            [
             0.7777777777777778,
             "#fb9f3a"
            ],
            [
             0.8888888888888888,
             "#fdca26"
            ],
            [
             1,
             "#f0f921"
            ]
           ],
           "sequentialminus": [
            [
             0,
             "#0d0887"
            ],
            [
             0.1111111111111111,
             "#46039f"
            ],
            [
             0.2222222222222222,
             "#7201a8"
            ],
            [
             0.3333333333333333,
             "#9c179e"
            ],
            [
             0.4444444444444444,
             "#bd3786"
            ],
            [
             0.5555555555555556,
             "#d8576b"
            ],
            [
             0.6666666666666666,
             "#ed7953"
            ],
            [
             0.7777777777777778,
             "#fb9f3a"
            ],
            [
             0.8888888888888888,
             "#fdca26"
            ],
            [
             1,
             "#f0f921"
            ]
           ]
          },
          "colorway": [
           "#636efa",
           "#EF553B",
           "#00cc96",
           "#ab63fa",
           "#FFA15A",
           "#19d3f3",
           "#FF6692",
           "#B6E880",
           "#FF97FF",
           "#FECB52"
          ],
          "font": {
           "color": "#2a3f5f"
          },
          "geo": {
           "bgcolor": "white",
           "lakecolor": "white",
           "landcolor": "#E5ECF6",
           "showlakes": true,
           "showland": true,
           "subunitcolor": "white"
          },
          "hoverlabel": {
           "align": "left"
          },
          "hovermode": "closest",
          "mapbox": {
           "style": "light"
          },
          "paper_bgcolor": "white",
          "plot_bgcolor": "#E5ECF6",
          "polar": {
           "angularaxis": {
            "gridcolor": "white",
            "linecolor": "white",
            "ticks": ""
           },
           "bgcolor": "#E5ECF6",
           "radialaxis": {
            "gridcolor": "white",
            "linecolor": "white",
            "ticks": ""
           }
          },
          "scene": {
           "xaxis": {
            "backgroundcolor": "#E5ECF6",
            "gridcolor": "white",
            "gridwidth": 2,
            "linecolor": "white",
            "showbackground": true,
            "ticks": "",
            "zerolinecolor": "white"
           },
           "yaxis": {
            "backgroundcolor": "#E5ECF6",
            "gridcolor": "white",
            "gridwidth": 2,
            "linecolor": "white",
            "showbackground": true,
            "ticks": "",
            "zerolinecolor": "white"
           },
           "zaxis": {
            "backgroundcolor": "#E5ECF6",
            "gridcolor": "white",
            "gridwidth": 2,
            "linecolor": "white",
            "showbackground": true,
            "ticks": "",
            "zerolinecolor": "white"
           }
          },
          "shapedefaults": {
           "line": {
            "color": "#2a3f5f"
           }
          },
          "ternary": {
           "aaxis": {
            "gridcolor": "white",
            "linecolor": "white",
            "ticks": ""
           },
           "baxis": {
            "gridcolor": "white",
            "linecolor": "white",
            "ticks": ""
           },
           "bgcolor": "#E5ECF6",
           "caxis": {
            "gridcolor": "white",
            "linecolor": "white",
            "ticks": ""
           }
          },
          "title": {
           "x": 0.05
          },
          "xaxis": {
           "automargin": true,
           "gridcolor": "white",
           "linecolor": "white",
           "ticks": "",
           "title": {
            "standoff": 15
           },
           "zerolinecolor": "white",
           "zerolinewidth": 2
          },
          "yaxis": {
           "automargin": true,
           "gridcolor": "white",
           "linecolor": "white",
           "ticks": "",
           "title": {
            "standoff": 15
           },
           "zerolinecolor": "white",
           "zerolinewidth": 2
          }
         }
        },
        "width": 950,
        "xaxis": {
         "anchor": "y",
         "domain": [
          0,
          0.94
         ],
         "linecolor": "black",
         "matches": "x3",
         "mirror": true,
         "range": [
          541,
          -2
         ],
         "showline": true,
         "showticklabels": false,
         "ticks": "outside"
        },
        "xaxis2": {
         "anchor": "y3",
         "domain": [
          0,
          0.94
         ],
         "linecolor": "black",
         "matches": "x3",
         "mirror": true,
         "range": [
          541,
          -2
         ],
         "showline": true,
         "showticklabels": false,
         "ticks": "outside"
        },
        "xaxis3": {
         "anchor": "y5",
         "domain": [
          0,
          0.94
         ],
         "range": [
          541,
          -2
         ],
         "ticks": "outside",
         "title": {
          "text": "Time (Ma)"
         }
        },
        "yaxis": {
         "anchor": "x",
         "domain": [
          0.5545,
          1
         ],
         "linecolor": "black",
         "mirror": true,
         "range": [
          0,
          85
         ],
         "showline": true,
         "ticks": "outside",
         "title": {
          "text": "Skeletal biomass %"
         }
        },
        "yaxis2": {
         "anchor": "x",
         "linecolor": "black",
         "mirror": true,
         "overlaying": "y",
         "showline": true,
         "side": "right",
         "tickfont": {
          "color": "#5299FF"
         },
         "ticks": "outside",
         "title": {
          "font": {
           "color": "#5299FF",
           "family": "Helvetica"
          },
          "text": "Animal Diversity [genera]"
         }
        },
        "yaxis3": {
         "anchor": "x2",
         "domain": [
          0.10400000000000001,
          0.5495
         ],
         "linecolor": "black",
         "mirror": true,
         "range": [
          0,
          52
         ],
         "showline": true,
         "ticks": "outside",
         "title": {
          "text": "Animal biomass %"
         }
        },
        "yaxis4": {
         "anchor": "x2",
         "linecolor": "black",
         "mirror": true,
         "overlaying": "y3",
         "range": [
          0,
          710
         ],
         "showline": true,
         "side": "right",
         "tickfont": {
          "color": "#ff0000"
         },
         "ticks": "outside",
         "title": {
          "font": {
           "color": "#ff0000"
          },
          "text": "Animal Diversity [genera]"
         }
        },
        "yaxis5": {
         "anchor": "x3",
         "domain": [
          0,
          0.099
         ],
         "showticklabels": false
        }
       }
      }
     },
     "metadata": {},
     "output_type": "display_data"
    }
   ],
   "source": [
    "fig = make_subplots(rows = 3,cols = 1,shared_xaxes = True,row_heights = [0.45,0.45,0.1],\n",
    "                    specs=[[{\"secondary_y\": True}],[{\"secondary_y\": True}],[{\"secondary_y\": False}]],\n",
    "                 vertical_spacing = 0.005)\n",
    "animal_color = '#ff0000'\n",
    "data_color = '#5299FF'\n",
    "\n",
    "fig.add_trace(go.Scatter(x = data_skeletal['time'],y = data_skeletal['mean'],mode = 'lines+markers',\n",
    "                         name = 'All data mean',showlegend=False,line=dict(dash='dash'),\n",
    "                         marker = dict(color = 'black',size = 8,),\n",
    "                         ),row=1,col=1, secondary_y=False)\n",
    "\n",
    "fig.add_trace(go.Scatter(x = sepkoski_diversity['mean_ma'],y = sepkoski_diversity['diversity'],mode = 'lines',\n",
    "                         name = 'Sepkoski\\'s compendium', showlegend=True,legendgroup='1',\n",
    "                         line = dict(color = data_color, width=3),\n",
    "                         ),row=1,col=1, secondary_y = True)\n",
    "\n",
    "\n",
    "fig.add_trace(go.Scatter(x=data_animal['time'],y=data_animal['mean'],\n",
    "                         mode='lines+markers',showlegend=False,marker_color='black',line=dict(dash='dash'),\n",
    "                         #line=dict(thickness=)\n",
    "                        ),row=2,col=1)\n",
    "\n",
    "fig.add_trace(go.Scatter(x=animal_diversity.mean_ma,y=animal_diversity['SQS_diversity'],\n",
    "                         mode='lines',name = 'PBDB dataset', showlegend=True,marker_color=animal_color,\n",
    "                         line_width=3, legendgroup='2',\n",
    "                        ),secondary_y=True,row=2,col=1)\n",
    "\n",
    "\n",
    "plot_utils.plot_time(fig,time_period,width_period,3,1)\n",
    "\n",
    "\n",
    "fig.update_xaxes(ticks = 'outside',range=(541,-2),showticklabels = False,showline = True, \n",
    "                     mirror = True,linecolor = 'black',row=1,col=1)\n",
    "fig.update_xaxes(ticks = 'outside',range=(541,-2),showticklabels = False,showline = True, \n",
    "                     mirror = True,linecolor = 'black',row=2,col=1)\n",
    "\n",
    "fig.update_xaxes(range=(541,-2),ticks = 'outside',title = 'Time (Ma)',row=3,col=1)\n",
    "\n",
    "\n",
    "fig.update_yaxes(ticks = 'outside',showline = True, \n",
    "                         mirror = True,linecolor = 'black',row=1,col=1)\n",
    "fig.update_yaxes(ticks = 'outside',showline = True, \n",
    "                         mirror = True,linecolor = 'black',row=2,col=1)\n",
    "\n",
    "fig.update_layout(height = 850, width = 950,font_color = 'black', font_family='Helvetica',font_size=14,\n",
    "                 paper_bgcolor = 'white',\n",
    "                 plot_bgcolor = 'white',\n",
    "                  yaxis1=dict(title='Skeletal biomass %',range=(0,85)),\n",
    "                  yaxis2=dict(title='Animal Diversity [genera]',title_font_family='Helvetica',\n",
    "                             titlefont=dict(color=data_color),tickfont=dict(color=data_color)),\n",
    "                  yaxis3=dict(range=(0,52),title='Animal biomass %'),\n",
    "                  yaxis4=dict(range=(0,710),title='Animal Diversity [genera]',\n",
    "                              titlefont=dict(color=animal_color),tickfont=dict(color=animal_color)),\n",
    "                legend_tracegroupgap = 285,\n",
    "\n",
    "                 legend=dict(bgcolor='rgba(0,0,0,0)',\n",
    "                yanchor=\"top\",\n",
    "                    y=0.99,\n",
    "                    xanchor=\"left\",\n",
    "                    x=0.01))\n",
    "fig.show()\n",
    "fig.write_image('./figures/Figure_4.png',scale = 6)"
   ]
  },
  {
   "cell_type": "code",
   "execution_count": null,
   "id": "574d13e4",
   "metadata": {},
   "outputs": [],
   "source": []
  }
 ],
 "metadata": {
  "kernelspec": {
   "display_name": "research",
   "language": "python",
   "name": "python3"
  },
  "language_info": {
   "codemirror_mode": {
    "name": "ipython",
    "version": 3
   },
   "file_extension": ".py",
   "mimetype": "text/x-python",
   "name": "python",
   "nbconvert_exporter": "python",
   "pygments_lexer": "ipython3",
   "version": "3.9.21"
  }
 },
 "nbformat": 4,
 "nbformat_minor": 5
}
