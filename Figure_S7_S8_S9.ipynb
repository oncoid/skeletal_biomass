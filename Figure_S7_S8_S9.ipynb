{
 "cells": [
  {
   "cell_type": "code",
   "execution_count": 26,
   "id": "19b6da83",
   "metadata": {},
   "outputs": [],
   "source": [
    "import numpy as np\n",
    "import pandas as pd \n",
    "import plotly.graph_objects as go\n",
    "from plotly.subplots import make_subplots\n",
    "import utils\n",
    "import plot_utils\n",
    "import random"
   ]
  },
  {
   "cell_type": "code",
   "execution_count": 27,
   "id": "1f20f397",
   "metadata": {},
   "outputs": [],
   "source": [
    "data_file = './data/paleo_meso_ceno_data_period.csv'\n",
    "\n",
    "data = pd.read_csv(data_file)\n",
    "data = data.sort_values(by=['mean_ma'], ascending=False)\n",
    "\n",
    "time_file = './data/timeScale.xlsx'\n",
    "time = pd.read_excel(time_file,sheet_name='Sheet1')\n",
    "time_period = utils.get_timesubset(time,3,541)\n",
    "width_period = [time_period['max_ma'][i] - time_period['min_ma'][i] for i in list(time_period.index)]\n"
   ]
  },
  {
   "cell_type": "code",
   "execution_count": 28,
   "id": "247ccc77",
   "metadata": {},
   "outputs": [],
   "source": [
    "data_skeletal = utils.get_stats(data,'skeletal_total','period')\n",
    "data_skeletal = data_skeletal.sort_values(by=['time'], ascending=True)"
   ]
  },
  {
   "cell_type": "code",
   "execution_count": 29,
   "id": "89e432fd",
   "metadata": {},
   "outputs": [],
   "source": [
    "periods = np.unique(data.period)"
   ]
  },
  {
   "cell_type": "code",
   "execution_count": 30,
   "id": "18192838",
   "metadata": {},
   "outputs": [],
   "source": [
    "data['publication'] = data['publication_year'].astype(str) + data['reference']"
   ]
  },
  {
   "cell_type": "markdown",
   "id": "bbc96766-19e4-4dd5-a298-2b16153abb66",
   "metadata": {},
   "source": [
    "## Figure S7: Test influence of paleocontinents"
   ]
  },
  {
   "cell_type": "code",
   "execution_count": 31,
   "id": "a5245a0e-24aa-4170-9a18-91acef84117b",
   "metadata": {},
   "outputs": [],
   "source": [
    "sampling_test = pd.DataFrame(columns=['time', 'period', 'no_of_samp', 'mean', 'median', 'min', 'max', 'removed_paleocontinent'])"
   ]
  },
  {
   "cell_type": "code",
   "execution_count": 32,
   "id": "5e15e113-d9ec-4d8c-97e1-2877df6c38cf",
   "metadata": {},
   "outputs": [],
   "source": [
    "paleocontinents = data.Paleocontinents1.unique()"
   ]
  },
  {
   "cell_type": "code",
   "execution_count": 33,
   "id": "d0c1a878-4a9b-42af-b3fc-e648ade28284",
   "metadata": {
    "scrolled": true
   },
   "outputs": [],
   "source": [
    "for i in paleocontinents:\n",
    "    data_samples = pd.DataFrame(columns=['period', 'mean_ma','numberOfSamples','skeletal_total'])\n",
    "    temp = data[~(data.Paleocontinents1 == i)].reset_index().copy()\n",
    "    sample_df = temp[['period', 'mean_ma','numberOfSamples',\n",
    "                      'skeletal_total']]\n",
    "    data_samples = pd.concat([data_samples.astype(sample_df.dtypes),sample_df],ignore_index=True)\n",
    "    data_samples.reset_index()\n",
    "    stats = utils.get_stats(data_samples,'skeletal_total','period')\n",
    "    stats['removed_paleocontinent'] = i\n",
    "    sampling_test = pd.concat([sampling_test,stats],\n",
    "                             ignore_index=True)"
   ]
  },
  {
   "cell_type": "code",
   "execution_count": 34,
   "id": "3105c541-43ca-4e8c-9c47-5d12c6630b3e",
   "metadata": {},
   "outputs": [],
   "source": [
    "sampling_test = sampling_test.sort_values(by=['time'], ascending=True)"
   ]
  },
  {
   "cell_type": "code",
   "execution_count": 35,
   "id": "845a5f9d-8fff-47ef-a44a-5189819317cf",
   "metadata": {},
   "outputs": [],
   "source": [
    "mean = []\n",
    "min_value = []\n",
    "max_value = []\n",
    "period = []\n",
    "time = []\n",
    "median = []\n",
    "for p in periods:\n",
    "    temp = sampling_test[sampling_test.period == p]\n",
    "    mean.append(temp['mean'].mean())\n",
    "    median.append(temp['mean'].quantile(0.5))\n",
    "    min_value.append(temp['mean'].min())\n",
    "    max_value.append(temp['mean'].max())\n",
    "    period.append(p)\n",
    "    time.append(np.min(temp['time']))"
   ]
  },
  {
   "cell_type": "code",
   "execution_count": 36,
   "id": "ecf1460a-c8f8-4365-bab1-e69fc9ec9913",
   "metadata": {},
   "outputs": [],
   "source": [
    "sampling_stats = pd.DataFrame({'time':time,'min':min_value,'max':max_value,'median':median,\n",
    "                               'mean':mean,'period':period})\n",
    "sampling_stats = sampling_stats.sort_values(by=['time'], ascending=True)"
   ]
  },
  {
   "cell_type": "code",
   "execution_count": 37,
   "id": "ac170aad-9d79-4d65-9d44-45723d516c39",
   "metadata": {},
   "outputs": [
    {
     "data": {
      "application/vnd.plotly.v1+json": {
       "config": {
        "plotlyServerURL": "https://plot.ly"
       },
       "data": [
        {
         "line": {
          "color": "white"
         },
         "mode": "lines",
         "showlegend": false,
         "type": "scatter",
         "x": [
          1.294,
          12.809000000000054,
          44.5149999999996,
          105.5,
          173.14999999999765,
          226.73499999999777,
          275.5349999999999,
          328.89999999999617,
          389.05000000000007,
          431.30000000000103,
          464.39999999999725,
          513.199999999999
         ],
         "xaxis": "x",
         "y": [
          31.269620991253607,
          35.50530857947917,
          38.14340603678591,
          15.286163522012583,
          8.200490108296528,
          3.5468164794007473,
          30.06692473118279,
          36.302296511627894,
          18.457666916853515,
          32.28709416929753,
          16.804461717270918,
          5.164718628371621
         ],
         "yaxis": "y"
        },
        {
         "fill": "tonexty",
         "fillcolor": "rgba(174, 215, 234,0.5)",
         "line": {
          "color": "white"
         },
         "mode": "lines",
         "showlegend": false,
         "type": "scatter",
         "x": [
          1.294,
          12.809000000000054,
          44.5149999999996,
          105.5,
          173.14999999999765,
          226.73499999999777,
          275.5349999999999,
          328.89999999999617,
          389.05000000000007,
          431.30000000000103,
          464.39999999999725,
          513.199999999999
         ],
         "xaxis": "x",
         "y": [
          47.48923534136546,
          42.76796956563586,
          50.321968035112604,
          23.36925131938924,
          16.111473074506048,
          15.954202118576685,
          38.54166666666667,
          44.40116775164416,
          23.339939134105542,
          39.201334958844406,
          18.34584963457818,
          6.6794202898550745
         ],
         "yaxis": "y"
        },
        {
         "line": {
          "color": "red",
          "dash": "dot"
         },
         "marker": {
          "color": "red",
          "size": 5
         },
         "mode": "lines+markers",
         "name": "All data mean",
         "showlegend": true,
         "type": "scatter",
         "x": [
          1.2940000000000171,
          12.809000000000115,
          44.5149999999996,
          105.5,
          173.14999999999765,
          226.73499999999777,
          275.5350000000021,
          328.9000000000057,
          389.0500000000016,
          431.3000000000011,
          464.39999999999725,
          513.2000000000039
         ],
         "xaxis": "x",
         "y": [
          33.011490740740705,
          37.58550474263819,
          49.17618175880146,
          21.78740024399154,
          10.300434720998455,
          9.767886589799884,
          31.129588296760705,
          41.51087061969496,
          20.40725018764011,
          37.66080340322682,
          17.09764401016567,
          5.4798720543011
         ],
         "yaxis": "y"
        },
        {
         "dx": 100,
         "marker": {
          "color": [
           "#F9F97F",
           "#FFE619",
           "#FD9A52",
           "#7FC64E",
           "#34B2C9",
           "#812B92",
           "#F04028",
           "#67A599",
           "#CB8C37",
           "#B3E1B6",
           "#009270",
           "#7FA056"
          ]
         },
         "offset": 0,
         "showlegend": false,
         "text": [
          "Quaternary",
          "Neogene",
          "Paleogene",
          "Cretaceous",
          "Jurassic",
          "Triassic",
          "Permian",
          "Carboniferous",
          "Devonian",
          "Silurian",
          "Ordovician",
          "Cambrian"
         ],
         "textfont": {
          "color": "black",
          "family": "Arial black",
          "size": 12
         },
         "textposition": "inside",
         "type": "bar",
         "width": [
          2.588,
          20.442,
          42.97,
          79,
          56.30000000000001,
          50.869999999999976,
          46.72999999999999,
          60,
          60.30000000000001,
          24.19999999999999,
          42,
          55.60000000000002
         ],
         "x": [
          0,
          2.588,
          23.03,
          66,
          145,
          201.3,
          252.17,
          298.9,
          358.9,
          419.2,
          443.4,
          485.4
         ],
         "x0": 0,
         "xaxis": "x2",
         "y": [
          0.2,
          0.2,
          0.2,
          0.2,
          0.2,
          0.2,
          0.2,
          0.2,
          0.2,
          0.2,
          0.2,
          0.2
         ],
         "yaxis": "y2"
        }
       ],
       "layout": {
        "font": {
         "color": "black"
        },
        "height": 600,
        "legend": {
         "x": 0.01,
         "xanchor": "left",
         "y": 0.99,
         "yanchor": "top"
        },
        "paper_bgcolor": "white",
        "plot_bgcolor": "white",
        "template": {
         "data": {
          "bar": [
           {
            "error_x": {
             "color": "#2a3f5f"
            },
            "error_y": {
             "color": "#2a3f5f"
            },
            "marker": {
             "line": {
              "color": "#E5ECF6",
              "width": 0.5
             },
             "pattern": {
              "fillmode": "overlay",
              "size": 10,
              "solidity": 0.2
             }
            },
            "type": "bar"
           }
          ],
          "barpolar": [
           {
            "marker": {
             "line": {
              "color": "#E5ECF6",
              "width": 0.5
             },
             "pattern": {
              "fillmode": "overlay",
              "size": 10,
              "solidity": 0.2
             }
            },
            "type": "barpolar"
           }
          ],
          "carpet": [
           {
            "aaxis": {
             "endlinecolor": "#2a3f5f",
             "gridcolor": "white",
             "linecolor": "white",
             "minorgridcolor": "white",
             "startlinecolor": "#2a3f5f"
            },
            "baxis": {
             "endlinecolor": "#2a3f5f",
             "gridcolor": "white",
             "linecolor": "white",
             "minorgridcolor": "white",
             "startlinecolor": "#2a3f5f"
            },
            "type": "carpet"
           }
          ],
          "choropleth": [
           {
            "colorbar": {
             "outlinewidth": 0,
             "ticks": ""
            },
            "type": "choropleth"
           }
          ],
          "contour": [
           {
            "colorbar": {
             "outlinewidth": 0,
             "ticks": ""
            },
            "colorscale": [
             [
              0,
              "#0d0887"
             ],
             [
              0.1111111111111111,
              "#46039f"
             ],
             [
              0.2222222222222222,
              "#7201a8"
             ],
             [
              0.3333333333333333,
              "#9c179e"
             ],
             [
              0.4444444444444444,
              "#bd3786"
             ],
             [
              0.5555555555555556,
              "#d8576b"
             ],
             [
              0.6666666666666666,
              "#ed7953"
             ],
             [
              0.7777777777777778,
              "#fb9f3a"
             ],
             [
              0.8888888888888888,
              "#fdca26"
             ],
             [
              1,
              "#f0f921"
             ]
            ],
            "type": "contour"
           }
          ],
          "contourcarpet": [
           {
            "colorbar": {
             "outlinewidth": 0,
             "ticks": ""
            },
            "type": "contourcarpet"
           }
          ],
          "heatmap": [
           {
            "colorbar": {
             "outlinewidth": 0,
             "ticks": ""
            },
            "colorscale": [
             [
              0,
              "#0d0887"
             ],
             [
              0.1111111111111111,
              "#46039f"
             ],
             [
              0.2222222222222222,
              "#7201a8"
             ],
             [
              0.3333333333333333,
              "#9c179e"
             ],
             [
              0.4444444444444444,
              "#bd3786"
             ],
             [
              0.5555555555555556,
              "#d8576b"
             ],
             [
              0.6666666666666666,
              "#ed7953"
             ],
             [
              0.7777777777777778,
              "#fb9f3a"
             ],
             [
              0.8888888888888888,
              "#fdca26"
             ],
             [
              1,
              "#f0f921"
             ]
            ],
            "type": "heatmap"
           }
          ],
          "heatmapgl": [
           {
            "colorbar": {
             "outlinewidth": 0,
             "ticks": ""
            },
            "colorscale": [
             [
              0,
              "#0d0887"
             ],
             [
              0.1111111111111111,
              "#46039f"
             ],
             [
              0.2222222222222222,
              "#7201a8"
             ],
             [
              0.3333333333333333,
              "#9c179e"
             ],
             [
              0.4444444444444444,
              "#bd3786"
             ],
             [
              0.5555555555555556,
              "#d8576b"
             ],
             [
              0.6666666666666666,
              "#ed7953"
             ],
             [
              0.7777777777777778,
              "#fb9f3a"
             ],
             [
              0.8888888888888888,
              "#fdca26"
             ],
             [
              1,
              "#f0f921"
             ]
            ],
            "type": "heatmapgl"
           }
          ],
          "histogram": [
           {
            "marker": {
             "pattern": {
              "fillmode": "overlay",
              "size": 10,
              "solidity": 0.2
             }
            },
            "type": "histogram"
           }
          ],
          "histogram2d": [
           {
            "colorbar": {
             "outlinewidth": 0,
             "ticks": ""
            },
            "colorscale": [
             [
              0,
              "#0d0887"
             ],
             [
              0.1111111111111111,
              "#46039f"
             ],
             [
              0.2222222222222222,
              "#7201a8"
             ],
             [
              0.3333333333333333,
              "#9c179e"
             ],
             [
              0.4444444444444444,
              "#bd3786"
             ],
             [
              0.5555555555555556,
              "#d8576b"
             ],
             [
              0.6666666666666666,
              "#ed7953"
             ],
             [
              0.7777777777777778,
              "#fb9f3a"
             ],
             [
              0.8888888888888888,
              "#fdca26"
             ],
             [
              1,
              "#f0f921"
             ]
            ],
            "type": "histogram2d"
           }
          ],
          "histogram2dcontour": [
           {
            "colorbar": {
             "outlinewidth": 0,
             "ticks": ""
            },
            "colorscale": [
             [
              0,
              "#0d0887"
             ],
             [
              0.1111111111111111,
              "#46039f"
             ],
             [
              0.2222222222222222,
              "#7201a8"
             ],
             [
              0.3333333333333333,
              "#9c179e"
             ],
             [
              0.4444444444444444,
              "#bd3786"
             ],
             [
              0.5555555555555556,
              "#d8576b"
             ],
             [
              0.6666666666666666,
              "#ed7953"
             ],
             [
              0.7777777777777778,
              "#fb9f3a"
             ],
             [
              0.8888888888888888,
              "#fdca26"
             ],
             [
              1,
              "#f0f921"
             ]
            ],
            "type": "histogram2dcontour"
           }
          ],
          "mesh3d": [
           {
            "colorbar": {
             "outlinewidth": 0,
             "ticks": ""
            },
            "type": "mesh3d"
           }
          ],
          "parcoords": [
           {
            "line": {
             "colorbar": {
              "outlinewidth": 0,
              "ticks": ""
             }
            },
            "type": "parcoords"
           }
          ],
          "pie": [
           {
            "automargin": true,
            "type": "pie"
           }
          ],
          "scatter": [
           {
            "fillpattern": {
             "fillmode": "overlay",
             "size": 10,
             "solidity": 0.2
            },
            "type": "scatter"
           }
          ],
          "scatter3d": [
           {
            "line": {
             "colorbar": {
              "outlinewidth": 0,
              "ticks": ""
             }
            },
            "marker": {
             "colorbar": {
              "outlinewidth": 0,
              "ticks": ""
             }
            },
            "type": "scatter3d"
           }
          ],
          "scattercarpet": [
           {
            "marker": {
             "colorbar": {
              "outlinewidth": 0,
              "ticks": ""
             }
            },
            "type": "scattercarpet"
           }
          ],
          "scattergeo": [
           {
            "marker": {
             "colorbar": {
              "outlinewidth": 0,
              "ticks": ""
             }
            },
            "type": "scattergeo"
           }
          ],
          "scattergl": [
           {
            "marker": {
             "colorbar": {
              "outlinewidth": 0,
              "ticks": ""
             }
            },
            "type": "scattergl"
           }
          ],
          "scattermapbox": [
           {
            "marker": {
             "colorbar": {
              "outlinewidth": 0,
              "ticks": ""
             }
            },
            "type": "scattermapbox"
           }
          ],
          "scatterpolar": [
           {
            "marker": {
             "colorbar": {
              "outlinewidth": 0,
              "ticks": ""
             }
            },
            "type": "scatterpolar"
           }
          ],
          "scatterpolargl": [
           {
            "marker": {
             "colorbar": {
              "outlinewidth": 0,
              "ticks": ""
             }
            },
            "type": "scatterpolargl"
           }
          ],
          "scatterternary": [
           {
            "marker": {
             "colorbar": {
              "outlinewidth": 0,
              "ticks": ""
             }
            },
            "type": "scatterternary"
           }
          ],
          "surface": [
           {
            "colorbar": {
             "outlinewidth": 0,
             "ticks": ""
            },
            "colorscale": [
             [
              0,
              "#0d0887"
             ],
             [
              0.1111111111111111,
              "#46039f"
             ],
             [
              0.2222222222222222,
              "#7201a8"
             ],
             [
              0.3333333333333333,
              "#9c179e"
             ],
             [
              0.4444444444444444,
              "#bd3786"
             ],
             [
              0.5555555555555556,
              "#d8576b"
             ],
             [
              0.6666666666666666,
              "#ed7953"
             ],
             [
              0.7777777777777778,
              "#fb9f3a"
             ],
             [
              0.8888888888888888,
              "#fdca26"
             ],
             [
              1,
              "#f0f921"
             ]
            ],
            "type": "surface"
           }
          ],
          "table": [
           {
            "cells": {
             "fill": {
              "color": "#EBF0F8"
             },
             "line": {
              "color": "white"
             }
            },
            "header": {
             "fill": {
              "color": "#C8D4E3"
             },
             "line": {
              "color": "white"
             }
            },
            "type": "table"
           }
          ]
         },
         "layout": {
          "annotationdefaults": {
           "arrowcolor": "#2a3f5f",
           "arrowhead": 0,
           "arrowwidth": 1
          },
          "autotypenumbers": "strict",
          "coloraxis": {
           "colorbar": {
            "outlinewidth": 0,
            "ticks": ""
           }
          },
          "colorscale": {
           "diverging": [
            [
             0,
             "#8e0152"
            ],
            [
             0.1,
             "#c51b7d"
            ],
            [
             0.2,
             "#de77ae"
            ],
            [
             0.3,
             "#f1b6da"
            ],
            [
             0.4,
             "#fde0ef"
            ],
            [
             0.5,
             "#f7f7f7"
            ],
            [
             0.6,
             "#e6f5d0"
            ],
            [
             0.7,
             "#b8e186"
            ],
            [
             0.8,
             "#7fbc41"
            ],
            [
             0.9,
             "#4d9221"
            ],
            [
             1,
             "#276419"
            ]
           ],
           "sequential": [
            [
             0,
             "#0d0887"
            ],
            [
             0.1111111111111111,
             "#46039f"
            ],
            [
             0.2222222222222222,
             "#7201a8"
            ],
            [
             0.3333333333333333,
             "#9c179e"
            ],
            [
             0.4444444444444444,
             "#bd3786"
            ],
            [
             0.5555555555555556,
             "#d8576b"
            ],
            [
             0.6666666666666666,
             "#ed7953"
            ],
            [
             0.7777777777777778,
             "#fb9f3a"
            ],
            [
             0.8888888888888888,
             "#fdca26"
            ],
            [
             1,
             "#f0f921"
            ]
           ],
           "sequentialminus": [
            [
             0,
             "#0d0887"
            ],
            [
             0.1111111111111111,
             "#46039f"
            ],
            [
             0.2222222222222222,
             "#7201a8"
            ],
            [
             0.3333333333333333,
             "#9c179e"
            ],
            [
             0.4444444444444444,
             "#bd3786"
            ],
            [
             0.5555555555555556,
             "#d8576b"
            ],
            [
             0.6666666666666666,
             "#ed7953"
            ],
            [
             0.7777777777777778,
             "#fb9f3a"
            ],
            [
             0.8888888888888888,
             "#fdca26"
            ],
            [
             1,
             "#f0f921"
            ]
           ]
          },
          "colorway": [
           "#636efa",
           "#EF553B",
           "#00cc96",
           "#ab63fa",
           "#FFA15A",
           "#19d3f3",
           "#FF6692",
           "#B6E880",
           "#FF97FF",
           "#FECB52"
          ],
          "font": {
           "color": "#2a3f5f"
          },
          "geo": {
           "bgcolor": "white",
           "lakecolor": "white",
           "landcolor": "#E5ECF6",
           "showlakes": true,
           "showland": true,
           "subunitcolor": "white"
          },
          "hoverlabel": {
           "align": "left"
          },
          "hovermode": "closest",
          "mapbox": {
           "style": "light"
          },
          "paper_bgcolor": "white",
          "plot_bgcolor": "#E5ECF6",
          "polar": {
           "angularaxis": {
            "gridcolor": "white",
            "linecolor": "white",
            "ticks": ""
           },
           "bgcolor": "#E5ECF6",
           "radialaxis": {
            "gridcolor": "white",
            "linecolor": "white",
            "ticks": ""
           }
          },
          "scene": {
           "xaxis": {
            "backgroundcolor": "#E5ECF6",
            "gridcolor": "white",
            "gridwidth": 2,
            "linecolor": "white",
            "showbackground": true,
            "ticks": "",
            "zerolinecolor": "white"
           },
           "yaxis": {
            "backgroundcolor": "#E5ECF6",
            "gridcolor": "white",
            "gridwidth": 2,
            "linecolor": "white",
            "showbackground": true,
            "ticks": "",
            "zerolinecolor": "white"
           },
           "zaxis": {
            "backgroundcolor": "#E5ECF6",
            "gridcolor": "white",
            "gridwidth": 2,
            "linecolor": "white",
            "showbackground": true,
            "ticks": "",
            "zerolinecolor": "white"
           }
          },
          "shapedefaults": {
           "line": {
            "color": "#2a3f5f"
           }
          },
          "ternary": {
           "aaxis": {
            "gridcolor": "white",
            "linecolor": "white",
            "ticks": ""
           },
           "baxis": {
            "gridcolor": "white",
            "linecolor": "white",
            "ticks": ""
           },
           "bgcolor": "#E5ECF6",
           "caxis": {
            "gridcolor": "white",
            "linecolor": "white",
            "ticks": ""
           }
          },
          "title": {
           "x": 0.05
          },
          "xaxis": {
           "automargin": true,
           "gridcolor": "white",
           "linecolor": "white",
           "ticks": "",
           "title": {
            "standoff": 15
           },
           "zerolinecolor": "white",
           "zerolinewidth": 2
          },
          "yaxis": {
           "automargin": true,
           "gridcolor": "white",
           "linecolor": "white",
           "ticks": "",
           "title": {
            "standoff": 15
           },
           "zerolinecolor": "white",
           "zerolinewidth": 2
          }
         }
        },
        "width": 1000,
        "xaxis": {
         "anchor": "y",
         "domain": [
          0,
          1
         ],
         "linecolor": "black",
         "matches": "x2",
         "mirror": true,
         "range": [
          541,
          -2
         ],
         "showline": true,
         "showticklabels": false
        },
        "xaxis2": {
         "anchor": "y2",
         "domain": [
          0,
          1
         ],
         "range": [
          541,
          -2
         ],
         "ticks": "outside",
         "title": {
          "text": "Time (Ma)"
         }
        },
        "yaxis": {
         "anchor": "x",
         "domain": [
          0.15084999999999998,
          1
         ],
         "linecolor": "black",
         "mirror": true,
         "range": [
          0,
          89
         ],
         "showline": true,
         "ticks": "outside",
         "title": {
          "text": "Skeletal biomass %"
         }
        },
        "yaxis2": {
         "anchor": "x2",
         "domain": [
          0,
          0.14984999999999998
         ],
         "showticklabels": false
        }
       }
      }
     },
     "metadata": {},
     "output_type": "display_data"
    }
   ],
   "source": [
    "fig = make_subplots(rows = 2,cols = 1,shared_xaxes = True,row_heights = [0.85,0.15],\n",
    "                 vertical_spacing = 0.001)\n",
    "\n",
    "\n",
    "fig.add_trace(go.Scatter(x=sampling_stats['time'], y=sampling_stats['min'],showlegend = False,\n",
    "                             fill=None,mode='lines',line_color='white',\n",
    "                        ),row=1,col=1)\n",
    "\n",
    "fig.add_trace(go.Scatter(x=sampling_stats['time'],y=sampling_stats['max'],showlegend = False,\n",
    "                         fill='tonexty', # fill area between trace0 and trace1\n",
    "                         mode='lines', fillcolor='rgba(174, 215, 234,0.5)',\n",
    "                         line_color = 'white'),row=1,col=1)\n",
    "\n",
    "fig.add_trace(go.Scatter(x =data_skeletal['time'] ,y = data_skeletal['mean'],\n",
    "                         mode = 'lines+markers',\n",
    "                         name = 'All data mean', line = dict(color = 'red',dash = 'dot'),\n",
    "                         showlegend = True,\n",
    "                         marker = dict(color = 'red',size = 5),\n",
    "                         ),row=1,col=1)\n",
    "\n",
    "\n",
    "fig.update_xaxes(range=(541,-2),showticklabels = False,showline = True, \n",
    "                     mirror = True,linecolor = 'black',row=1,col=1)\n",
    "\n",
    "plot_utils.plot_time(fig,time_period,width_period,2,1)\n",
    "\n",
    "fig.update_xaxes(range=(541,-2),ticks = 'outside',title = 'Time (Ma)',row=2,col=1)\n",
    "\n",
    "fig.update_yaxes(title='Skeletal biomass %',showline = True, ticks = 'outside',\n",
    "                     range=(0,89),mirror = True,linecolor = 'black',row=1,col=1)\n",
    "\n",
    "fig.update_layout(height = 600, width = 1000,font_color = 'black',\n",
    "                 paper_bgcolor = 'white',\n",
    "                 plot_bgcolor = 'white',\n",
    "                 legend=dict(\n",
    "                yanchor=\"top\",\n",
    "                    y=0.99,\n",
    "                    xanchor=\"left\",\n",
    "                    x=0.01))\n",
    "fig.show()\n",
    "fig.write_image('./figures/Figure_S7.png',scale = 6)"
   ]
  },
  {
   "cell_type": "markdown",
   "id": "5d4ef4cb",
   "metadata": {},
   "source": [
    "## Figure S8: Influence of publications"
   ]
  },
  {
   "cell_type": "code",
   "execution_count": 38,
   "id": "c6a4557c",
   "metadata": {},
   "outputs": [],
   "source": [
    "sampling_test = pd.DataFrame(columns=['time', 'period', 'no_of_samp', 'mean', 'median', 'min', 'max'])"
   ]
  },
  {
   "cell_type": "code",
   "execution_count": 39,
   "id": "881a6dbd",
   "metadata": {
    "scrolled": true
   },
   "outputs": [],
   "source": [
    "for i in range(1000):\n",
    "    data_samples = pd.DataFrame(columns=['period', 'mean_ma','numberOfSamples','skeletal_total'])\n",
    "    for p in periods:\n",
    "        temp = data[data.period == p].reset_index().copy()\n",
    "        # Randomly select one publication to remove from the data\n",
    "        pubs = np.random.choice(np.unique(temp.publication),1)[0]\n",
    "        # Remove the randomly selected publication\n",
    "        temp = temp[~(temp.publication == pubs)].reset_index().reset_index(drop=True)\n",
    "        sample_df = temp[['period', 'mean_ma','numberOfSamples',\n",
    "                          'skeletal_total']]\n",
    "        data_samples = pd.concat([data_samples.astype(sample_df.dtypes),sample_df],ignore_index=True)\n",
    "    data_samples.reset_index()\n",
    "    stats = utils.get_stats(data_samples,'skeletal_total','period')\n",
    "    sampling_test = pd.concat([sampling_test,stats],\n",
    "                             ignore_index=True)"
   ]
  },
  {
   "cell_type": "code",
   "execution_count": 40,
   "id": "c05f2634",
   "metadata": {},
   "outputs": [],
   "source": [
    "sampling_test = sampling_test.sort_values(by=['time'], ascending=True)"
   ]
  },
  {
   "cell_type": "code",
   "execution_count": 41,
   "id": "39d8e00d",
   "metadata": {},
   "outputs": [],
   "source": [
    "mean = []\n",
    "min_value = []\n",
    "max_value = []\n",
    "period = []\n",
    "time = []\n",
    "median = []\n",
    "for p in periods:\n",
    "    temp = sampling_test[sampling_test.period == p]\n",
    "    mean.append(temp['mean'].mean())\n",
    "    median.append(temp['mean'].quantile(0.5))\n",
    "    min_value.append(temp['mean'].min())\n",
    "    max_value.append(temp['mean'].max())\n",
    "    period.append(p)\n",
    "    time.append(np.min(temp['time']))"
   ]
  },
  {
   "cell_type": "code",
   "execution_count": 42,
   "id": "54b76ec9",
   "metadata": {},
   "outputs": [],
   "source": [
    "sampling_stats = pd.DataFrame({'time':time,'min':min_value,'max':max_value,'median':median,\n",
    "                               'mean':mean,'period':period})\n",
    "sampling_stats = sampling_stats.sort_values(by=['time'], ascending=True)"
   ]
  },
  {
   "cell_type": "code",
   "execution_count": 43,
   "id": "e65bf251",
   "metadata": {},
   "outputs": [
    {
     "data": {
      "application/vnd.plotly.v1+json": {
       "config": {
        "plotlyServerURL": "https://plot.ly"
       },
       "data": [
        {
         "line": {
          "color": "white"
         },
         "mode": "lines",
         "showlegend": false,
         "type": "scatter",
         "x": [
          1.2939999999999932,
          12.809000000000054,
          44.5149999999996,
          105.5,
          173.14999999999776,
          226.73499999999805,
          275.53500000000173,
          328.9000000000016,
          389.05000000000075,
          431.30000000000143,
          464.3999999999973,
          513.199999999998
         ],
         "xaxis": "x",
         "y": [
          30.20819688109157,
          35.50530857947917,
          46.550667599097174,
          18.96461054668603,
          8.70181582662292,
          8.299169584171302,
          29.56832349726776,
          36.64666882964363,
          16.73269607851617,
          32.67352966482759,
          15.187647979798411,
          5.164718628371621
         ],
         "yaxis": "y"
        },
        {
         "fill": "tonexty",
         "fillcolor": "rgba(174, 215, 234,0.5)",
         "line": {
          "color": "white"
         },
         "mode": "lines",
         "showlegend": false,
         "type": "scatter",
         "x": [
          1.2939999999999932,
          12.809000000000054,
          44.5149999999996,
          105.5,
          173.14999999999776,
          226.73499999999805,
          275.53500000000173,
          328.9000000000016,
          389.05000000000075,
          431.30000000000143,
          464.3999999999973,
          513.199999999998
         ],
         "xaxis": "x",
         "y": [
          41.786957882069714,
          42.76796956563586,
          52.51394364644195,
          24.46398621281376,
          13.511438612105234,
          15.22149452289118,
          33.67065027322404,
          44.91877887981414,
          23.339939134105542,
          42.859256501578535,
          18.407855342516438,
          6.628472640282895
         ],
         "yaxis": "y"
        },
        {
         "line": {
          "color": "black"
         },
         "marker": {
          "color": "black",
          "size": 8
         },
         "mode": "lines+markers",
         "name": "Mean",
         "showlegend": true,
         "type": "scatter",
         "x": [
          1.2939999999999932,
          12.809000000000054,
          44.5149999999996,
          105.5,
          173.14999999999776,
          226.73499999999805,
          275.53500000000173,
          328.9000000000016,
          389.05000000000075,
          431.30000000000143,
          464.3999999999973,
          513.199999999998
         ],
         "xaxis": "x",
         "y": [
          33.12333745452634,
          38.153810678243865,
          49.247280430583146,
          21.700957239627055,
          10.390022584437853,
          9.912997776844238,
          31.186246257592146,
          41.493574226342794,
          20.241515695722185,
          37.86341669421543,
          17.123927394626342,
          5.560752792078487
         ],
         "yaxis": "y"
        },
        {
         "line": {
          "color": "red",
          "dash": "dot"
         },
         "marker": {
          "color": "red",
          "size": 5
         },
         "mode": "lines+markers",
         "name": "All data mean",
         "showlegend": true,
         "type": "scatter",
         "x": [
          1.2940000000000171,
          12.809000000000115,
          44.5149999999996,
          105.5,
          173.14999999999765,
          226.73499999999777,
          275.5350000000021,
          328.9000000000057,
          389.0500000000016,
          431.3000000000011,
          464.39999999999725,
          513.2000000000039
         ],
         "xaxis": "x",
         "y": [
          33.011490740740705,
          37.58550474263819,
          49.17618175880146,
          21.78740024399154,
          10.300434720998455,
          9.767886589799884,
          31.129588296760705,
          41.51087061969496,
          20.40725018764011,
          37.66080340322682,
          17.09764401016567,
          5.4798720543011
         ],
         "yaxis": "y"
        },
        {
         "dx": 100,
         "marker": {
          "color": [
           "#F9F97F",
           "#FFE619",
           "#FD9A52",
           "#7FC64E",
           "#34B2C9",
           "#812B92",
           "#F04028",
           "#67A599",
           "#CB8C37",
           "#B3E1B6",
           "#009270",
           "#7FA056"
          ]
         },
         "offset": 0,
         "showlegend": false,
         "text": [
          "Quaternary",
          "Neogene",
          "Paleogene",
          "Cretaceous",
          "Jurassic",
          "Triassic",
          "Permian",
          "Carboniferous",
          "Devonian",
          "Silurian",
          "Ordovician",
          "Cambrian"
         ],
         "textfont": {
          "color": "black",
          "family": "Arial black",
          "size": 12
         },
         "textposition": "inside",
         "type": "bar",
         "width": [
          2.588,
          20.442,
          42.97,
          79,
          56.30000000000001,
          50.869999999999976,
          46.72999999999999,
          60,
          60.30000000000001,
          24.19999999999999,
          42,
          55.60000000000002
         ],
         "x": [
          0,
          2.588,
          23.03,
          66,
          145,
          201.3,
          252.17,
          298.9,
          358.9,
          419.2,
          443.4,
          485.4
         ],
         "x0": 0,
         "xaxis": "x2",
         "y": [
          0.2,
          0.2,
          0.2,
          0.2,
          0.2,
          0.2,
          0.2,
          0.2,
          0.2,
          0.2,
          0.2,
          0.2
         ],
         "yaxis": "y2"
        }
       ],
       "layout": {
        "font": {
         "color": "black"
        },
        "height": 600,
        "legend": {
         "x": 0.01,
         "xanchor": "left",
         "y": 0.99,
         "yanchor": "top"
        },
        "paper_bgcolor": "white",
        "plot_bgcolor": "white",
        "template": {
         "data": {
          "bar": [
           {
            "error_x": {
             "color": "#2a3f5f"
            },
            "error_y": {
             "color": "#2a3f5f"
            },
            "marker": {
             "line": {
              "color": "#E5ECF6",
              "width": 0.5
             },
             "pattern": {
              "fillmode": "overlay",
              "size": 10,
              "solidity": 0.2
             }
            },
            "type": "bar"
           }
          ],
          "barpolar": [
           {
            "marker": {
             "line": {
              "color": "#E5ECF6",
              "width": 0.5
             },
             "pattern": {
              "fillmode": "overlay",
              "size": 10,
              "solidity": 0.2
             }
            },
            "type": "barpolar"
           }
          ],
          "carpet": [
           {
            "aaxis": {
             "endlinecolor": "#2a3f5f",
             "gridcolor": "white",
             "linecolor": "white",
             "minorgridcolor": "white",
             "startlinecolor": "#2a3f5f"
            },
            "baxis": {
             "endlinecolor": "#2a3f5f",
             "gridcolor": "white",
             "linecolor": "white",
             "minorgridcolor": "white",
             "startlinecolor": "#2a3f5f"
            },
            "type": "carpet"
           }
          ],
          "choropleth": [
           {
            "colorbar": {
             "outlinewidth": 0,
             "ticks": ""
            },
            "type": "choropleth"
           }
          ],
          "contour": [
           {
            "colorbar": {
             "outlinewidth": 0,
             "ticks": ""
            },
            "colorscale": [
             [
              0,
              "#0d0887"
             ],
             [
              0.1111111111111111,
              "#46039f"
             ],
             [
              0.2222222222222222,
              "#7201a8"
             ],
             [
              0.3333333333333333,
              "#9c179e"
             ],
             [
              0.4444444444444444,
              "#bd3786"
             ],
             [
              0.5555555555555556,
              "#d8576b"
             ],
             [
              0.6666666666666666,
              "#ed7953"
             ],
             [
              0.7777777777777778,
              "#fb9f3a"
             ],
             [
              0.8888888888888888,
              "#fdca26"
             ],
             [
              1,
              "#f0f921"
             ]
            ],
            "type": "contour"
           }
          ],
          "contourcarpet": [
           {
            "colorbar": {
             "outlinewidth": 0,
             "ticks": ""
            },
            "type": "contourcarpet"
           }
          ],
          "heatmap": [
           {
            "colorbar": {
             "outlinewidth": 0,
             "ticks": ""
            },
            "colorscale": [
             [
              0,
              "#0d0887"
             ],
             [
              0.1111111111111111,
              "#46039f"
             ],
             [
              0.2222222222222222,
              "#7201a8"
             ],
             [
              0.3333333333333333,
              "#9c179e"
             ],
             [
              0.4444444444444444,
              "#bd3786"
             ],
             [
              0.5555555555555556,
              "#d8576b"
             ],
             [
              0.6666666666666666,
              "#ed7953"
             ],
             [
              0.7777777777777778,
              "#fb9f3a"
             ],
             [
              0.8888888888888888,
              "#fdca26"
             ],
             [
              1,
              "#f0f921"
             ]
            ],
            "type": "heatmap"
           }
          ],
          "heatmapgl": [
           {
            "colorbar": {
             "outlinewidth": 0,
             "ticks": ""
            },
            "colorscale": [
             [
              0,
              "#0d0887"
             ],
             [
              0.1111111111111111,
              "#46039f"
             ],
             [
              0.2222222222222222,
              "#7201a8"
             ],
             [
              0.3333333333333333,
              "#9c179e"
             ],
             [
              0.4444444444444444,
              "#bd3786"
             ],
             [
              0.5555555555555556,
              "#d8576b"
             ],
             [
              0.6666666666666666,
              "#ed7953"
             ],
             [
              0.7777777777777778,
              "#fb9f3a"
             ],
             [
              0.8888888888888888,
              "#fdca26"
             ],
             [
              1,
              "#f0f921"
             ]
            ],
            "type": "heatmapgl"
           }
          ],
          "histogram": [
           {
            "marker": {
             "pattern": {
              "fillmode": "overlay",
              "size": 10,
              "solidity": 0.2
             }
            },
            "type": "histogram"
           }
          ],
          "histogram2d": [
           {
            "colorbar": {
             "outlinewidth": 0,
             "ticks": ""
            },
            "colorscale": [
             [
              0,
              "#0d0887"
             ],
             [
              0.1111111111111111,
              "#46039f"
             ],
             [
              0.2222222222222222,
              "#7201a8"
             ],
             [
              0.3333333333333333,
              "#9c179e"
             ],
             [
              0.4444444444444444,
              "#bd3786"
             ],
             [
              0.5555555555555556,
              "#d8576b"
             ],
             [
              0.6666666666666666,
              "#ed7953"
             ],
             [
              0.7777777777777778,
              "#fb9f3a"
             ],
             [
              0.8888888888888888,
              "#fdca26"
             ],
             [
              1,
              "#f0f921"
             ]
            ],
            "type": "histogram2d"
           }
          ],
          "histogram2dcontour": [
           {
            "colorbar": {
             "outlinewidth": 0,
             "ticks": ""
            },
            "colorscale": [
             [
              0,
              "#0d0887"
             ],
             [
              0.1111111111111111,
              "#46039f"
             ],
             [
              0.2222222222222222,
              "#7201a8"
             ],
             [
              0.3333333333333333,
              "#9c179e"
             ],
             [
              0.4444444444444444,
              "#bd3786"
             ],
             [
              0.5555555555555556,
              "#d8576b"
             ],
             [
              0.6666666666666666,
              "#ed7953"
             ],
             [
              0.7777777777777778,
              "#fb9f3a"
             ],
             [
              0.8888888888888888,
              "#fdca26"
             ],
             [
              1,
              "#f0f921"
             ]
            ],
            "type": "histogram2dcontour"
           }
          ],
          "mesh3d": [
           {
            "colorbar": {
             "outlinewidth": 0,
             "ticks": ""
            },
            "type": "mesh3d"
           }
          ],
          "parcoords": [
           {
            "line": {
             "colorbar": {
              "outlinewidth": 0,
              "ticks": ""
             }
            },
            "type": "parcoords"
           }
          ],
          "pie": [
           {
            "automargin": true,
            "type": "pie"
           }
          ],
          "scatter": [
           {
            "fillpattern": {
             "fillmode": "overlay",
             "size": 10,
             "solidity": 0.2
            },
            "type": "scatter"
           }
          ],
          "scatter3d": [
           {
            "line": {
             "colorbar": {
              "outlinewidth": 0,
              "ticks": ""
             }
            },
            "marker": {
             "colorbar": {
              "outlinewidth": 0,
              "ticks": ""
             }
            },
            "type": "scatter3d"
           }
          ],
          "scattercarpet": [
           {
            "marker": {
             "colorbar": {
              "outlinewidth": 0,
              "ticks": ""
             }
            },
            "type": "scattercarpet"
           }
          ],
          "scattergeo": [
           {
            "marker": {
             "colorbar": {
              "outlinewidth": 0,
              "ticks": ""
             }
            },
            "type": "scattergeo"
           }
          ],
          "scattergl": [
           {
            "marker": {
             "colorbar": {
              "outlinewidth": 0,
              "ticks": ""
             }
            },
            "type": "scattergl"
           }
          ],
          "scattermapbox": [
           {
            "marker": {
             "colorbar": {
              "outlinewidth": 0,
              "ticks": ""
             }
            },
            "type": "scattermapbox"
           }
          ],
          "scatterpolar": [
           {
            "marker": {
             "colorbar": {
              "outlinewidth": 0,
              "ticks": ""
             }
            },
            "type": "scatterpolar"
           }
          ],
          "scatterpolargl": [
           {
            "marker": {
             "colorbar": {
              "outlinewidth": 0,
              "ticks": ""
             }
            },
            "type": "scatterpolargl"
           }
          ],
          "scatterternary": [
           {
            "marker": {
             "colorbar": {
              "outlinewidth": 0,
              "ticks": ""
             }
            },
            "type": "scatterternary"
           }
          ],
          "surface": [
           {
            "colorbar": {
             "outlinewidth": 0,
             "ticks": ""
            },
            "colorscale": [
             [
              0,
              "#0d0887"
             ],
             [
              0.1111111111111111,
              "#46039f"
             ],
             [
              0.2222222222222222,
              "#7201a8"
             ],
             [
              0.3333333333333333,
              "#9c179e"
             ],
             [
              0.4444444444444444,
              "#bd3786"
             ],
             [
              0.5555555555555556,
              "#d8576b"
             ],
             [
              0.6666666666666666,
              "#ed7953"
             ],
             [
              0.7777777777777778,
              "#fb9f3a"
             ],
             [
              0.8888888888888888,
              "#fdca26"
             ],
             [
              1,
              "#f0f921"
             ]
            ],
            "type": "surface"
           }
          ],
          "table": [
           {
            "cells": {
             "fill": {
              "color": "#EBF0F8"
             },
             "line": {
              "color": "white"
             }
            },
            "header": {
             "fill": {
              "color": "#C8D4E3"
             },
             "line": {
              "color": "white"
             }
            },
            "type": "table"
           }
          ]
         },
         "layout": {
          "annotationdefaults": {
           "arrowcolor": "#2a3f5f",
           "arrowhead": 0,
           "arrowwidth": 1
          },
          "autotypenumbers": "strict",
          "coloraxis": {
           "colorbar": {
            "outlinewidth": 0,
            "ticks": ""
           }
          },
          "colorscale": {
           "diverging": [
            [
             0,
             "#8e0152"
            ],
            [
             0.1,
             "#c51b7d"
            ],
            [
             0.2,
             "#de77ae"
            ],
            [
             0.3,
             "#f1b6da"
            ],
            [
             0.4,
             "#fde0ef"
            ],
            [
             0.5,
             "#f7f7f7"
            ],
            [
             0.6,
             "#e6f5d0"
            ],
            [
             0.7,
             "#b8e186"
            ],
            [
             0.8,
             "#7fbc41"
            ],
            [
             0.9,
             "#4d9221"
            ],
            [
             1,
             "#276419"
            ]
           ],
           "sequential": [
            [
             0,
             "#0d0887"
            ],
            [
             0.1111111111111111,
             "#46039f"
            ],
            [
             0.2222222222222222,
             "#7201a8"
            ],
            [
             0.3333333333333333,
             "#9c179e"
            ],
            [
             0.4444444444444444,
             "#bd3786"
            ],
            [
             0.5555555555555556,
             "#d8576b"
            ],
            [
             0.6666666666666666,
             "#ed7953"
            ],
            [
             0.7777777777777778,
             "#fb9f3a"
            ],
            [
             0.8888888888888888,
             "#fdca26"
            ],
            [
             1,
             "#f0f921"
            ]
           ],
           "sequentialminus": [
            [
             0,
             "#0d0887"
            ],
            [
             0.1111111111111111,
             "#46039f"
            ],
            [
             0.2222222222222222,
             "#7201a8"
            ],
            [
             0.3333333333333333,
             "#9c179e"
            ],
            [
             0.4444444444444444,
             "#bd3786"
            ],
            [
             0.5555555555555556,
             "#d8576b"
            ],
            [
             0.6666666666666666,
             "#ed7953"
            ],
            [
             0.7777777777777778,
             "#fb9f3a"
            ],
            [
             0.8888888888888888,
             "#fdca26"
            ],
            [
             1,
             "#f0f921"
            ]
           ]
          },
          "colorway": [
           "#636efa",
           "#EF553B",
           "#00cc96",
           "#ab63fa",
           "#FFA15A",
           "#19d3f3",
           "#FF6692",
           "#B6E880",
           "#FF97FF",
           "#FECB52"
          ],
          "font": {
           "color": "#2a3f5f"
          },
          "geo": {
           "bgcolor": "white",
           "lakecolor": "white",
           "landcolor": "#E5ECF6",
           "showlakes": true,
           "showland": true,
           "subunitcolor": "white"
          },
          "hoverlabel": {
           "align": "left"
          },
          "hovermode": "closest",
          "mapbox": {
           "style": "light"
          },
          "paper_bgcolor": "white",
          "plot_bgcolor": "#E5ECF6",
          "polar": {
           "angularaxis": {
            "gridcolor": "white",
            "linecolor": "white",
            "ticks": ""
           },
           "bgcolor": "#E5ECF6",
           "radialaxis": {
            "gridcolor": "white",
            "linecolor": "white",
            "ticks": ""
           }
          },
          "scene": {
           "xaxis": {
            "backgroundcolor": "#E5ECF6",
            "gridcolor": "white",
            "gridwidth": 2,
            "linecolor": "white",
            "showbackground": true,
            "ticks": "",
            "zerolinecolor": "white"
           },
           "yaxis": {
            "backgroundcolor": "#E5ECF6",
            "gridcolor": "white",
            "gridwidth": 2,
            "linecolor": "white",
            "showbackground": true,
            "ticks": "",
            "zerolinecolor": "white"
           },
           "zaxis": {
            "backgroundcolor": "#E5ECF6",
            "gridcolor": "white",
            "gridwidth": 2,
            "linecolor": "white",
            "showbackground": true,
            "ticks": "",
            "zerolinecolor": "white"
           }
          },
          "shapedefaults": {
           "line": {
            "color": "#2a3f5f"
           }
          },
          "ternary": {
           "aaxis": {
            "gridcolor": "white",
            "linecolor": "white",
            "ticks": ""
           },
           "baxis": {
            "gridcolor": "white",
            "linecolor": "white",
            "ticks": ""
           },
           "bgcolor": "#E5ECF6",
           "caxis": {
            "gridcolor": "white",
            "linecolor": "white",
            "ticks": ""
           }
          },
          "title": {
           "x": 0.05
          },
          "xaxis": {
           "automargin": true,
           "gridcolor": "white",
           "linecolor": "white",
           "ticks": "",
           "title": {
            "standoff": 15
           },
           "zerolinecolor": "white",
           "zerolinewidth": 2
          },
          "yaxis": {
           "automargin": true,
           "gridcolor": "white",
           "linecolor": "white",
           "ticks": "",
           "title": {
            "standoff": 15
           },
           "zerolinecolor": "white",
           "zerolinewidth": 2
          }
         }
        },
        "width": 1000,
        "xaxis": {
         "anchor": "y",
         "domain": [
          0,
          1
         ],
         "linecolor": "black",
         "matches": "x2",
         "mirror": true,
         "range": [
          541,
          -2
         ],
         "showline": true,
         "showticklabels": false
        },
        "xaxis2": {
         "anchor": "y2",
         "domain": [
          0,
          1
         ],
         "range": [
          541,
          -2
         ],
         "ticks": "outside",
         "title": {
          "text": "Time (Ma)"
         }
        },
        "yaxis": {
         "anchor": "x",
         "domain": [
          0.15084999999999998,
          1
         ],
         "linecolor": "black",
         "mirror": true,
         "range": [
          0,
          89
         ],
         "showline": true,
         "ticks": "outside",
         "title": {
          "text": "Skeletal biomass %"
         }
        },
        "yaxis2": {
         "anchor": "x2",
         "domain": [
          0,
          0.14984999999999998
         ],
         "showticklabels": false
        }
       }
      }
     },
     "metadata": {},
     "output_type": "display_data"
    }
   ],
   "source": [
    "fig = make_subplots(rows = 2,cols = 1,shared_xaxes = True,row_heights = [0.85,0.15],\n",
    "                 vertical_spacing = 0.001)\n",
    "\n",
    "\n",
    "fig.add_trace(go.Scatter(x=sampling_stats['time'], y=sampling_stats['min'],showlegend = False,\n",
    "                             fill=None,mode='lines',line_color='white',\n",
    "                        ),row=1,col=1)\n",
    "\n",
    "fig.add_trace(go.Scatter(x=sampling_stats['time'],y=sampling_stats['max'],showlegend = False,\n",
    "                         fill='tonexty', # fill area between trace0 and trace1\n",
    "                         mode='lines', fillcolor='rgba(174, 215, 234,0.5)',\n",
    "                         line_color = 'white'),row=1,col=1)\n",
    "\n",
    "fig.add_trace(go.Scatter(x =sampling_stats['time'] ,y = sampling_stats['mean'],\n",
    "                         mode = 'lines+markers',\n",
    "                         name = 'Mean', line = dict(color = 'black'),showlegend = True,\n",
    "                         marker = dict(color = 'black',size = 8),\n",
    "                         ),row=1,col=1)\n",
    "\n",
    "fig.add_trace(go.Scatter(x =data_skeletal['time'] ,y = data_skeletal['mean'],\n",
    "                         mode = 'lines+markers',\n",
    "                         name = 'All data mean', line = dict(color = 'red',dash = 'dot'),\n",
    "                         showlegend = True,\n",
    "                         marker = dict(color = 'red',size = 5),\n",
    "                         ),row=1,col=1)\n",
    "\n",
    "\n",
    "fig.update_xaxes(range=(541,-2),showticklabels = False,showline = True, \n",
    "                     mirror = True,linecolor = 'black',row=1,col=1)\n",
    "\n",
    "plot_utils.plot_time(fig,time_period,width_period,2,1)\n",
    "\n",
    "fig.update_xaxes(range=(541,-2),ticks = 'outside',title = 'Time (Ma)',row=2,col=1)\n",
    "\n",
    "fig.update_yaxes(title='Skeletal biomass %',showline = True, ticks = 'outside',\n",
    "                     range=(0,89),mirror = True,linecolor = 'black',row=1,col=1)\n",
    "\n",
    "fig.update_layout(height = 600, width = 1000,font_color = 'black',\n",
    "                 paper_bgcolor = 'white',\n",
    "                 plot_bgcolor = 'white',\n",
    "                 legend=dict(\n",
    "                yanchor=\"top\",\n",
    "                    y=0.99,\n",
    "                    xanchor=\"left\",\n",
    "                    x=0.01))\n",
    "fig.show()\n",
    "fig.write_image('./figures/Figure_S8.png',scale = 6)"
   ]
  },
  {
   "cell_type": "markdown",
   "id": "28e95441-2c95-45a3-b8dc-2e4b931691b5",
   "metadata": {},
   "source": [
    "## Figure S9: Effect of uneven sampling"
   ]
  },
  {
   "cell_type": "code",
   "execution_count": 44,
   "id": "da9a20ab-fddc-42c5-906a-d80ac82dd541",
   "metadata": {},
   "outputs": [],
   "source": [
    "sampling_test = pd.DataFrame(columns=['time', 'period', 'no_of_samp', 'mean', 'median', 'min', 'max'])"
   ]
  },
  {
   "cell_type": "code",
   "execution_count": 45,
   "id": "2a2e695a-6ccc-4ef2-8787-f71a80787784",
   "metadata": {},
   "outputs": [],
   "source": [
    "for i in range(1000):\n",
    "    data_samples = pd.DataFrame(columns=['period', 'mean_ma','numberOfSamples','skeletal_total'])\n",
    "    for p in periods:\n",
    "        temp = data[data.period == p].reset_index().copy()\n",
    "        # Randomly select 10 samples from each period\n",
    "        temp = temp.sample(10).reset_index().reset_index(drop=True)\n",
    "        sample_df = temp[['period', 'mean_ma','numberOfSamples',\n",
    "                          'skeletal_total']]\n",
    "        data_samples = pd.concat([data_samples.astype(sample_df.dtypes),sample_df],ignore_index=True)\n",
    "    data_samples.reset_index()\n",
    "    stats = utils.get_stats(data_samples,'skeletal_total','period')\n",
    "    sampling_test = pd.concat([sampling_test,stats],\n",
    "                             ignore_index=True)"
   ]
  },
  {
   "cell_type": "code",
   "execution_count": 46,
   "id": "e259d8e5-7208-4400-876d-351d0698eaf7",
   "metadata": {},
   "outputs": [],
   "source": [
    "sampling_test = sampling_test.sort_values(by=['time'], ascending=True)"
   ]
  },
  {
   "cell_type": "code",
   "execution_count": 47,
   "id": "550120d8-b635-4382-9f6d-64ba0c0c511c",
   "metadata": {},
   "outputs": [],
   "source": [
    "mean = []\n",
    "min_value = []\n",
    "max_value = []\n",
    "period = []\n",
    "time = []\n",
    "median = []\n",
    "for p in periods:\n",
    "    temp = sampling_test[sampling_test.period == p]\n",
    "    mean.append(temp['mean'].mean())\n",
    "    median.append(temp['mean'].quantile(0.5))\n",
    "    min_value.append(temp['mean'].min())\n",
    "    max_value.append(temp['mean'].max())\n",
    "    period.append(p)\n",
    "    time.append(np.min(temp['time']))"
   ]
  },
  {
   "cell_type": "code",
   "execution_count": 48,
   "id": "3a59cc59-2a0c-4165-928f-4f42c76fe035",
   "metadata": {},
   "outputs": [],
   "source": [
    "sampling_stats = pd.DataFrame({'time':time,'min':min_value,'max':max_value,'median':median,\n",
    "                               'mean':mean,'period':period})\n",
    "sampling_stats = sampling_stats.sort_values(by=['time'], ascending=True)"
   ]
  },
  {
   "cell_type": "code",
   "execution_count": 49,
   "id": "8706f3c3-357c-47e8-8c75-9c57002b776e",
   "metadata": {},
   "outputs": [
    {
     "data": {
      "application/vnd.plotly.v1+json": {
       "config": {
        "plotlyServerURL": "https://plot.ly"
       },
       "data": [
        {
         "line": {
          "color": "white"
         },
         "mode": "lines",
         "showlegend": false,
         "type": "scatter",
         "x": [
          1.2940000000000003,
          12.809000000000001,
          44.51499999999999,
          105.5,
          173.15000000000003,
          226.73500000000007,
          275.53499999999997,
          328.90000000000003,
          389.05000000000007,
          431.30000000000007,
          464.4,
          513.1999999999999
         ],
         "xaxis": "x",
         "y": [
          5.471069473684211,
          22.083000000000002,
          24.1157315839152,
          6.816666666666667,
          0.9260674659200585,
          0.22066666666666665,
          13.24,
          15.61359373193856,
          6.181333333333333,
          18.331367031846302,
          5.734257326684932,
          0.25
         ],
         "yaxis": "y"
        },
        {
         "fill": "tonexty",
         "fillcolor": "rgba(174, 215, 234,0.5)",
         "line": {
          "color": "white"
         },
         "mode": "lines",
         "showlegend": false,
         "type": "scatter",
         "x": [
          1.2940000000000003,
          12.809000000000001,
          44.51499999999999,
          105.5,
          173.15000000000003,
          226.73500000000007,
          275.53499999999997,
          328.90000000000003,
          389.05000000000007,
          431.30000000000007,
          464.4,
          513.1999999999999
         ],
         "xaxis": "x",
         "y": [
          65.76971,
          56.924663583451625,
          73.554,
          43.247668997668995,
          26.30746935724963,
          26.045757169659613,
          50.97,
          66.79942211055277,
          40.047855949690074,
          57.058499999999995,
          33.373773861190394,
          13.966666666666669
         ],
         "yaxis": "y"
        },
        {
         "line": {
          "color": "red",
          "dash": "solid"
         },
         "marker": {
          "color": "red",
          "size": 8
         },
         "mode": "lines+markers",
         "name": "All data mean",
         "showlegend": true,
         "type": "scatter",
         "x": [
          1.2940000000000171,
          12.809000000000115,
          44.5149999999996,
          105.5,
          173.14999999999765,
          226.73499999999777,
          275.5350000000021,
          328.9000000000057,
          389.0500000000016,
          431.3000000000011,
          464.39999999999725,
          513.2000000000039
         ],
         "xaxis": "x",
         "y": [
          33.011490740740705,
          37.58550474263819,
          49.17618175880146,
          21.78740024399154,
          10.300434720998455,
          9.767886589799884,
          31.129588296760705,
          41.51087061969496,
          20.40725018764011,
          37.66080340322682,
          17.09764401016567,
          5.4798720543011
         ],
         "yaxis": "y"
        },
        {
         "line": {
          "color": "black",
          "dash": "dashdot"
         },
         "marker": {
          "color": "red",
          "size": 8
         },
         "mode": "lines+markers",
         "name": "All data 25 percentile",
         "showlegend": true,
         "type": "scatter",
         "x": [
          1.2940000000000171,
          12.809000000000115,
          44.5149999999996,
          105.5,
          173.14999999999765,
          226.73499999999777,
          275.5350000000021,
          328.9000000000057,
          389.0500000000016,
          431.3000000000011,
          464.39999999999725,
          513.2000000000039
         ],
         "xaxis": "x",
         "y": [
          6.300000000000001,
          29.20634920634921,
          31.761176470588236,
          7.8,
          1.33,
          0,
          18,
          17.747243107769425,
          6.629999999999999,
          16.996011901458,
          6.4,
          0
         ],
         "yaxis": "y"
        },
        {
         "line": {
          "color": "black",
          "dash": "dash"
         },
         "marker": {
          "color": "black",
          "size": 8
         },
         "mode": "lines+markers",
         "name": "All data 75 percentile",
         "showlegend": true,
         "type": "scatter",
         "x": [
          1.2940000000000171,
          12.809000000000115,
          44.5149999999996,
          105.5,
          173.14999999999765,
          226.73499999999777,
          275.5350000000021,
          328.9000000000057,
          389.0500000000016,
          431.3000000000011,
          464.39999999999725,
          513.2000000000039
         ],
         "xaxis": "x",
         "y": [
          58.875,
          45.44,
          68.0525,
          32.1,
          14.8364402115389,
          15,
          40.95,
          65,
          31.640000000000004,
          56.965,
          22.885595909073974,
          8.5
         ],
         "yaxis": "y"
        },
        {
         "dx": 100,
         "marker": {
          "color": [
           "#F9F97F",
           "#FFE619",
           "#FD9A52",
           "#7FC64E",
           "#34B2C9",
           "#812B92",
           "#F04028",
           "#67A599",
           "#CB8C37",
           "#B3E1B6",
           "#009270",
           "#7FA056"
          ]
         },
         "offset": 0,
         "showlegend": false,
         "text": [
          "Quaternary",
          "Neogene",
          "Paleogene",
          "Cretaceous",
          "Jurassic",
          "Triassic",
          "Permian",
          "Carboniferous",
          "Devonian",
          "Silurian",
          "Ordovician",
          "Cambrian"
         ],
         "textfont": {
          "color": "black",
          "family": "Arial black",
          "size": 12
         },
         "textposition": "inside",
         "type": "bar",
         "width": [
          2.588,
          20.442,
          42.97,
          79,
          56.30000000000001,
          50.869999999999976,
          46.72999999999999,
          60,
          60.30000000000001,
          24.19999999999999,
          42,
          55.60000000000002
         ],
         "x": [
          0,
          2.588,
          23.03,
          66,
          145,
          201.3,
          252.17,
          298.9,
          358.9,
          419.2,
          443.4,
          485.4
         ],
         "x0": 0,
         "xaxis": "x2",
         "y": [
          0.2,
          0.2,
          0.2,
          0.2,
          0.2,
          0.2,
          0.2,
          0.2,
          0.2,
          0.2,
          0.2,
          0.2
         ],
         "yaxis": "y2"
        }
       ],
       "layout": {
        "font": {
         "color": "black"
        },
        "height": 600,
        "legend": {
         "x": 0.01,
         "xanchor": "left",
         "y": 0.99,
         "yanchor": "top"
        },
        "paper_bgcolor": "white",
        "plot_bgcolor": "white",
        "template": {
         "data": {
          "bar": [
           {
            "error_x": {
             "color": "#2a3f5f"
            },
            "error_y": {
             "color": "#2a3f5f"
            },
            "marker": {
             "line": {
              "color": "#E5ECF6",
              "width": 0.5
             },
             "pattern": {
              "fillmode": "overlay",
              "size": 10,
              "solidity": 0.2
             }
            },
            "type": "bar"
           }
          ],
          "barpolar": [
           {
            "marker": {
             "line": {
              "color": "#E5ECF6",
              "width": 0.5
             },
             "pattern": {
              "fillmode": "overlay",
              "size": 10,
              "solidity": 0.2
             }
            },
            "type": "barpolar"
           }
          ],
          "carpet": [
           {
            "aaxis": {
             "endlinecolor": "#2a3f5f",
             "gridcolor": "white",
             "linecolor": "white",
             "minorgridcolor": "white",
             "startlinecolor": "#2a3f5f"
            },
            "baxis": {
             "endlinecolor": "#2a3f5f",
             "gridcolor": "white",
             "linecolor": "white",
             "minorgridcolor": "white",
             "startlinecolor": "#2a3f5f"
            },
            "type": "carpet"
           }
          ],
          "choropleth": [
           {
            "colorbar": {
             "outlinewidth": 0,
             "ticks": ""
            },
            "type": "choropleth"
           }
          ],
          "contour": [
           {
            "colorbar": {
             "outlinewidth": 0,
             "ticks": ""
            },
            "colorscale": [
             [
              0,
              "#0d0887"
             ],
             [
              0.1111111111111111,
              "#46039f"
             ],
             [
              0.2222222222222222,
              "#7201a8"
             ],
             [
              0.3333333333333333,
              "#9c179e"
             ],
             [
              0.4444444444444444,
              "#bd3786"
             ],
             [
              0.5555555555555556,
              "#d8576b"
             ],
             [
              0.6666666666666666,
              "#ed7953"
             ],
             [
              0.7777777777777778,
              "#fb9f3a"
             ],
             [
              0.8888888888888888,
              "#fdca26"
             ],
             [
              1,
              "#f0f921"
             ]
            ],
            "type": "contour"
           }
          ],
          "contourcarpet": [
           {
            "colorbar": {
             "outlinewidth": 0,
             "ticks": ""
            },
            "type": "contourcarpet"
           }
          ],
          "heatmap": [
           {
            "colorbar": {
             "outlinewidth": 0,
             "ticks": ""
            },
            "colorscale": [
             [
              0,
              "#0d0887"
             ],
             [
              0.1111111111111111,
              "#46039f"
             ],
             [
              0.2222222222222222,
              "#7201a8"
             ],
             [
              0.3333333333333333,
              "#9c179e"
             ],
             [
              0.4444444444444444,
              "#bd3786"
             ],
             [
              0.5555555555555556,
              "#d8576b"
             ],
             [
              0.6666666666666666,
              "#ed7953"
             ],
             [
              0.7777777777777778,
              "#fb9f3a"
             ],
             [
              0.8888888888888888,
              "#fdca26"
             ],
             [
              1,
              "#f0f921"
             ]
            ],
            "type": "heatmap"
           }
          ],
          "heatmapgl": [
           {
            "colorbar": {
             "outlinewidth": 0,
             "ticks": ""
            },
            "colorscale": [
             [
              0,
              "#0d0887"
             ],
             [
              0.1111111111111111,
              "#46039f"
             ],
             [
              0.2222222222222222,
              "#7201a8"
             ],
             [
              0.3333333333333333,
              "#9c179e"
             ],
             [
              0.4444444444444444,
              "#bd3786"
             ],
             [
              0.5555555555555556,
              "#d8576b"
             ],
             [
              0.6666666666666666,
              "#ed7953"
             ],
             [
              0.7777777777777778,
              "#fb9f3a"
             ],
             [
              0.8888888888888888,
              "#fdca26"
             ],
             [
              1,
              "#f0f921"
             ]
            ],
            "type": "heatmapgl"
           }
          ],
          "histogram": [
           {
            "marker": {
             "pattern": {
              "fillmode": "overlay",
              "size": 10,
              "solidity": 0.2
             }
            },
            "type": "histogram"
           }
          ],
          "histogram2d": [
           {
            "colorbar": {
             "outlinewidth": 0,
             "ticks": ""
            },
            "colorscale": [
             [
              0,
              "#0d0887"
             ],
             [
              0.1111111111111111,
              "#46039f"
             ],
             [
              0.2222222222222222,
              "#7201a8"
             ],
             [
              0.3333333333333333,
              "#9c179e"
             ],
             [
              0.4444444444444444,
              "#bd3786"
             ],
             [
              0.5555555555555556,
              "#d8576b"
             ],
             [
              0.6666666666666666,
              "#ed7953"
             ],
             [
              0.7777777777777778,
              "#fb9f3a"
             ],
             [
              0.8888888888888888,
              "#fdca26"
             ],
             [
              1,
              "#f0f921"
             ]
            ],
            "type": "histogram2d"
           }
          ],
          "histogram2dcontour": [
           {
            "colorbar": {
             "outlinewidth": 0,
             "ticks": ""
            },
            "colorscale": [
             [
              0,
              "#0d0887"
             ],
             [
              0.1111111111111111,
              "#46039f"
             ],
             [
              0.2222222222222222,
              "#7201a8"
             ],
             [
              0.3333333333333333,
              "#9c179e"
             ],
             [
              0.4444444444444444,
              "#bd3786"
             ],
             [
              0.5555555555555556,
              "#d8576b"
             ],
             [
              0.6666666666666666,
              "#ed7953"
             ],
             [
              0.7777777777777778,
              "#fb9f3a"
             ],
             [
              0.8888888888888888,
              "#fdca26"
             ],
             [
              1,
              "#f0f921"
             ]
            ],
            "type": "histogram2dcontour"
           }
          ],
          "mesh3d": [
           {
            "colorbar": {
             "outlinewidth": 0,
             "ticks": ""
            },
            "type": "mesh3d"
           }
          ],
          "parcoords": [
           {
            "line": {
             "colorbar": {
              "outlinewidth": 0,
              "ticks": ""
             }
            },
            "type": "parcoords"
           }
          ],
          "pie": [
           {
            "automargin": true,
            "type": "pie"
           }
          ],
          "scatter": [
           {
            "fillpattern": {
             "fillmode": "overlay",
             "size": 10,
             "solidity": 0.2
            },
            "type": "scatter"
           }
          ],
          "scatter3d": [
           {
            "line": {
             "colorbar": {
              "outlinewidth": 0,
              "ticks": ""
             }
            },
            "marker": {
             "colorbar": {
              "outlinewidth": 0,
              "ticks": ""
             }
            },
            "type": "scatter3d"
           }
          ],
          "scattercarpet": [
           {
            "marker": {
             "colorbar": {
              "outlinewidth": 0,
              "ticks": ""
             }
            },
            "type": "scattercarpet"
           }
          ],
          "scattergeo": [
           {
            "marker": {
             "colorbar": {
              "outlinewidth": 0,
              "ticks": ""
             }
            },
            "type": "scattergeo"
           }
          ],
          "scattergl": [
           {
            "marker": {
             "colorbar": {
              "outlinewidth": 0,
              "ticks": ""
             }
            },
            "type": "scattergl"
           }
          ],
          "scattermapbox": [
           {
            "marker": {
             "colorbar": {
              "outlinewidth": 0,
              "ticks": ""
             }
            },
            "type": "scattermapbox"
           }
          ],
          "scatterpolar": [
           {
            "marker": {
             "colorbar": {
              "outlinewidth": 0,
              "ticks": ""
             }
            },
            "type": "scatterpolar"
           }
          ],
          "scatterpolargl": [
           {
            "marker": {
             "colorbar": {
              "outlinewidth": 0,
              "ticks": ""
             }
            },
            "type": "scatterpolargl"
           }
          ],
          "scatterternary": [
           {
            "marker": {
             "colorbar": {
              "outlinewidth": 0,
              "ticks": ""
             }
            },
            "type": "scatterternary"
           }
          ],
          "surface": [
           {
            "colorbar": {
             "outlinewidth": 0,
             "ticks": ""
            },
            "colorscale": [
             [
              0,
              "#0d0887"
             ],
             [
              0.1111111111111111,
              "#46039f"
             ],
             [
              0.2222222222222222,
              "#7201a8"
             ],
             [
              0.3333333333333333,
              "#9c179e"
             ],
             [
              0.4444444444444444,
              "#bd3786"
             ],
             [
              0.5555555555555556,
              "#d8576b"
             ],
             [
              0.6666666666666666,
              "#ed7953"
             ],
             [
              0.7777777777777778,
              "#fb9f3a"
             ],
             [
              0.8888888888888888,
              "#fdca26"
             ],
             [
              1,
              "#f0f921"
             ]
            ],
            "type": "surface"
           }
          ],
          "table": [
           {
            "cells": {
             "fill": {
              "color": "#EBF0F8"
             },
             "line": {
              "color": "white"
             }
            },
            "header": {
             "fill": {
              "color": "#C8D4E3"
             },
             "line": {
              "color": "white"
             }
            },
            "type": "table"
           }
          ]
         },
         "layout": {
          "annotationdefaults": {
           "arrowcolor": "#2a3f5f",
           "arrowhead": 0,
           "arrowwidth": 1
          },
          "autotypenumbers": "strict",
          "coloraxis": {
           "colorbar": {
            "outlinewidth": 0,
            "ticks": ""
           }
          },
          "colorscale": {
           "diverging": [
            [
             0,
             "#8e0152"
            ],
            [
             0.1,
             "#c51b7d"
            ],
            [
             0.2,
             "#de77ae"
            ],
            [
             0.3,
             "#f1b6da"
            ],
            [
             0.4,
             "#fde0ef"
            ],
            [
             0.5,
             "#f7f7f7"
            ],
            [
             0.6,
             "#e6f5d0"
            ],
            [
             0.7,
             "#b8e186"
            ],
            [
             0.8,
             "#7fbc41"
            ],
            [
             0.9,
             "#4d9221"
            ],
            [
             1,
             "#276419"
            ]
           ],
           "sequential": [
            [
             0,
             "#0d0887"
            ],
            [
             0.1111111111111111,
             "#46039f"
            ],
            [
             0.2222222222222222,
             "#7201a8"
            ],
            [
             0.3333333333333333,
             "#9c179e"
            ],
            [
             0.4444444444444444,
             "#bd3786"
            ],
            [
             0.5555555555555556,
             "#d8576b"
            ],
            [
             0.6666666666666666,
             "#ed7953"
            ],
            [
             0.7777777777777778,
             "#fb9f3a"
            ],
            [
             0.8888888888888888,
             "#fdca26"
            ],
            [
             1,
             "#f0f921"
            ]
           ],
           "sequentialminus": [
            [
             0,
             "#0d0887"
            ],
            [
             0.1111111111111111,
             "#46039f"
            ],
            [
             0.2222222222222222,
             "#7201a8"
            ],
            [
             0.3333333333333333,
             "#9c179e"
            ],
            [
             0.4444444444444444,
             "#bd3786"
            ],
            [
             0.5555555555555556,
             "#d8576b"
            ],
            [
             0.6666666666666666,
             "#ed7953"
            ],
            [
             0.7777777777777778,
             "#fb9f3a"
            ],
            [
             0.8888888888888888,
             "#fdca26"
            ],
            [
             1,
             "#f0f921"
            ]
           ]
          },
          "colorway": [
           "#636efa",
           "#EF553B",
           "#00cc96",
           "#ab63fa",
           "#FFA15A",
           "#19d3f3",
           "#FF6692",
           "#B6E880",
           "#FF97FF",
           "#FECB52"
          ],
          "font": {
           "color": "#2a3f5f"
          },
          "geo": {
           "bgcolor": "white",
           "lakecolor": "white",
           "landcolor": "#E5ECF6",
           "showlakes": true,
           "showland": true,
           "subunitcolor": "white"
          },
          "hoverlabel": {
           "align": "left"
          },
          "hovermode": "closest",
          "mapbox": {
           "style": "light"
          },
          "paper_bgcolor": "white",
          "plot_bgcolor": "#E5ECF6",
          "polar": {
           "angularaxis": {
            "gridcolor": "white",
            "linecolor": "white",
            "ticks": ""
           },
           "bgcolor": "#E5ECF6",
           "radialaxis": {
            "gridcolor": "white",
            "linecolor": "white",
            "ticks": ""
           }
          },
          "scene": {
           "xaxis": {
            "backgroundcolor": "#E5ECF6",
            "gridcolor": "white",
            "gridwidth": 2,
            "linecolor": "white",
            "showbackground": true,
            "ticks": "",
            "zerolinecolor": "white"
           },
           "yaxis": {
            "backgroundcolor": "#E5ECF6",
            "gridcolor": "white",
            "gridwidth": 2,
            "linecolor": "white",
            "showbackground": true,
            "ticks": "",
            "zerolinecolor": "white"
           },
           "zaxis": {
            "backgroundcolor": "#E5ECF6",
            "gridcolor": "white",
            "gridwidth": 2,
            "linecolor": "white",
            "showbackground": true,
            "ticks": "",
            "zerolinecolor": "white"
           }
          },
          "shapedefaults": {
           "line": {
            "color": "#2a3f5f"
           }
          },
          "ternary": {
           "aaxis": {
            "gridcolor": "white",
            "linecolor": "white",
            "ticks": ""
           },
           "baxis": {
            "gridcolor": "white",
            "linecolor": "white",
            "ticks": ""
           },
           "bgcolor": "#E5ECF6",
           "caxis": {
            "gridcolor": "white",
            "linecolor": "white",
            "ticks": ""
           }
          },
          "title": {
           "x": 0.05
          },
          "xaxis": {
           "automargin": true,
           "gridcolor": "white",
           "linecolor": "white",
           "ticks": "",
           "title": {
            "standoff": 15
           },
           "zerolinecolor": "white",
           "zerolinewidth": 2
          },
          "yaxis": {
           "automargin": true,
           "gridcolor": "white",
           "linecolor": "white",
           "ticks": "",
           "title": {
            "standoff": 15
           },
           "zerolinecolor": "white",
           "zerolinewidth": 2
          }
         }
        },
        "width": 1000,
        "xaxis": {
         "anchor": "y",
         "domain": [
          0,
          1
         ],
         "linecolor": "black",
         "matches": "x2",
         "mirror": true,
         "range": [
          541,
          -2
         ],
         "showline": true,
         "showticklabels": false
        },
        "xaxis2": {
         "anchor": "y2",
         "domain": [
          0,
          1
         ],
         "range": [
          541,
          -2
         ],
         "ticks": "outside",
         "title": {
          "text": "Time (Ma)"
         }
        },
        "yaxis": {
         "anchor": "x",
         "domain": [
          0.15084999999999998,
          1
         ],
         "linecolor": "black",
         "mirror": true,
         "range": [
          0,
          89
         ],
         "showline": true,
         "ticks": "outside",
         "title": {
          "text": "Skeletal biomass %"
         }
        },
        "yaxis2": {
         "anchor": "x2",
         "domain": [
          0,
          0.14984999999999998
         ],
         "showticklabels": false
        }
       }
      }
     },
     "metadata": {},
     "output_type": "display_data"
    }
   ],
   "source": [
    "fig = make_subplots(rows = 2,cols = 1,shared_xaxes = True,row_heights = [0.85,0.15],\n",
    "                 vertical_spacing = 0.001)\n",
    "\n",
    "\n",
    "fig.add_trace(go.Scatter(x=sampling_stats['time'], y=sampling_stats['min'],showlegend = False,\n",
    "                             fill=None,mode='lines',line_color='white',\n",
    "                        ),row=1,col=1)\n",
    "\n",
    "fig.add_trace(go.Scatter(x=sampling_stats['time'],y=sampling_stats['max'],showlegend = False,\n",
    "                         fill='tonexty', # fill area between trace0 and trace1\n",
    "                         mode='lines', fillcolor='rgba(174, 215, 234,0.5)',\n",
    "                         line_color = 'white'),row=1,col=1)\n",
    "\n",
    "\n",
    "fig.add_trace(go.Scatter(x =data_skeletal['time'] ,y = data_skeletal['mean'],\n",
    "                         mode = 'lines+markers',\n",
    "                         name = 'All data mean', line = dict(color = 'red',dash = 'solid'),\n",
    "                         showlegend = True,\n",
    "                         marker = dict(color = 'red',size = 8),\n",
    "                         ),row=1,col=1)\n",
    "\n",
    "fig.add_trace(go.Scatter(x =data_skeletal['time'] ,y = data_skeletal['min'],\n",
    "                         mode = 'lines+markers',\n",
    "                         name = 'All data 25 percentile', line = dict(color = 'black',dash = 'dashdot'),\n",
    "                         showlegend = True,\n",
    "                         marker = dict(color = 'red',size = 8),\n",
    "                         ),row=1,col=1)\n",
    "\n",
    "fig.add_trace(go.Scatter(x =data_skeletal['time'] ,y = data_skeletal['max'],\n",
    "                         mode = 'lines+markers',\n",
    "                         name = 'All data 75 percentile', line = dict(color = 'black',dash = 'dash'),\n",
    "                         showlegend = True,\n",
    "                         marker = dict(color = 'black',size = 8),\n",
    "                         ),row=1,col=1)\n",
    "\n",
    "\n",
    "fig.update_xaxes(range=(541,-2),showticklabels = False,showline = True, \n",
    "                     mirror = True,linecolor = 'black',row=1,col=1)\n",
    "\n",
    "plot_utils.plot_time(fig,time_period,width_period,2,1)\n",
    "\n",
    "fig.update_xaxes(range=(541,-2),ticks = 'outside',title = 'Time (Ma)',row=2,col=1)\n",
    "\n",
    "fig.update_yaxes(title='Skeletal biomass %',showline = True, ticks = 'outside',\n",
    "                     range=(0,89),mirror = True,linecolor = 'black',row=1,col=1)\n",
    "\n",
    "fig.update_layout(height = 600, width = 1000,font_color = 'black',\n",
    "                 paper_bgcolor = 'white',\n",
    "                 plot_bgcolor = 'white',\n",
    "                 legend=dict(\n",
    "                yanchor=\"top\",\n",
    "                    y=0.99,\n",
    "                    xanchor=\"left\",\n",
    "                    x=0.01))\n",
    "fig.show()\n",
    "fig.write_image('./figures/Figure_S9.png',scale = 6)"
   ]
  },
  {
   "cell_type": "code",
   "execution_count": null,
   "id": "82e35bb2-aeff-4d50-90fb-4029eae370eb",
   "metadata": {},
   "outputs": [],
   "source": []
  }
 ],
 "metadata": {
  "kernelspec": {
   "display_name": "research",
   "language": "python",
   "name": "python3"
  },
  "language_info": {
   "codemirror_mode": {
    "name": "ipython",
    "version": 3
   },
   "file_extension": ".py",
   "mimetype": "text/x-python",
   "name": "python",
   "nbconvert_exporter": "python",
   "pygments_lexer": "ipython3",
   "version": "3.9.21"
  }
 },
 "nbformat": 4,
 "nbformat_minor": 5
}
