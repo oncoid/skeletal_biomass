{
 "cells": [
  {
   "cell_type": "code",
   "execution_count": 1,
   "id": "6392bfbe-b3e7-4019-a4bf-b62afdb30611",
   "metadata": {},
   "outputs": [
    {
     "name": "stdout",
     "output_type": "stream",
     "text": [
      "Intel MKL WARNING: Support of Intel(R) Streaming SIMD Extensions 4.2 (Intel(R) SSE4.2) enabled only processors has been deprecated. Intel oneAPI Math Kernel Library 2025.0 will require Intel(R) Advanced Vector Extensions (Intel(R) AVX) instructions.\n",
      "Intel MKL WARNING: Support of Intel(R) Streaming SIMD Extensions 4.2 (Intel(R) SSE4.2) enabled only processors has been deprecated. Intel oneAPI Math Kernel Library 2025.0 will require Intel(R) Advanced Vector Extensions (Intel(R) AVX) instructions.\n"
     ]
    }
   ],
   "source": [
    "import numpy as np\n",
    "import pandas as pd \n",
    "import plotly.graph_objects as go\n",
    "from plotly.subplots import make_subplots\n",
    "import utils\n",
    "import plot_utils\n",
    "import random"
   ]
  },
  {
   "cell_type": "code",
   "execution_count": 2,
   "id": "db25473b-ad4f-4f8b-9b7b-43d8ce7b5647",
   "metadata": {},
   "outputs": [],
   "source": [
    "time_file = './data/timeScale.xlsx'\n",
    "time = pd.read_excel(time_file,sheet_name='Sheet1')\n",
    "\n",
    "time_epoch = utils.get_timesubset(time,4,541)\n",
    "width_epoch = [time_epoch['max_ma'][i] - time_epoch['min_ma'][i] for i in list(time_epoch.index)]\n",
    "\n",
    "time_period = utils.get_timesubset(time,3,541)\n",
    "width_period = [time_period['max_ma'][i] - time_period['min_ma'][i] for i in list(time_period.index)]\n",
    "\n",
    "time_age = utils.get_timesubset(time,5,541)\n",
    "width_age = [time_age['max_ma'][i] - time_age['min_ma'][i] for i in list(time_age.index)]"
   ]
  },
  {
   "cell_type": "code",
   "execution_count": 3,
   "id": "e3c8e167-d258-45c6-aa74-f8854f1fac86",
   "metadata": {},
   "outputs": [],
   "source": [
    "bioturb_hist = pd.read_excel('./data/bioturbationShellbedsData.xlsx','Tool marks data')\n",
    "bioturb_box = pd.read_excel('./data/bioturbationShellbedsData.xlsx','shell beds data')"
   ]
  },
  {
   "cell_type": "code",
   "execution_count": 4,
   "id": "787c9358-d379-4159-8765-d55defb83eaa",
   "metadata": {},
   "outputs": [
    {
     "data": {
      "application/vnd.plotly.v1+json": {
       "config": {
        "plotlyServerURL": "https://plot.ly"
       },
       "data": [
        {
         "marker": {
          "color": "lightslategray"
         },
         "showlegend": false,
         "type": "bar",
         "x": [
          513.2,
          464.4,
          431.3,
          389.05,
          328.9,
          275.535,
          226.735,
          173.15,
          105.5,
          44.515,
          12.809
         ],
         "xaxis": "x",
         "y": [
          33.9748953974895,
          16.9874476987447,
          16.255230125523,
          10.9832635983263,
          10.836820083682,
          2.19665271966527,
          10.6903765690376,
          7.90794979079498,
          5.85774058577406,
          3.95397489539749,
          4.5397489539749
         ],
         "yaxis": "y"
        },
        {
         "marker": {
          "color": "#993d3d"
         },
         "showlegend": false,
         "type": "box",
         "width": 20,
         "x": [
          12.809,
          12.809,
          12.809,
          12.809,
          12.809,
          12.809,
          12.809,
          12.809,
          12.809,
          12.809,
          12.809,
          12.809,
          12.809,
          12.809,
          12.809,
          173.15,
          173.15,
          173.15,
          173.15,
          173.15,
          173.15,
          173.15,
          173.15,
          173.15,
          173.15,
          173.15,
          173.15,
          443.4,
          443.4,
          443.4,
          443.4,
          443.4,
          443.4
         ],
         "xaxis": "x",
         "y": [
          4.9,
          4.6000000000000005,
          4.5,
          4.4,
          4.5,
          8.4,
          5.6,
          8,
          8.1,
          11,
          24,
          16,
          104,
          60,
          32,
          4,
          6,
          3.9,
          2.4000000000000004,
          1,
          1.2,
          2.0999999999999996,
          1.6,
          0.9,
          2,
          0,
          0,
          4.2,
          6.2,
          0.8999999999999999,
          2.4000000000000004,
          0.5,
          0.7
         ],
         "yaxis": "y2"
        },
        {
         "dx": 100,
         "marker": {
          "color": [
           "#F9F97F",
           "#FFE619",
           "#FD9A52",
           "#7FC64E",
           "#34B2C9",
           "#812B92",
           "#F04028",
           "#67A599",
           "#CB8C37",
           "#B3E1B6",
           "#009270",
           "#7FA056"
          ]
         },
         "offset": 0,
         "showlegend": false,
         "text": [
          "Quaternary",
          "Neogene",
          "Paleogene",
          "Cretaceous",
          "Jurassic",
          "Triassic",
          "Permian",
          "Carboniferous",
          "Devonian",
          "Silurian",
          "Ordovician",
          "Cambrian"
         ],
         "textfont": {
          "color": "black",
          "family": "Arial black",
          "size": 12
         },
         "textposition": "inside",
         "type": "bar",
         "width": [
          2.588,
          20.442,
          42.97,
          79,
          56.30000000000001,
          50.869999999999976,
          46.72999999999999,
          60,
          60.30000000000001,
          24.19999999999999,
          42,
          55.60000000000002
         ],
         "x": [
          0,
          2.588,
          23.03,
          66,
          145,
          201.3,
          252.17,
          298.9,
          358.9,
          419.2,
          443.4,
          485.4
         ],
         "x0": 0,
         "xaxis": "x2",
         "y": [
          0.2,
          0.2,
          0.2,
          0.2,
          0.2,
          0.2,
          0.2,
          0.2,
          0.2,
          0.2,
          0.2,
          0.2
         ],
         "yaxis": "y3"
        }
       ],
       "layout": {
        "font": {
         "color": "black"
        },
        "height": 500,
        "legend": {
         "x": 0.01,
         "xanchor": "left",
         "y": 0.99,
         "yanchor": "top"
        },
        "paper_bgcolor": "white",
        "plot_bgcolor": "white",
        "template": {
         "data": {
          "bar": [
           {
            "error_x": {
             "color": "#2a3f5f"
            },
            "error_y": {
             "color": "#2a3f5f"
            },
            "marker": {
             "line": {
              "color": "#E5ECF6",
              "width": 0.5
             },
             "pattern": {
              "fillmode": "overlay",
              "size": 10,
              "solidity": 0.2
             }
            },
            "type": "bar"
           }
          ],
          "barpolar": [
           {
            "marker": {
             "line": {
              "color": "#E5ECF6",
              "width": 0.5
             },
             "pattern": {
              "fillmode": "overlay",
              "size": 10,
              "solidity": 0.2
             }
            },
            "type": "barpolar"
           }
          ],
          "carpet": [
           {
            "aaxis": {
             "endlinecolor": "#2a3f5f",
             "gridcolor": "white",
             "linecolor": "white",
             "minorgridcolor": "white",
             "startlinecolor": "#2a3f5f"
            },
            "baxis": {
             "endlinecolor": "#2a3f5f",
             "gridcolor": "white",
             "linecolor": "white",
             "minorgridcolor": "white",
             "startlinecolor": "#2a3f5f"
            },
            "type": "carpet"
           }
          ],
          "choropleth": [
           {
            "colorbar": {
             "outlinewidth": 0,
             "ticks": ""
            },
            "type": "choropleth"
           }
          ],
          "contour": [
           {
            "colorbar": {
             "outlinewidth": 0,
             "ticks": ""
            },
            "colorscale": [
             [
              0,
              "#0d0887"
             ],
             [
              0.1111111111111111,
              "#46039f"
             ],
             [
              0.2222222222222222,
              "#7201a8"
             ],
             [
              0.3333333333333333,
              "#9c179e"
             ],
             [
              0.4444444444444444,
              "#bd3786"
             ],
             [
              0.5555555555555556,
              "#d8576b"
             ],
             [
              0.6666666666666666,
              "#ed7953"
             ],
             [
              0.7777777777777778,
              "#fb9f3a"
             ],
             [
              0.8888888888888888,
              "#fdca26"
             ],
             [
              1,
              "#f0f921"
             ]
            ],
            "type": "contour"
           }
          ],
          "contourcarpet": [
           {
            "colorbar": {
             "outlinewidth": 0,
             "ticks": ""
            },
            "type": "contourcarpet"
           }
          ],
          "heatmap": [
           {
            "colorbar": {
             "outlinewidth": 0,
             "ticks": ""
            },
            "colorscale": [
             [
              0,
              "#0d0887"
             ],
             [
              0.1111111111111111,
              "#46039f"
             ],
             [
              0.2222222222222222,
              "#7201a8"
             ],
             [
              0.3333333333333333,
              "#9c179e"
             ],
             [
              0.4444444444444444,
              "#bd3786"
             ],
             [
              0.5555555555555556,
              "#d8576b"
             ],
             [
              0.6666666666666666,
              "#ed7953"
             ],
             [
              0.7777777777777778,
              "#fb9f3a"
             ],
             [
              0.8888888888888888,
              "#fdca26"
             ],
             [
              1,
              "#f0f921"
             ]
            ],
            "type": "heatmap"
           }
          ],
          "heatmapgl": [
           {
            "colorbar": {
             "outlinewidth": 0,
             "ticks": ""
            },
            "colorscale": [
             [
              0,
              "#0d0887"
             ],
             [
              0.1111111111111111,
              "#46039f"
             ],
             [
              0.2222222222222222,
              "#7201a8"
             ],
             [
              0.3333333333333333,
              "#9c179e"
             ],
             [
              0.4444444444444444,
              "#bd3786"
             ],
             [
              0.5555555555555556,
              "#d8576b"
             ],
             [
              0.6666666666666666,
              "#ed7953"
             ],
             [
              0.7777777777777778,
              "#fb9f3a"
             ],
             [
              0.8888888888888888,
              "#fdca26"
             ],
             [
              1,
              "#f0f921"
             ]
            ],
            "type": "heatmapgl"
           }
          ],
          "histogram": [
           {
            "marker": {
             "pattern": {
              "fillmode": "overlay",
              "size": 10,
              "solidity": 0.2
             }
            },
            "type": "histogram"
           }
          ],
          "histogram2d": [
           {
            "colorbar": {
             "outlinewidth": 0,
             "ticks": ""
            },
            "colorscale": [
             [
              0,
              "#0d0887"
             ],
             [
              0.1111111111111111,
              "#46039f"
             ],
             [
              0.2222222222222222,
              "#7201a8"
             ],
             [
              0.3333333333333333,
              "#9c179e"
             ],
             [
              0.4444444444444444,
              "#bd3786"
             ],
             [
              0.5555555555555556,
              "#d8576b"
             ],
             [
              0.6666666666666666,
              "#ed7953"
             ],
             [
              0.7777777777777778,
              "#fb9f3a"
             ],
             [
              0.8888888888888888,
              "#fdca26"
             ],
             [
              1,
              "#f0f921"
             ]
            ],
            "type": "histogram2d"
           }
          ],
          "histogram2dcontour": [
           {
            "colorbar": {
             "outlinewidth": 0,
             "ticks": ""
            },
            "colorscale": [
             [
              0,
              "#0d0887"
             ],
             [
              0.1111111111111111,
              "#46039f"
             ],
             [
              0.2222222222222222,
              "#7201a8"
             ],
             [
              0.3333333333333333,
              "#9c179e"
             ],
             [
              0.4444444444444444,
              "#bd3786"
             ],
             [
              0.5555555555555556,
              "#d8576b"
             ],
             [
              0.6666666666666666,
              "#ed7953"
             ],
             [
              0.7777777777777778,
              "#fb9f3a"
             ],
             [
              0.8888888888888888,
              "#fdca26"
             ],
             [
              1,
              "#f0f921"
             ]
            ],
            "type": "histogram2dcontour"
           }
          ],
          "mesh3d": [
           {
            "colorbar": {
             "outlinewidth": 0,
             "ticks": ""
            },
            "type": "mesh3d"
           }
          ],
          "parcoords": [
           {
            "line": {
             "colorbar": {
              "outlinewidth": 0,
              "ticks": ""
             }
            },
            "type": "parcoords"
           }
          ],
          "pie": [
           {
            "automargin": true,
            "type": "pie"
           }
          ],
          "scatter": [
           {
            "fillpattern": {
             "fillmode": "overlay",
             "size": 10,
             "solidity": 0.2
            },
            "type": "scatter"
           }
          ],
          "scatter3d": [
           {
            "line": {
             "colorbar": {
              "outlinewidth": 0,
              "ticks": ""
             }
            },
            "marker": {
             "colorbar": {
              "outlinewidth": 0,
              "ticks": ""
             }
            },
            "type": "scatter3d"
           }
          ],
          "scattercarpet": [
           {
            "marker": {
             "colorbar": {
              "outlinewidth": 0,
              "ticks": ""
             }
            },
            "type": "scattercarpet"
           }
          ],
          "scattergeo": [
           {
            "marker": {
             "colorbar": {
              "outlinewidth": 0,
              "ticks": ""
             }
            },
            "type": "scattergeo"
           }
          ],
          "scattergl": [
           {
            "marker": {
             "colorbar": {
              "outlinewidth": 0,
              "ticks": ""
             }
            },
            "type": "scattergl"
           }
          ],
          "scattermapbox": [
           {
            "marker": {
             "colorbar": {
              "outlinewidth": 0,
              "ticks": ""
             }
            },
            "type": "scattermapbox"
           }
          ],
          "scatterpolar": [
           {
            "marker": {
             "colorbar": {
              "outlinewidth": 0,
              "ticks": ""
             }
            },
            "type": "scatterpolar"
           }
          ],
          "scatterpolargl": [
           {
            "marker": {
             "colorbar": {
              "outlinewidth": 0,
              "ticks": ""
             }
            },
            "type": "scatterpolargl"
           }
          ],
          "scatterternary": [
           {
            "marker": {
             "colorbar": {
              "outlinewidth": 0,
              "ticks": ""
             }
            },
            "type": "scatterternary"
           }
          ],
          "surface": [
           {
            "colorbar": {
             "outlinewidth": 0,
             "ticks": ""
            },
            "colorscale": [
             [
              0,
              "#0d0887"
             ],
             [
              0.1111111111111111,
              "#46039f"
             ],
             [
              0.2222222222222222,
              "#7201a8"
             ],
             [
              0.3333333333333333,
              "#9c179e"
             ],
             [
              0.4444444444444444,
              "#bd3786"
             ],
             [
              0.5555555555555556,
              "#d8576b"
             ],
             [
              0.6666666666666666,
              "#ed7953"
             ],
             [
              0.7777777777777778,
              "#fb9f3a"
             ],
             [
              0.8888888888888888,
              "#fdca26"
             ],
             [
              1,
              "#f0f921"
             ]
            ],
            "type": "surface"
           }
          ],
          "table": [
           {
            "cells": {
             "fill": {
              "color": "#EBF0F8"
             },
             "line": {
              "color": "white"
             }
            },
            "header": {
             "fill": {
              "color": "#C8D4E3"
             },
             "line": {
              "color": "white"
             }
            },
            "type": "table"
           }
          ]
         },
         "layout": {
          "annotationdefaults": {
           "arrowcolor": "#2a3f5f",
           "arrowhead": 0,
           "arrowwidth": 1
          },
          "autotypenumbers": "strict",
          "coloraxis": {
           "colorbar": {
            "outlinewidth": 0,
            "ticks": ""
           }
          },
          "colorscale": {
           "diverging": [
            [
             0,
             "#8e0152"
            ],
            [
             0.1,
             "#c51b7d"
            ],
            [
             0.2,
             "#de77ae"
            ],
            [
             0.3,
             "#f1b6da"
            ],
            [
             0.4,
             "#fde0ef"
            ],
            [
             0.5,
             "#f7f7f7"
            ],
            [
             0.6,
             "#e6f5d0"
            ],
            [
             0.7,
             "#b8e186"
            ],
            [
             0.8,
             "#7fbc41"
            ],
            [
             0.9,
             "#4d9221"
            ],
            [
             1,
             "#276419"
            ]
           ],
           "sequential": [
            [
             0,
             "#0d0887"
            ],
            [
             0.1111111111111111,
             "#46039f"
            ],
            [
             0.2222222222222222,
             "#7201a8"
            ],
            [
             0.3333333333333333,
             "#9c179e"
            ],
            [
             0.4444444444444444,
             "#bd3786"
            ],
            [
             0.5555555555555556,
             "#d8576b"
            ],
            [
             0.6666666666666666,
             "#ed7953"
            ],
            [
             0.7777777777777778,
             "#fb9f3a"
            ],
            [
             0.8888888888888888,
             "#fdca26"
            ],
            [
             1,
             "#f0f921"
            ]
           ],
           "sequentialminus": [
            [
             0,
             "#0d0887"
            ],
            [
             0.1111111111111111,
             "#46039f"
            ],
            [
             0.2222222222222222,
             "#7201a8"
            ],
            [
             0.3333333333333333,
             "#9c179e"
            ],
            [
             0.4444444444444444,
             "#bd3786"
            ],
            [
             0.5555555555555556,
             "#d8576b"
            ],
            [
             0.6666666666666666,
             "#ed7953"
            ],
            [
             0.7777777777777778,
             "#fb9f3a"
            ],
            [
             0.8888888888888888,
             "#fdca26"
            ],
            [
             1,
             "#f0f921"
            ]
           ]
          },
          "colorway": [
           "#636efa",
           "#EF553B",
           "#00cc96",
           "#ab63fa",
           "#FFA15A",
           "#19d3f3",
           "#FF6692",
           "#B6E880",
           "#FF97FF",
           "#FECB52"
          ],
          "font": {
           "color": "#2a3f5f"
          },
          "geo": {
           "bgcolor": "white",
           "lakecolor": "white",
           "landcolor": "#E5ECF6",
           "showlakes": true,
           "showland": true,
           "subunitcolor": "white"
          },
          "hoverlabel": {
           "align": "left"
          },
          "hovermode": "closest",
          "mapbox": {
           "style": "light"
          },
          "paper_bgcolor": "white",
          "plot_bgcolor": "#E5ECF6",
          "polar": {
           "angularaxis": {
            "gridcolor": "white",
            "linecolor": "white",
            "ticks": ""
           },
           "bgcolor": "#E5ECF6",
           "radialaxis": {
            "gridcolor": "white",
            "linecolor": "white",
            "ticks": ""
           }
          },
          "scene": {
           "xaxis": {
            "backgroundcolor": "#E5ECF6",
            "gridcolor": "white",
            "gridwidth": 2,
            "linecolor": "white",
            "showbackground": true,
            "ticks": "",
            "zerolinecolor": "white"
           },
           "yaxis": {
            "backgroundcolor": "#E5ECF6",
            "gridcolor": "white",
            "gridwidth": 2,
            "linecolor": "white",
            "showbackground": true,
            "ticks": "",
            "zerolinecolor": "white"
           },
           "zaxis": {
            "backgroundcolor": "#E5ECF6",
            "gridcolor": "white",
            "gridwidth": 2,
            "linecolor": "white",
            "showbackground": true,
            "ticks": "",
            "zerolinecolor": "white"
           }
          },
          "shapedefaults": {
           "line": {
            "color": "#2a3f5f"
           }
          },
          "ternary": {
           "aaxis": {
            "gridcolor": "white",
            "linecolor": "white",
            "ticks": ""
           },
           "baxis": {
            "gridcolor": "white",
            "linecolor": "white",
            "ticks": ""
           },
           "bgcolor": "#E5ECF6",
           "caxis": {
            "gridcolor": "white",
            "linecolor": "white",
            "ticks": ""
           }
          },
          "title": {
           "x": 0.05
          },
          "xaxis": {
           "automargin": true,
           "gridcolor": "white",
           "linecolor": "white",
           "ticks": "",
           "title": {
            "standoff": 15
           },
           "zerolinecolor": "white",
           "zerolinewidth": 2
          },
          "yaxis": {
           "automargin": true,
           "gridcolor": "white",
           "linecolor": "white",
           "ticks": "",
           "title": {
            "standoff": 15
           },
           "zerolinecolor": "white",
           "zerolinewidth": 2
          }
         }
        },
        "width": 900,
        "xaxis": {
         "anchor": "y",
         "domain": [
          0.1,
          1
         ],
         "linecolor": "black",
         "matches": "x2",
         "mirror": true,
         "range": [
          540,
          -2
         ],
         "showline": true,
         "showticklabels": false,
         "ticks": "outside"
        },
        "xaxis2": {
         "anchor": "y3",
         "domain": [
          0.1,
          1
         ],
         "range": [
          540,
          -2
         ],
         "ticks": "outside",
         "title": {
          "text": "Time (Ma)"
         }
        },
        "yaxis": {
         "anchor": "x",
         "domain": [
          0.2008,
          1
         ],
         "linecolor": "black",
         "mirror": true,
         "range": [
          0,
          50
         ],
         "showline": true,
         "ticks": "outside",
         "title": {
          "text": "Occurence/million sq km"
         }
        },
        "yaxis2": {
         "anchor": "free",
         "dtick": 1,
         "linecolor": "#993d3d",
         "linewidth": 2,
         "mirror": true,
         "overlaying": "y",
         "position": 0,
         "showline": true,
         "side": "left",
         "tick0": 1,
         "tickcolor": "#993d3d",
         "tickfont": {
          "color": "#993d3d"
         },
         "ticks": "outside",
         "title": {
          "font": {
           "color": "#993d3d",
           "family": "Helvetica"
          },
          "text": "Thickness of shell beds [cm]"
         },
         "type": "log"
        },
        "yaxis3": {
         "anchor": "x2",
         "domain": [
          0,
          0.1998
         ],
         "showticklabels": false
        }
       }
      }
     },
     "metadata": {},
     "output_type": "display_data"
    }
   ],
   "source": [
    "shell_bed_color = '#993d3d'\n",
    "\n",
    "fig = make_subplots(rows=2, cols=1,\n",
    "                    row_heights = [0.8, 0.2],\n",
    "                    specs=[[{\"secondary_y\": True}], [{\"secondary_y\": False}]],\n",
    "                    shared_yaxes = True,shared_xaxes = True,vertical_spacing = 0.001)\n",
    "\n",
    "fig.add_trace(go.Bar(y=bioturb_hist['Occurrence/million square km'],x=bioturb_hist['mean_ma'],\n",
    "                     marker_color='lightslategray',\n",
    "                    showlegend=False),1,1)\n",
    "\n",
    "fig.add_trace(go.Box(y=bioturb_box['thick_shellbeds_total'],x=bioturb_box['mean_ma'],width=20,\n",
    "                     marker_color=shell_bed_color,\n",
    "                    showlegend=False),secondary_y=True,\n",
    "              row=1,col=1)\n",
    "fig.update_xaxes(range=(540,-2),ticks = 'outside',showline = True, showticklabels = False,mirror=True,\n",
    "                          linecolor = 'black',row=1,col=1)\n",
    "\n",
    "plot_utils.plot_time(fig,time_period,width_period,2,1)\n",
    "fig.update_xaxes(range=(540,-2),ticks = 'outside',title = 'Time (Ma)',row=2,col=1)\n",
    "fig.update_yaxes(ticks = 'outside',showline = True,title = 'Occurence/million sq km',\n",
    "                         mirror = True,linecolor = 'black',row=1,col=1)\n",
    "\n",
    "fig.update_layout(height = 500, width = 900,font_color = 'black',\n",
    "                 paper_bgcolor = 'white',\n",
    "                 plot_bgcolor = 'white',\n",
    "                 xaxis1=dict(domain=[0.1, 1]),\n",
    "                 xaxis2=dict(domain=[0.1, 1]),\n",
    "                 yaxis1=dict(range=(0,50)),\n",
    "                  yaxis2=dict(title='Thickness of shell beds [cm]',type='log',dtick=1,tick0=1,\n",
    "                  title_font_family='Helvetica',linewidth=2,\n",
    "                              overlaying='y1',side='left',anchor='free',position=0,linecolor=shell_bed_color,\n",
    "                             titlefont=dict(color=shell_bed_color),tickfont=dict(color=shell_bed_color),tickcolor=shell_bed_color),\n",
    "                              #range=(np.log(1),np.log(10)),\n",
    "                             \n",
    "                  \n",
    "                 legend=dict(\n",
    "                yanchor=\"top\",\n",
    "                    y=0.99,\n",
    "                    xanchor=\"left\",\n",
    "                    x=0.01))\n",
    "fig.show()\n",
    "# fig.write_image('./figures/Figure_S10.png',scale = 6)"
   ]
  },
  {
   "cell_type": "code",
   "execution_count": null,
   "id": "d1f73a8a-3175-4e25-9f0b-41cd9768ccbc",
   "metadata": {},
   "outputs": [],
   "source": []
  }
 ],
 "metadata": {
  "kernelspec": {
   "display_name": "research",
   "language": "python",
   "name": "python3"
  },
  "language_info": {
   "codemirror_mode": {
    "name": "ipython",
    "version": 3
   },
   "file_extension": ".py",
   "mimetype": "text/x-python",
   "name": "python",
   "nbconvert_exporter": "python",
   "pygments_lexer": "ipython3",
   "version": "3.9.21"
  }
 },
 "nbformat": 4,
 "nbformat_minor": 5
}
